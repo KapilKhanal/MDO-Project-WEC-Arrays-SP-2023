{
 "cells": [
  {
   "cell_type": "code",
   "execution_count": 14,
   "id": "8a1c0920",
   "metadata": {},
   "outputs": [],
   "source": [
    "import optimization_interfaces.Grad_interface as grad\n",
    "import time\n",
    "import numpy as np\n",
    "import matplotlib.pyplot as plt\n",
    "import pandas as pd\n",
    "import modules.model_nWECs as model"
   ]
  },
  {
   "cell_type": "code",
   "execution_count": 20,
   "id": "2728626d",
   "metadata": {},
   "outputs": [
    {
     "data": {
      "text/plain": [
       "29"
      ]
     },
     "execution_count": 20,
     "metadata": {},
     "output_type": "execute_result"
    }
   ],
   "source": [
    "df=pd.read_csv('./modules/Definitive_Screening_Design.csv')\n",
    "len(df)"
   ]
  },
  {
   "cell_type": "code",
   "execution_count": 16,
   "id": "0f12226a",
   "metadata": {},
   "outputs": [],
   "source": [
    "x0=df.iloc[0]\n",
    "\n",
    "# Parameters\n",
    "nwec = 4\n",
    "omega = 1.047\n",
    "A = 1.5\n",
    "rho_wec = 850\n",
    "p = [omega,A,rho_wec,nwec]"
   ]
  },
  {
   "cell_type": "code",
   "execution_count": 28,
   "id": "2fc9fbc5",
   "metadata": {},
   "outputs": [
    {
     "name": "stdout",
     "output_type": "stream",
     "text": [
      "\n",
      "\n",
      "\n",
      "\n",
      "\n",
      "\n",
      "\n",
      "\n",
      "\n",
      "\n",
      "\n",
      "\n",
      "\n",
      "\n",
      "\n",
      "\n",
      "\n",
      "\n",
      "\n",
      "\n",
      "\n",
      "\n",
      "\n",
      "\n",
      "\n",
      "\n",
      "\n",
      "\n",
      "\n",
      "0.0010328292846679688\n"
     ]
    }
   ],
   "source": [
    "start_time = time.time()\n",
    "LCOE=np.zeros(len(df))\n",
    "for i in range(len(df)):\n",
    "     LCOE[i]=model.run(df.iloc[i],p)\n",
    "\n",
    "#out=model.run(x0,p)\n",
    "print(LCOE)\n",
    "#X= grad.gradient_method(x0, p,limits)      #   Heuristic Optimization\n",
    "end_time = time.time()\n",
    "\n",
    "print(end_time-start_time)"
   ]
  },
  {
   "cell_type": "code",
   "execution_count": 23,
   "id": "269bcb11",
   "metadata": {},
   "outputs": [],
   "source": [
    "pd.DataFrame(LCOE).to_csv('LCOE_DOE.csv')"
   ]
  },
  {
   "cell_type": "code",
   "execution_count": null,
   "id": "32a93b13",
   "metadata": {},
   "outputs": [],
   "source": []
  }
 ],
 "metadata": {
  "kernelspec": {
   "display_name": "MDO",
   "language": "python",
   "name": "python3"
  },
  "language_info": {
   "codemirror_mode": {
    "name": "ipython",
    "version": 3
   },
   "file_extension": ".py",
   "mimetype": "text/x-python",
   "name": "python",
   "nbconvert_exporter": "python",
   "pygments_lexer": "ipython3",
   "version": "3.10.9"
  }
 },
 "nbformat": 4,
 "nbformat_minor": 5
}
