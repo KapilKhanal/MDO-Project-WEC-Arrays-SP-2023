{
 "cells": [
  {
   "cell_type": "code",
   "execution_count": 398,
   "id": "e6919821",
   "metadata": {},
   "outputs": [],
   "source": [
    "import capytaine as cpt\n",
    "import numpy as np\n",
    "import matplotlib.pyplot as plt\n",
    "from capytaine.bem.airy_waves import airy_waves_potential, airy_waves_velocity, froude_krylov_force\n",
    "\n"
   ]
  },
  {
   "cell_type": "code",
   "execution_count": 399,
   "id": "20283704",
   "metadata": {},
   "outputs": [],
   "source": [
    "#%%writefile pwa_utils.py\n",
    "def generate_body(xyz,r):\n",
    "    mesh1 = cpt.meshes.predefined.mesh_sphere(radius=r,center=(xyz[0],xyz[1],xyz[2]))\n",
    "    body = cpt.FloatingBody(mesh1)\n",
    "    body.add_translation_dof(name='Heave')\n",
    "    body = body.immersed_part()\n",
    "    body.name = f'{xyz[0]}_{xyz[1]}_{xyz[2]}'\n",
    "    return body\n",
    "\n",
    "\n",
    "def get_results(problems):\n",
    "    results = [solver.solve(pb, keep_details = True) for pb in sorted(problems)]\n",
    "    return results\n",
    "\n",
    "\n",
    "#calculate angle theta_ij from centre of one body to other\n",
    "def theta_ij(X,Y): \n",
    "    x1,y1= X[0],X[1]\n",
    "    x2,y2 = Y[0], Y[1]\n",
    "    if x2==x1:\n",
    "        theta = np.pi/2\n",
    "    else:\n",
    "        theta = np.arctan((y2-y1)/(x2-x1))\n",
    "    return theta\n",
    "\n",
    "\n",
    "#step 2\n",
    "def phi_j_star(phi_ij,theta,X,Y,z,k):\n",
    "    \n",
    "    '''phi_ij is the vector of all the effect at that body from all other bodies'''\n",
    "    x,y = X[0],X[1]\n",
    "    xj,yj = Y[0],Y[1]\n",
    "    res = phi_ij *np.exp(k*z)*np.exp(1j*k*(x-xj)*np.cos(theta) + (y-yj)*np.sin(theta))\n",
    "    return res\n",
    "\n",
    "\n",
    "def get_phistarj_sum(phi_starj,xyzees):\n",
    "    xyz_phi = {xyz:[] for xyz in xyzees}\n",
    "    for k,v in phi_starj.items():\n",
    "        for s,m in v.items():\n",
    "            xyz_phi[k].append(m)\n",
    "    xyz_phi = {k:sum(v) for k,v in xyz_phi.items()}\n",
    "    return xyz_phi\n",
    "\n",
    "p = 0\n",
    "omega = 1\n",
    "rho = 850 # density of our special material\n",
    "wave_amp = 1\n",
    "wave_num =  1.0/9.81"
   ]
  },
  {
   "cell_type": "markdown",
   "id": "b15b09f8",
   "metadata": {},
   "source": [
    "The method is based upon an idea due to Simon 3\n",
    "originally devised in connection with the theory of arrays\n",
    "of wave-power devices. A diverging wave scattered from\n",
    "one cylinder is replaced by a plane wave of appropriate\n",
    "amplitude in the neighbourhood of another cylinder. Once\n",
    "the amplitude and phase of the equivalent plane wave have\n",
    "been determined, the problem reduces to summing the\n",
    "effects of plane waves on any given cylinder"
   ]
  },
  {
   "cell_type": "markdown",
   "id": "43c39ca8",
   "metadata": {},
   "source": [
    "#### 1. Initialize the bodies and define diffraction and radiation problems and solve"
   ]
  },
  {
   "cell_type": "code",
   "execution_count": 415,
   "id": "2071aded",
   "metadata": {},
   "outputs": [],
   "source": [
    "#xyzees = {(0,0,0),(5,5,0),(10,10,0),(15,15,0)}\n",
    "\n",
    "def xyzees(x1,x2,x3,x4,y1,y2,y3,y4) :\n",
    "    d1 = np.sqrt((x4 - x1)**2 + (y4 - y1)**2)\n",
    "    d2 = np.sqrt((x3 - x1)**2 + (y3 - y1)**2)\n",
    "    d3 = np.sqrt((x2 - x1)**2 + (y2 - y1)**2)\n",
    "    d4 = np.sqrt((x3 - x2)**2 + (y3 - y2)**2)\n",
    "    d5 = np.sqrt((x4 - x3)**2 + (y4 - y3)**2)\n",
    "    d6 = np.sqrt((x4 - x2)**2 + (y4 - y2)**2)\n",
    "    xyzees = {(x1,y1,0),(x2,y2,0),(x3,y3,0),(x4,y4,0)}\n",
    "    return xyzees\n",
    "\n",
    "bodies = [generate_body(xyz) for xyz in xyzees ]\n",
    "\n",
    "neighbors = {(0,0,0):[(5,5,0),(10,10,0),(15,15,0)],  #so bad..need to write a funky func for it\n",
    "            (10,10,0):[(0,0,0),(5,5,0),(15,15,0)],\n",
    "             (5,5,0):[(0,0,0),(10,10,0),(15,15,0)],\n",
    "             (15,15,0):[(0,0,0),(10,10,0),(5,5,0)]     \n",
    "            }\n",
    "loc_bodies = {body:xyz for xyz,body in zip(xyzees,bodies)}\n",
    "loc_to_body = {xyz:body for xyz,body in zip(xyzees,bodies)}\n",
    "solver = cpt.BEMSolver()\n",
    "\n",
    "\n",
    "diff_problems = {body:cpt.DiffractionProblem(body=body, sea_bottom=-np.infty,\n",
    "                                      omega=omega, wave_direction=0.) for body in bodies}\n",
    "\n",
    "diff_loc= {generate_body(loc):loc for loc in xyzees }\n",
    "\n",
    "rad_problems = {body: cpt.RadiationProblem(body=body, sea_bottom=-np.infty,\n",
    "                                      omega=omega) for body in bodies}\n",
    "\n",
    "diff_results = {body.name:solver.solve(problem) for body,problem in diff_problems.items()}\n",
    "rad_results = {body.name:solver.solve(problem) for body,problem in rad_problems.items()}\n"
   ]
  },
  {
   "cell_type": "markdown",
   "id": "eee436e8",
   "metadata": {},
   "source": [
    "### 2. Get the Incident potentials, diffraction potentials, radiation potentials for each body at their own location and the location of other bodies\n",
    "Currently only incident potential can be generated at any other location from capytaine. But diffraction and radiation are available for the mesh\n",
    "However, according to simon(1982) we can approximate the impact of outgoing waves from a body on all other bodies by an incident plane wave of appropriately chosen amplitude.\n"
   ]
  },
  {
   "cell_type": "markdown",
   "id": "ae8c255b",
   "metadata": {},
   "source": [
    "#### find the location of neighbors to each floating body"
   ]
  },
  {
   "cell_type": "code",
   "execution_count": 416,
   "id": "17f6faac",
   "metadata": {},
   "outputs": [
    {
     "data": {
      "text/plain": [
       "{FloatingBody(mesh=sphere_1062, dofs={Heave}, name=10_10_0): [(0, 0, 0),\n",
       "  (5, 5, 0),\n",
       "  (15, 15, 0)],\n",
       " FloatingBody(mesh=sphere_1068, dofs={Heave}, name=0_0_0): [(5, 5, 0),\n",
       "  (10, 10, 0),\n",
       "  (15, 15, 0)],\n",
       " FloatingBody(mesh=sphere_1074, dofs={Heave}, name=5_5_0): [(0, 0, 0),\n",
       "  (10, 10, 0),\n",
       "  (15, 15, 0)],\n",
       " FloatingBody(mesh=sphere_1080, dofs={Heave}, name=15_15_0): [(0, 0, 0),\n",
       "  (10, 10, 0),\n",
       "  (5, 5, 0)]}"
      ]
     },
     "execution_count": 416,
     "metadata": {},
     "output_type": "execute_result"
    }
   ],
   "source": [
    "body_neighbors_locs = {body:neighbors.get(loc_bodies.get(body)) for body in bodies}\n",
    "body_neighbors_locs"
   ]
  },
  {
   "cell_type": "markdown",
   "id": "de1f8894",
   "metadata": {},
   "source": [
    "###  Get the potential of a body to other location"
   ]
  },
  {
   "cell_type": "code",
   "execution_count": 422,
   "id": "04fe5850",
   "metadata": {},
   "outputs": [
    {
     "data": {
      "text/plain": [
       "{FloatingBody(mesh=sphere_1062, dofs={Heave}, name=10_10_0): {(0,\n",
       "   0,\n",
       "   0): -9.81j,\n",
       "  (5, 5, 0): (4.78631304488035-8.563136541969198j),\n",
       "  (15, 15, 0): (9.801453837976808-0.409393040988372j)},\n",
       " FloatingBody(mesh=sphere_1068, dofs={Heave}, name=0_0_0): {(5,\n",
       "   5,\n",
       "   0): (4.78631304488035-8.563136541969198j),\n",
       "  (10, 10, 0): (8.355933157169986-5.139502025771294j),\n",
       "  (15, 15, 0): (9.801453837976808-0.409393040988372j)},\n",
       " FloatingBody(mesh=sphere_1074, dofs={Heave}, name=5_5_0): {(0, 0, 0): -9.81j,\n",
       "  (10, 10, 0): (8.355933157169986-5.139502025771294j),\n",
       "  (15, 15, 0): (9.801453837976808-0.409393040988372j)},\n",
       " FloatingBody(mesh=sphere_1080, dofs={Heave}, name=15_15_0): {(0,\n",
       "   0,\n",
       "   0): -9.81j,\n",
       "  (10, 10, 0): (8.355933157169986-5.139502025771294j),\n",
       "  (5, 5, 0): (4.78631304488035-8.563136541969198j)}}"
      ]
     },
     "execution_count": 422,
     "metadata": {},
     "output_type": "execute_result"
    }
   ],
   "source": [
    "body_potential_at_neighbors = {body:(dict(zip(body_neighbors_locs[body], \n",
    "                                      airy_waves_potential(np.array(body_neighbors_locs[body]),diff_problems[body])))) for body in bodies}\n",
    "body_potential_at_neighbors"
   ]
  },
  {
   "cell_type": "markdown",
   "id": "6ccd673e",
   "metadata": {},
   "source": [
    "### $\\phi_{ij}$ Get the all other potential at each location/body"
   ]
  },
  {
   "cell_type": "code",
   "execution_count": 423,
   "id": "5053af60",
   "metadata": {},
   "outputs": [
    {
     "data": {
      "text/plain": [
       "{(10, 10, 0): {(10, 10, 0): 0,\n",
       "  (0, 0, 0): (8.355933157169986-5.139502025771294j),\n",
       "  (5, 5, 0): (8.355933157169986-5.139502025771294j),\n",
       "  (15, 15, 0): (8.355933157169986-5.139502025771294j)},\n",
       " (0, 0, 0): {(10, 10, 0): -9.81j,\n",
       "  (0, 0, 0): 0,\n",
       "  (5, 5, 0): -9.81j,\n",
       "  (15, 15, 0): -9.81j},\n",
       " (5, 5, 0): {(10, 10, 0): (4.78631304488035-8.563136541969198j),\n",
       "  (0, 0, 0): (4.78631304488035-8.563136541969198j),\n",
       "  (5, 5, 0): 0,\n",
       "  (15, 15, 0): (4.78631304488035-8.563136541969198j)},\n",
       " (15, 15, 0): {(10, 10, 0): (9.801453837976808-0.409393040988372j),\n",
       "  (0, 0, 0): (9.801453837976808-0.409393040988372j),\n",
       "  (5, 5, 0): (9.801453837976808-0.409393040988372j),\n",
       "  (15, 15, 0): 0}}"
      ]
     },
     "execution_count": 423,
     "metadata": {},
     "output_type": "execute_result"
    }
   ],
   "source": [
    "# def get_all_other_phi(body_potential_at_neighbors):\n",
    "all_other_phi_each_loc = {xyz:{loc_bodies.get(d):k.get(xyz,0) for d,k in body_potential_at_neighbors.items()} for xyz in xyzees}\n",
    "all_other_phi_each_loc"
   ]
  },
  {
   "cell_type": "markdown",
   "id": "09092ce1",
   "metadata": {},
   "source": [
    "### $\\phi_j^*$ get the total effect of each bodies"
   ]
  },
  {
   "cell_type": "code",
   "execution_count": null,
   "id": "abdcc0d5",
   "metadata": {},
   "outputs": [],
   "source": []
  },
  {
   "cell_type": "code",
   "execution_count": 424,
   "id": "bb84ea89",
   "metadata": {},
   "outputs": [
    {
     "data": {
      "text/plain": [
       "{(10, 10, 0): {(10, 10, 0): 1.5707963267948966,\n",
       "  (0, 0, 0): 0.7853981633974483,\n",
       "  (5, 5, 0): 0.7853981633974483,\n",
       "  (15, 15, 0): 0.7853981633974483},\n",
       " (0, 0, 0): {(10, 10, 0): 0.7853981633974483,\n",
       "  (0, 0, 0): 1.5707963267948966,\n",
       "  (5, 5, 0): 0.7853981633974483,\n",
       "  (15, 15, 0): 0.7853981633974483},\n",
       " (5, 5, 0): {(10, 10, 0): 0.7853981633974483,\n",
       "  (0, 0, 0): 0.7853981633974483,\n",
       "  (5, 5, 0): 1.5707963267948966,\n",
       "  (15, 15, 0): 0.7853981633974483},\n",
       " (15, 15, 0): {(10, 10, 0): 0.7853981633974483,\n",
       "  (0, 0, 0): 0.7853981633974483,\n",
       "  (5, 5, 0): 0.7853981633974483,\n",
       "  (15, 15, 0): 1.5707963267948966}}"
      ]
     },
     "execution_count": 424,
     "metadata": {},
     "output_type": "execute_result"
    }
   ],
   "source": [
    "#step 2\n",
    "\n",
    "thetas = {k:{s:theta_ij(k,s) for s,m in v.items()} for k,v in all_other_phi_each_loc.items()}\n",
    "thetas"
   ]
  },
  {
   "cell_type": "code",
   "execution_count": 425,
   "id": "46fc875a",
   "metadata": {},
   "outputs": [
    {
     "data": {
      "text/plain": [
       "{(10, 10, 0): {(0, 0, 0): (0.0024508233898185737-0.00796327665513729j),\n",
       "  (10, 10, 0): 0j,\n",
       "  (5, 5, 0): (0.1750534680839285-0.2260355652628886j),\n",
       "  (15, 15, 0): (330.49066021169506-63.912059009019785j)},\n",
       " (0, 0, 0): {(0, 0, 0): 0j,\n",
       "  (10, 10, 0): (7623.078615263059-8677.500134439013j),\n",
       "  (5, 5, 0): (118.70667937207196-314.988177629559j),\n",
       "  (15, 15, 0): (349771.3422179954-186381.20333507293j)},\n",
       " (5, 5, 0): {(0, 0, 0): (0.042520874079842966-0.2827149955687011j),\n",
       "  (10, 10, 0): (257.3020925054289-217.03562142252642j),\n",
       "  (5, 5, 0): 0j,\n",
       "  (15, 15, 0): (10887.940381557542-3855.2678772451914j)},\n",
       " (15, 15, 0): {(0, 0, 0): (0.00010514678977658235-0.00021887121014465565j),\n",
       "  (10, 10, 0): (0.26308702588915334-0.11189732016775249j),\n",
       "  (5, 5, 0): (0.006024614705580329-0.005755373838739027j),\n",
       "  (15, 15, 0): 0j}}"
      ]
     },
     "execution_count": 425,
     "metadata": {},
     "output_type": "execute_result"
    }
   ],
   "source": [
    "z = 0\n",
    "phi_starj = {xyz:{nbros:phi_j_star(all_other_phi_each_loc[xyz][nbros],thetas[xyz][nbros],nbros,xyz,z,wave_num) for nbros in neighbors} for xyz in xyzees}\n",
    "phi_starj"
   ]
  },
  {
   "cell_type": "markdown",
   "id": "03269320",
   "metadata": {},
   "source": [
    "### Get the Total potential on the body surface"
   ]
  },
  {
   "cell_type": "code",
   "execution_count": 426,
   "id": "dad614bc",
   "metadata": {},
   "outputs": [
    {
     "data": {
      "text/plain": [
       "{(10, 10, 0): (330.6681645031688-64.14605785093781j),\n",
       " (0, 0, 0): (357513.1275126305-195373.6916471415j),\n",
       " (5, 5, 0): (11145.284994937052-4072.5862136632863j),\n",
       " (15, 15, 0): (0.26921678738451027-0.11787156521663618j)}"
      ]
     },
     "execution_count": 426,
     "metadata": {},
     "output_type": "execute_result"
    }
   ],
   "source": [
    "\n",
    "\n",
    "new_excitation = get_phistarj_sum(phi_starj,xyzees)\n",
    "new_excitation     "
   ]
  },
  {
   "cell_type": "markdown",
   "id": "19cc4376",
   "metadata": {},
   "source": [
    "Having computed this effect at each body in the array we then compute the contribution of all the bodies as isolated ( as in step 1) induced by new excitation"
   ]
  },
  {
   "cell_type": "markdown",
   "id": "dfef575a",
   "metadata": {},
   "source": [
    "#### Get the all other potential at each location/body with new excitation\n",
    "If new excitation is the potential and we have this new excitation **at** each location, how do we go from getting the contribution of this $\\phi$ to other location?\n",
    "\n",
    "- Logical thing seem here is to apply the phi_starj function to the other location with xyz and get new excitation until the 2*times the number of bodies as suggested in the paper. ok! let's just do that\n",
    "\n",
    "- First thing is to somehow calculate the potential to the neighbor as with the airywave potential earlier but this time its new excitation from lsat time.\n",
    "\n",
    "- Calculate new `body_potential_at_neighbors` from earlier to loop it back in a while loop. The potential at other location this time is not going to be the airywave potential calculation but just the  calculation function `phi_j_star` but keep new potential at each neigbors in the format `body_potential_at_neighbors` \n",
    "\n"
   ]
  },
  {
   "cell_type": "code",
   "execution_count": 427,
   "id": "ca01740a",
   "metadata": {},
   "outputs": [
    {
     "ename": "KeyError",
     "evalue": "(7, 11, 0)",
     "output_type": "error",
     "traceback": [
      "\u001b[0;31m---------------------------------------------------------------------------\u001b[0m",
      "\u001b[0;31mKeyError\u001b[0m                                  Traceback (most recent call last)",
      "Cell \u001b[0;32mIn[427], line 1\u001b[0m\n\u001b[0;32m----> 1\u001b[0m body_potential_at_neighbors \u001b[38;5;241m=\u001b[39m \u001b[43m{\u001b[49m\u001b[43mbody\u001b[49m\u001b[43m:\u001b[49m\u001b[43m{\u001b[49m\u001b[43mnbros\u001b[49m\u001b[43m \u001b[49m\u001b[43m:\u001b[49m\u001b[43m \u001b[49m\u001b[43mphi_j_star\u001b[49m\u001b[43m(\u001b[49m\u001b[43mnew_excitation\u001b[49m\u001b[43m[\u001b[49m\u001b[43mxyz\u001b[49m\u001b[43m]\u001b[49m\u001b[43m,\u001b[49m\u001b[43mthetas\u001b[49m\u001b[43m[\u001b[49m\u001b[43mloc_bodies\u001b[49m\u001b[43m[\u001b[49m\u001b[43mbody\u001b[49m\u001b[43m]\u001b[49m\u001b[43m]\u001b[49m\u001b[43m[\u001b[49m\u001b[43mnbros\u001b[49m\u001b[43m]\u001b[49m\u001b[43m,\u001b[49m\u001b[43mnbros\u001b[49m\u001b[43m,\u001b[49m\u001b[43mxyz\u001b[49m\u001b[43m,\u001b[49m\u001b[43mz\u001b[49m\u001b[43m,\u001b[49m\u001b[43mwave_num\u001b[49m\u001b[43m)\u001b[49m\n\u001b[1;32m      2\u001b[0m \u001b[43m                                              \u001b[49m\u001b[38;5;28;43;01mfor\u001b[39;49;00m\u001b[43m \u001b[49m\u001b[43mnbros\u001b[49m\u001b[43m \u001b[49m\u001b[38;5;129;43;01min\u001b[39;49;00m\u001b[43m \u001b[49m\u001b[43mneighbors\u001b[49m\u001b[43m}\u001b[49m\u001b[43m \u001b[49m\u001b[38;5;28;43;01mfor\u001b[39;49;00m\u001b[43m \u001b[49m\u001b[43mbody\u001b[49m\u001b[43m \u001b[49m\u001b[38;5;129;43;01min\u001b[39;49;00m\u001b[43m \u001b[49m\u001b[43mbodies\u001b[49m\n\u001b[1;32m      3\u001b[0m \u001b[43m                                          \u001b[49m\u001b[43m}\u001b[49m\n",
      "Cell \u001b[0;32mIn[427], line 1\u001b[0m, in \u001b[0;36m<dictcomp>\u001b[0;34m(.0)\u001b[0m\n\u001b[0;32m----> 1\u001b[0m body_potential_at_neighbors \u001b[38;5;241m=\u001b[39m {body:\u001b[43m{\u001b[49m\u001b[43mnbros\u001b[49m\u001b[43m \u001b[49m\u001b[43m:\u001b[49m\u001b[43m \u001b[49m\u001b[43mphi_j_star\u001b[49m\u001b[43m(\u001b[49m\u001b[43mnew_excitation\u001b[49m\u001b[43m[\u001b[49m\u001b[43mxyz\u001b[49m\u001b[43m]\u001b[49m\u001b[43m,\u001b[49m\u001b[43mthetas\u001b[49m\u001b[43m[\u001b[49m\u001b[43mloc_bodies\u001b[49m\u001b[43m[\u001b[49m\u001b[43mbody\u001b[49m\u001b[43m]\u001b[49m\u001b[43m]\u001b[49m\u001b[43m[\u001b[49m\u001b[43mnbros\u001b[49m\u001b[43m]\u001b[49m\u001b[43m,\u001b[49m\u001b[43mnbros\u001b[49m\u001b[43m,\u001b[49m\u001b[43mxyz\u001b[49m\u001b[43m,\u001b[49m\u001b[43mz\u001b[49m\u001b[43m,\u001b[49m\u001b[43mwave_num\u001b[49m\u001b[43m)\u001b[49m\n\u001b[1;32m      2\u001b[0m \u001b[43m                                              \u001b[49m\u001b[38;5;28;43;01mfor\u001b[39;49;00m\u001b[43m \u001b[49m\u001b[43mnbros\u001b[49m\u001b[43m \u001b[49m\u001b[38;5;129;43;01min\u001b[39;49;00m\u001b[43m \u001b[49m\u001b[43mneighbors\u001b[49m\u001b[43m}\u001b[49m \u001b[38;5;28;01mfor\u001b[39;00m body \u001b[38;5;129;01min\u001b[39;00m bodies\n\u001b[1;32m      3\u001b[0m                                           }\n",
      "Cell \u001b[0;32mIn[427], line 1\u001b[0m, in \u001b[0;36m<dictcomp>\u001b[0;34m(.0)\u001b[0m\n\u001b[0;32m----> 1\u001b[0m body_potential_at_neighbors \u001b[38;5;241m=\u001b[39m {body:{nbros : phi_j_star(\u001b[43mnew_excitation\u001b[49m\u001b[43m[\u001b[49m\u001b[43mxyz\u001b[49m\u001b[43m]\u001b[49m,thetas[loc_bodies[body]][nbros],nbros,xyz,z,wave_num)\n\u001b[1;32m      2\u001b[0m                                               \u001b[38;5;28;01mfor\u001b[39;00m nbros \u001b[38;5;129;01min\u001b[39;00m neighbors} \u001b[38;5;28;01mfor\u001b[39;00m body \u001b[38;5;129;01min\u001b[39;00m bodies\n\u001b[1;32m      3\u001b[0m                                           }\n",
      "\u001b[0;31mKeyError\u001b[0m: (7, 11, 0)"
     ]
    }
   ],
   "source": [
    "body_potential_at_neighbors = {body:{nbros : phi_j_star(new_excitation[xyz],thetas[loc_bodies[body]][nbros],nbros,xyz,z,wave_num)\n",
    "                                              for nbros in neighbors} for body in bodies\n",
    "                                          }"
   ]
  },
  {
   "cell_type": "code",
   "execution_count": 428,
   "id": "138507bc",
   "metadata": {},
   "outputs": [
    {
     "data": {
      "text/plain": [
       "{FloatingBody(mesh=sphere_1062, dofs={Heave}, name=10_10_0): {(0,\n",
       "   0,\n",
       "   0): -9.81j,\n",
       "  (5, 5, 0): (4.78631304488035-8.563136541969198j),\n",
       "  (15, 15, 0): (9.801453837976808-0.409393040988372j)},\n",
       " FloatingBody(mesh=sphere_1068, dofs={Heave}, name=0_0_0): {(5,\n",
       "   5,\n",
       "   0): (4.78631304488035-8.563136541969198j),\n",
       "  (10, 10, 0): (8.355933157169986-5.139502025771294j),\n",
       "  (15, 15, 0): (9.801453837976808-0.409393040988372j)},\n",
       " FloatingBody(mesh=sphere_1074, dofs={Heave}, name=5_5_0): {(0, 0, 0): -9.81j,\n",
       "  (10, 10, 0): (8.355933157169986-5.139502025771294j),\n",
       "  (15, 15, 0): (9.801453837976808-0.409393040988372j)},\n",
       " FloatingBody(mesh=sphere_1080, dofs={Heave}, name=15_15_0): {(0,\n",
       "   0,\n",
       "   0): -9.81j,\n",
       "  (10, 10, 0): (8.355933157169986-5.139502025771294j),\n",
       "  (5, 5, 0): (4.78631304488035-8.563136541969198j)}}"
      ]
     },
     "execution_count": 428,
     "metadata": {},
     "output_type": "execute_result"
    }
   ],
   "source": [
    "                           \n",
    "body_potential_at_neighbors"
   ]
  },
  {
   "cell_type": "code",
   "execution_count": null,
   "id": "dd86f6f5",
   "metadata": {},
   "outputs": [],
   "source": []
  },
  {
   "cell_type": "markdown",
   "id": "5a1d7a05",
   "metadata": {},
   "source": [
    "### Now we basically while loop the whole thing until the max-iteration"
   ]
  },
  {
   "cell_type": "code",
   "execution_count": 429,
   "id": "03f50ece",
   "metadata": {},
   "outputs": [
    {
     "name": "stdout",
     "output_type": "stream",
     "text": [
      "{FloatingBody(mesh=sphere_1062, dofs={Heave}, name=10_10_0): {(0, 0, 0): (0.1750355630550878-0.22628437392475026j), (10, 10, 0): (330.6681645031688-64.14605785093781j), (5, 5, 0): (8.358368975482286-5.147707656097085j), (15, 15, 0): (11393.591035602245+1941.617728607751j)}, FloatingBody(mesh=sphere_1068, dofs={Heave}, name=0_0_0): {(0, 0, 0): (357513.1275126305-195373.6916471415j), (10, 10, 0): (468060063.48979473+104994438.47945282j), (5, 5, 0): (13843483.250350958-1947115.8909015274j), (15, 15, 0): (13758394013.80172+9035052265.182096j)}, FloatingBody(mesh=sphere_1074, dofs={Heave}, name=5_5_0): {(0, 0, 0): (262.08665957685287-225.60690485881582j), (10, 10, 0): (407143.3430782609+4098.191918786222j), (5, 5, 0): (11145.284994937052-4072.5862136632863j), (15, 15, 0): (13023328.941500422+5058258.54121705j)}, FloatingBody(mesh=sphere_1080, dofs={Heave}, name=15_15_0): {(0, 0, 0): (5.58883363034053e-07-7.252885026054282e-06j), (10, 10, 0): (0.006130379530982646-0.0059812944929139135j), (5, 5, 0): (0.000105709230309878-0.0002261192506352176j), (15, 15, 0): (0.26921678738451027-0.11787156521663618j)}}\n",
      "/n\n",
      "{FloatingBody(mesh=sphere_1062, dofs={Heave}, name=10_10_0): {(0, 0, 0): (123.60970258658904-334.1382714454281j), (10, 10, 0): (368989.34988885815-199510.54179022097j), (5, 5, 0): (8012.236453566996-9233.058905877971j), (15, 15, 0): (14262030.255030302-1941076.608299869j)}, FloatingBody(mesh=sphere_1068, dofs={Heave}, name=0_0_0): {(0, 0, 0): (368989.3498888581-199510.54179022094j), (10, 10, 0): (481426062.98753417+110253014.1886779j), (5, 5, 0): (14262030.2550303-1941076.608299869j), (15, 15, 0): (14123929565.618416+9365635608.346348j)}, FloatingBody(mesh=sphere_1074, dofs={Heave}, name=5_5_0): {(0, 0, 0): (8012.236453566995-9233.05890587797j), (10, 10, 0): (14262030.2550303-1941076.608299869j), (5, 5, 0): (368989.3498888581-199510.54179022094j), (15, 15, 0): (481426062.98753417+110253014.1886779j)}, FloatingBody(mesh=sphere_1080, dofs={Heave}, name=15_15_0): {(0, 0, 0): (-0.06310201677036442-10.38263034701357j), (10, 10, 0): (8012.236453566992-9233.058905877971j), (5, 5, 0): (123.60970258658898-334.138271445428j), (15, 15, 0): (368989.34988885804-199510.54179022097j)}}\n",
      "/n\n",
      "{FloatingBody(mesh=sphere_1062, dofs={Heave}, name=10_10_0): {(0, 0, 0): (494.43881034635615-1336.5530857817123j), (10, 10, 0): (1475957.3995554326-798042.1671608839j), (5, 5, 0): (32048.945814267983-36932.235623511886j), (15, 15, 0): (57048121.02012121-7764306.433199476j)}, FloatingBody(mesh=sphere_1068, dofs={Heave}, name=0_0_0): {(0, 0, 0): (1475957.3995554326-798042.1671608839j), (10, 10, 0): (1925704251.9501367+441012056.75471175j), (5, 5, 0): (57048121.02012121-7764306.433199476j), (15, 15, 0): (56495718262.47368+37462542433.38539j)}, FloatingBody(mesh=sphere_1074, dofs={Heave}, name=5_5_0): {(0, 0, 0): (32048.945814267987-36932.235623511886j), (10, 10, 0): (57048121.02012121-7764306.433199473j), (5, 5, 0): (1475957.3995554326-798042.1671608838j), (15, 15, 0): (1925704251.9501367+441012056.75471187j)}, FloatingBody(mesh=sphere_1080, dofs={Heave}, name=15_15_0): {(0, 0, 0): (-0.2524080670814577-41.53052138805428j), (10, 10, 0): (32048.94581426797-36932.235623511886j), (5, 5, 0): (494.4388103463559-1336.553085781712j), (15, 15, 0): (1475957.3995554321-798042.1671608839j)}}\n",
      "/n\n",
      "{FloatingBody(mesh=sphere_1062, dofs={Heave}, name=10_10_0): {(0, 0, 0): (1977.7552413854246-5346.212343126849j), (10, 10, 0): (5903829.59822173-3192168.6686435356j), (5, 5, 0): (128195.78325707193-147728.94249404754j), (15, 15, 0): (228192484.08048484-31057225.732797906j)}, FloatingBody(mesh=sphere_1068, dofs={Heave}, name=0_0_0): {(0, 0, 0): (5903829.59822173-3192168.6686435356j), (10, 10, 0): (7702817007.800547+1764048227.018847j), (5, 5, 0): (228192484.08048484-31057225.732797906j), (15, 15, 0): (225982873049.8947+149850169733.54156j)}, FloatingBody(mesh=sphere_1074, dofs={Heave}, name=5_5_0): {(0, 0, 0): (128195.78325707195-147728.94249404754j), (10, 10, 0): (228192484.08048484-31057225.73279789j), (5, 5, 0): (5903829.59822173-3192168.668643535j), (15, 15, 0): (7702817007.800547+1764048227.0188475j)}, FloatingBody(mesh=sphere_1080, dofs={Heave}, name=15_15_0): {(0, 0, 0): (-1.0096322683258023-166.1220855522172j), (10, 10, 0): (128195.78325707193-147728.94249404754j), (5, 5, 0): (1977.7552413854246-5346.212343126849j), (15, 15, 0): (5903829.59822173-3192168.6686435356j)}}\n",
      "/n\n",
      "{FloatingBody(mesh=sphere_1062, dofs={Heave}, name=10_10_0): {(0, 0, 0): (7911.020965541698-21384.849372507397j), (10, 10, 0): (23615318.39288692-12768674.674574142j), (5, 5, 0): (512783.13302828773-590915.7699761902j), (15, 15, 0): (912769936.3219393-124228902.93119162j)}, FloatingBody(mesh=sphere_1068, dofs={Heave}, name=0_0_0): {(0, 0, 0): (23615318.39288692-12768674.674574142j), (10, 10, 0): (30811268031.202187+7056192908.075388j), (5, 5, 0): (912769936.3219393-124228902.93119162j), (15, 15, 0): (903931492199.5789+599400678934.1663j)}, FloatingBody(mesh=sphere_1074, dofs={Heave}, name=5_5_0): {(0, 0, 0): (512783.13302828773-590915.7699761902j), (10, 10, 0): (912769936.3219393-124228902.93119162j), (5, 5, 0): (23615318.39288692-12768674.674574142j), (15, 15, 0): (30811268031.202187+7056192908.075388j)}, FloatingBody(mesh=sphere_1080, dofs={Heave}, name=15_15_0): {(0, 0, 0): (-4.038529073303209-664.4883422088687j), (10, 10, 0): (512783.13302828773-590915.7699761902j), (5, 5, 0): (7911.020965541698-21384.849372507397j), (15, 15, 0): (23615318.39288692-12768674.674574142j)}}\n",
      "/n\n",
      "{FloatingBody(mesh=sphere_1062, dofs={Heave}, name=10_10_0): {(0, 0, 0): (31644.083862166794-85539.39749002959j), (10, 10, 0): (94461273.57154769-51074698.69829657j), (5, 5, 0): (2051132.532113151-2363663.0799047607j), (15, 15, 0): (3651079745.2877574-496915611.7247665j)}, FloatingBody(mesh=sphere_1068, dofs={Heave}, name=0_0_0): {(0, 0, 0): (94461273.57154769-51074698.69829657j), (10, 10, 0): (123245072124.80875+28224771632.30155j), (5, 5, 0): (3651079745.2877574-496915611.7247665j), (15, 15, 0): (3615725968798.3154+2397602715736.665j)}, FloatingBody(mesh=sphere_1074, dofs={Heave}, name=5_5_0): {(0, 0, 0): (2051132.532113151-2363663.0799047607j), (10, 10, 0): (3651079745.2877574-496915611.7247665j), (5, 5, 0): (94461273.57154769-51074698.69829657j), (15, 15, 0): (123245072124.80875+28224771632.30155j)}, FloatingBody(mesh=sphere_1080, dofs={Heave}, name=15_15_0): {(0, 0, 0): (-16.154116293212837-2657.953368835475j), (10, 10, 0): (2051132.532113151-2363663.0799047607j), (5, 5, 0): (31644.083862166794-85539.39749002959j), (15, 15, 0): (94461273.57154769-51074698.69829657j)}}\n",
      "/n\n",
      "{FloatingBody(mesh=sphere_1062, dofs={Heave}, name=10_10_0): {(0, 0, 0): (126576.33544866717-342157.58996011835j), (10, 10, 0): (377845094.28619075-204298794.79318628j), (5, 5, 0): (8204530.128452604-9454652.319619043j), (15, 15, 0): (14604318981.15103-1987662446.899066j)}, FloatingBody(mesh=sphere_1068, dofs={Heave}, name=0_0_0): {(0, 0, 0): (377845094.28619075-204298794.79318628j), (10, 10, 0): (492980288499.235+112899086529.2062j), (5, 5, 0): (14604318981.15103-1987662446.899066j), (15, 15, 0): (14462903875193.262+9590410862946.66j)}, FloatingBody(mesh=sphere_1074, dofs={Heave}, name=5_5_0): {(0, 0, 0): (8204530.128452604-9454652.319619043j), (10, 10, 0): (14604318981.15103-1987662446.899066j), (5, 5, 0): (377845094.28619075-204298794.79318628j), (15, 15, 0): (492980288499.235+112899086529.2062j)}, FloatingBody(mesh=sphere_1080, dofs={Heave}, name=15_15_0): {(0, 0, 0): (-64.61646517285135-10631.8134753419j), (10, 10, 0): (8204530.128452604-9454652.319619043j), (5, 5, 0): (126576.33544866717-342157.58996011835j), (15, 15, 0): (377845094.28619075-204298794.79318628j)}}\n",
      "/n\n",
      "{FloatingBody(mesh=sphere_1062, dofs={Heave}, name=10_10_0): {(0, 0, 0): (506305.3417946687-1368630.3598404734j), (10, 10, 0): (1511380377.144763-817195179.1727451j), (5, 5, 0): (32818120.513810415-37818609.27847617j), (15, 15, 0): (58417275924.60412-7950649787.596264j)}, FloatingBody(mesh=sphere_1068, dofs={Heave}, name=0_0_0): {(0, 0, 0): (1511380377.144763-817195179.1727451j), (10, 10, 0): (1971921153996.94+451596346116.8248j), (5, 5, 0): (58417275924.60412-7950649787.596264j), (15, 15, 0): (57851615500773.05+38361643451786.64j)}, FloatingBody(mesh=sphere_1074, dofs={Heave}, name=5_5_0): {(0, 0, 0): (32818120.513810415-37818609.27847617j), (10, 10, 0): (58417275924.60412-7950649787.596264j), (5, 5, 0): (1511380377.144763-817195179.1727451j), (15, 15, 0): (1971921153996.94+451596346116.8248j)}, FloatingBody(mesh=sphere_1080, dofs={Heave}, name=15_15_0): {(0, 0, 0): (-258.4658606914054-42527.2539013676j), (10, 10, 0): (32818120.513810415-37818609.27847617j), (5, 5, 0): (506305.3417946687-1368630.3598404734j), (15, 15, 0): (1511380377.144763-817195179.1727451j)}}\n",
      "/n\n"
     ]
    }
   ],
   "source": [
    "N_bodies = 4\n",
    "max_iteration = 2*N_bodies #(dead or alive lol)\n",
    "\n",
    "body_potential_at_neighbors = {body:(dict(zip(body_neighbors_locs[body], \n",
    "                                      airy_waves_potential(np.array(body_neighbors_locs[body]),diff_problems[body])))) for body in bodies}\n",
    "iterate = 0\n",
    "while iterate<max_iteration:\n",
    "    # def get_all_other_phi(body_potential_at_neighbors):\n",
    "    all_other_phi_each_loc = {xyz:{loc_bodies.get(d):k.get(xyz,0) for d,k in body_potential_at_neighbors.items()} for xyz in xyzees}\n",
    "    thetas = {k:{s:theta_ij(k,s) for s,m in v.items()} for k,v in all_other_phi_each_loc.items()}\n",
    "    phi_starj = {xyz:{nbros:phi_j_star(all_other_phi_each_loc[xyz][nbros],thetas[xyz][nbros],nbros,xyz,z,wave_num) for nbros in neighbors} for xyz in xyzees}\n",
    "    \n",
    "    new_excitation = get_phistarj_sum(phi_starj,xyzees)\n",
    "    body_potential_at_neighbors = {body:{nbros : phi_j_star(new_excitation[xyz],thetas[loc_bodies[body]][nbros],nbros,xyz,z,wave_num)\n",
    "                                              for nbros in neighbors} for xyz,body in loc_to_body.items()}\n",
    "    \n",
    "    print(body_potential_at_neighbors)\n",
    "    print(\"/n\")\n",
    "    \n",
    "    iterate+=1\n",
    "\n",
    "new_potential = get_phistarj_sum(phi_starj,xyzees)\n",
    "    "
   ]
  },
  {
   "cell_type": "code",
   "execution_count": 430,
   "id": "2029fd40",
   "metadata": {},
   "outputs": [
    {
     "data": {
      "text/plain": [
       "{FloatingBody(mesh=sphere_1062, dofs={Heave}, name=10_10_0): {(0,\n",
       "   0,\n",
       "   0): (506305.3417946687-1368630.3598404734j),\n",
       "  (10, 10, 0): (1511380377.144763-817195179.1727451j),\n",
       "  (5, 5, 0): (32818120.513810415-37818609.27847617j),\n",
       "  (15, 15, 0): (58417275924.60412-7950649787.596264j)},\n",
       " FloatingBody(mesh=sphere_1068, dofs={Heave}, name=0_0_0): {(0,\n",
       "   0,\n",
       "   0): (1511380377.144763-817195179.1727451j),\n",
       "  (10, 10, 0): (1971921153996.94+451596346116.8248j),\n",
       "  (5, 5, 0): (58417275924.60412-7950649787.596264j),\n",
       "  (15, 15, 0): (57851615500773.05+38361643451786.64j)},\n",
       " FloatingBody(mesh=sphere_1074, dofs={Heave}, name=5_5_0): {(0,\n",
       "   0,\n",
       "   0): (32818120.513810415-37818609.27847617j),\n",
       "  (10, 10, 0): (58417275924.60412-7950649787.596264j),\n",
       "  (5, 5, 0): (1511380377.144763-817195179.1727451j),\n",
       "  (15, 15, 0): (1971921153996.94+451596346116.8248j)},\n",
       " FloatingBody(mesh=sphere_1080, dofs={Heave}, name=15_15_0): {(0,\n",
       "   0,\n",
       "   0): (-258.4658606914054-42527.2539013676j),\n",
       "  (10, 10, 0): (32818120.513810415-37818609.27847617j),\n",
       "  (5, 5, 0): (506305.3417946687-1368630.3598404734j),\n",
       "  (15, 15, 0): (1511380377.144763-817195179.1727451j)}}"
      ]
     },
     "execution_count": 430,
     "metadata": {},
     "output_type": "execute_result"
    }
   ],
   "source": [
    "body_potential_at_neighbors "
   ]
  },
  {
   "cell_type": "code",
   "execution_count": 431,
   "id": "ec96f546",
   "metadata": {},
   "outputs": [
    {
     "data": {
      "text/plain": [
       "(1511380377.144763-817195179.1727451j)"
      ]
     },
     "execution_count": 431,
     "metadata": {},
     "output_type": "execute_result"
    }
   ],
   "source": [
    "new_potential[(10, 10, 0)]"
   ]
  },
  {
   "cell_type": "code",
   "execution_count": 432,
   "id": "5fbf7b23",
   "metadata": {},
   "outputs": [],
   "source": [
    "# function to input new potential from plane-wave approximation\n",
    "def solve(body,new_potential,keep_details=True):\n",
    "        \"\"\"Solve the linear potential flow problem.\n",
    "        Parameters\n",
    "        ----------\n",
    "        problem: LinearPotentialFlowProblem\n",
    "            the problem to be solved\n",
    "        keep_details: bool, optional\n",
    "            if True, store the sources and the potential on the floating body in the output object\n",
    "            (default: True)\n",
    "        Returns\n",
    "        -------\n",
    "        LinearPotentialFlowResult\n",
    "            an object storing the problem data and its results\n",
    "        \"\"\"\n",
    "\n",
    "        potential = new_potential\n",
    "        rho = 1000\n",
    "        new_pressure = rho * new_potential\n",
    "        # Actually, for diffraction problems: pressure over jω\n",
    "        #           for radiation problems:   pressure over -ω²\n",
    "        # The correction is done in `store_force` in the `result` object.\n",
    "\n",
    "        new_forces = body.integrate_pressure(new_pressure)\n",
    "\n",
    "#         if not keep_details:\n",
    "#             result = problem.make_results_container(new_forces)\n",
    "#         else:\n",
    "#             result = problem.make_results_container(new_forces, sources, new_potential, new_pressure)\n",
    "\n",
    "\n",
    "        return new_forces\n",
    "    \n",
    "\n",
    "    \n"
   ]
  },
  {
   "cell_type": "code",
   "execution_count": 433,
   "id": "fca24817",
   "metadata": {},
   "outputs": [
    {
     "ename": "KeyError",
     "evalue": "(7, 11, 0)",
     "output_type": "error",
     "traceback": [
      "\u001b[0;31m---------------------------------------------------------------------------\u001b[0m",
      "\u001b[0;31mKeyError\u001b[0m                                  Traceback (most recent call last)",
      "Cell \u001b[0;32mIn[433], line 1\u001b[0m\n\u001b[0;32m----> 1\u001b[0m new_results \u001b[38;5;241m=\u001b[39m \u001b[43m[\u001b[49m\u001b[43msolve\u001b[49m\u001b[43m(\u001b[49m\u001b[43mdiff_prob\u001b[49m\u001b[43m,\u001b[49m\u001b[43m \u001b[49m\u001b[43mnew_potential\u001b[49m\u001b[43m[\u001b[49m\u001b[43mloc\u001b[49m\u001b[43m]\u001b[49m\u001b[43m)\u001b[49m\u001b[43m \u001b[49m\u001b[38;5;28;43;01mfor\u001b[39;49;00m\u001b[43m \u001b[49m\u001b[43mdiff_prob\u001b[49m\u001b[43m,\u001b[49m\u001b[43mloc\u001b[49m\u001b[43m \u001b[49m\u001b[38;5;129;43;01min\u001b[39;49;00m\u001b[43m \u001b[49m\u001b[43mloc_diff\u001b[49m\u001b[38;5;241;43m.\u001b[39;49m\u001b[43mitems\u001b[49m\u001b[43m(\u001b[49m\u001b[43m)\u001b[49m\u001b[43m]\u001b[49m\n\u001b[1;32m      2\u001b[0m new_results\n",
      "Cell \u001b[0;32mIn[433], line 1\u001b[0m, in \u001b[0;36m<listcomp>\u001b[0;34m(.0)\u001b[0m\n\u001b[0;32m----> 1\u001b[0m new_results \u001b[38;5;241m=\u001b[39m [solve(diff_prob, \u001b[43mnew_potential\u001b[49m\u001b[43m[\u001b[49m\u001b[43mloc\u001b[49m\u001b[43m]\u001b[49m) \u001b[38;5;28;01mfor\u001b[39;00m diff_prob,loc \u001b[38;5;129;01min\u001b[39;00m loc_diff\u001b[38;5;241m.\u001b[39mitems()]\n\u001b[1;32m      2\u001b[0m new_results\n",
      "\u001b[0;31mKeyError\u001b[0m: (7, 11, 0)"
     ]
    }
   ],
   "source": [
    "new_results = [solve(diff_prob, new_potential[loc]) for diff_prob,loc in loc_diff.items()]\n",
    "new_results\n",
    "    "
   ]
  },
  {
   "cell_type": "markdown",
   "id": "c286326f",
   "metadata": {},
   "source": [
    "Somehow keep track of the delta and use the last one before it got less than 10e-2??"
   ]
  },
  {
   "cell_type": "code",
   "execution_count": 434,
   "id": "33c09a57",
   "metadata": {},
   "outputs": [
    {
     "name": "stdout",
     "output_type": "stream",
     "text": [
      "Overwriting interaction_phi.py\n"
     ]
    }
   ],
   "source": [
    "%%writefile interaction_phi.py\n",
    "def interaction_phi(radius):\n",
    "    '''takes radius = 0.5m for now..look at the default xyz for now.. and create its neighbor and provide it..\n",
    "    for now lets go with this'''\n",
    "    def generate_body(xyz):\n",
    "        mesh1 = cpt.meshes.predefined.mesh_sphere(radius=radius,center=(xyz[0],xyz[1],xyz[2]))\n",
    "        body = cpt.FloatingBody(mesh1)\n",
    "        body.add_translation_dof(name='Heave')\n",
    "        body = body.immersed_part()\n",
    "        body.name = f'{xyz[0]}_{xyz[1]}_{xyz[2]}'\n",
    "        return body\n",
    "\n",
    "\n",
    "    def get_results(problems):\n",
    "        results = [solver.solve(pb, keep_details = True) for pb in sorted(problems)]\n",
    "        return results\n",
    "\n",
    "\n",
    "    #calculate angle theta_ij from centre of one body to other\n",
    "    def theta_ij(X,Y): \n",
    "        x1,y1= X[0],X[1]\n",
    "        x2,y2 = Y[0], Y[1]\n",
    "        if x2==x1:\n",
    "            theta = np.pi/2\n",
    "        else:\n",
    "            theta = np.arctan((y2-y1)/(x2-x1))\n",
    "        return theta\n",
    "\n",
    "\n",
    "    #step 2\n",
    "    def phi_j_star(phi_ij,theta,X,Y,z,k):\n",
    "\n",
    "        '''phi_ij is the vector of all the effect at that body from all other bodies'''\n",
    "        x,y = X[0],X[1]\n",
    "        xj,yj = Y[0],Y[1]\n",
    "        res = phi_ij *np.exp(k*z)*np.exp(1j*k*(x-xj)*np.cos(theta) + (y-yj)*np.sin(theta))\n",
    "        return res\n",
    "\n",
    "\n",
    "    def get_phistarj_sum(phi_starj,xyzees):\n",
    "        xyz_phi = {xyz:[] for xyz in xyzees}\n",
    "        for k,v in phi_starj.items():\n",
    "            for s,m in v.items():\n",
    "                xyz_phi[k].append(m)\n",
    "        xyz_phi = {k:sum(v) for k,v in xyz_phi.items()}\n",
    "        return xyz_phi\n",
    "    \n",
    "    \n",
    "    xyzees = {(0,0,0),(10,10,0),(5,5,0),(7,11,0)}\n",
    "    \n",
    "    bodies = [generate_body(xyz) for xyz in xyzees ]\n",
    "\n",
    "    neighbors = {(0,0,0):[(10,10,0),(5,5,0),(7,11,0),(0,0,0)],  #so bad..need to write a funky func for it\n",
    "                (10,10,0):[(0,0,0),(5,5,0),(7,11,0),(10,10,0)],\n",
    "                 (5,5,0):[(0,0,0),(10,10,0),(7,11,0),(5,5,0)],\n",
    "                 (7,11,0):[(0,0,0),(10,10,0),(5,5,0),(7,11,0)]     \n",
    "                }\n",
    "    loc_bodies = {body:xyz for xyz,body in zip(xyzees,bodies)}\n",
    "    loc_to_body = {xyz:body for xyz,body in zip(xyzees,bodies)}\n",
    "    solver = cpt.BEMSolver()\n",
    "\n",
    "\n",
    "    diff_problems = {body:cpt.DiffractionProblem(body=body, sea_bottom=-np.infty,\n",
    "                                          omega=omega, wave_direction=0.) for body in bodies}\n",
    "\n",
    "    rad_problems = {body: cpt.RadiationProblem(body=body, sea_bottom=-np.infty,\n",
    "                                          omega=omega) for body in bodies}\n",
    "\n",
    "    diff_results = {body.name:solver.solve(problem) for body,problem in diff_problems.items()}\n",
    "    rad_results = {body.name:solver.solve(problem) for body,problem in rad_problems.items()}\n",
    "    body_neighbors_locs = {body:neighbors.get(loc_bodies.get(body)) for body in bodies}\n",
    "    body_potential_at_neighbors = {body:(dict(zip(body_neighbors_locs[body], \n",
    "                                      airy_waves_potential(np.array(body_neighbors_locs[body]),diff_problems[body])))) for body in bodies}\n",
    "    \n",
    "    # def get_all_other_phi(body_potential_at_neighbors):\n",
    "    all_other_phi_each_loc = {xyz:{loc_bodies.get(d):k.get(xyz,0) for d,k in body_potential_at_neighbors.items()} for xyz in xyzees}\n",
    "    thetas = {k:{s:theta_ij(k,s) for s,m in v.items()} for k,v in all_other_phi_each_loc.items()}\n",
    "    z = 0\n",
    "    phi_starj = {xyz:{nbros:phi_j_star(all_other_phi_each_loc[xyz][nbros],thetas[xyz][nbros],nbros,xyz,z,wave_num) for nbros in neighbors} for xyz in xyzees}\n",
    "    new_excitation = get_phistarj_sum(phi_starj,xyzees)\n",
    "    body_potential_at_neighbors = {body:{nbros : phi_j_star(new_excitation[xyz],thetas[loc_bodies[body]][nbros],nbros,xyz,z,wave_num)\n",
    "                                              for nbros in neighbors} for body in bodies }\n",
    "    \n",
    "    \n",
    "    N_bodies = 4\n",
    "    max_iteration = 2*N_bodies #(dead or alive lol)\n",
    "\n",
    "    body_potential_at_neighbors = {body:(dict(zip(body_neighbors_locs[body], \n",
    "                                      airy_waves_potential(np.array(body_neighbors_locs[body]),diff_problems[body])))) for body in bodies}\n",
    "    iterate = 0\n",
    "    while iterate<max_iteration:\n",
    "        # def get_all_other_phi(body_potential_at_neighbors):\n",
    "        all_other_phi_each_loc = {xyz:{loc_bodies.get(d):k.get(xyz,0) for d,k in body_potential_at_neighbors.items()} for xyz in xyzees}\n",
    "        thetas = {k:{s:theta_ij(k,s) for s,m in v.items()} for k,v in all_other_phi_each_loc.items()}\n",
    "        phi_starj = {xyz:{nbros:phi_j_star(all_other_phi_each_loc[xyz][nbros],thetas[xyz][nbros],nbros,xyz,z,wave_num) for nbros in neighbors} for xyz in xyzees}\n",
    "\n",
    "        new_excitation = get_phistarj_sum(phi_starj,xyzees)\n",
    "        body_potential_at_neighbors = {body:{nbros : phi_j_star(new_excitation[xyz],thetas[loc_bodies[body]][nbros],nbros,xyz,z,wave_num)\n",
    "                                                  for nbros in neighbors} for body in bodies}\n",
    "\n",
    "        print(body_potential_at_neighbors)\n",
    "        print(\"/n\")\n",
    "\n",
    "        iterate+=1\n",
    "    new_potential = get_phistarj_sum(phi_starj,xyzees)\n",
    "    return new_potential\n",
    "\n",
    "\n",
    "    \n",
    "    \n",
    "\n",
    "\n"
   ]
  },
  {
   "cell_type": "code",
   "execution_count": null,
   "id": "814bcd56",
   "metadata": {},
   "outputs": [],
   "source": [
    "\n",
    "\n"
   ]
  }
 ],
 "metadata": {
  "kernelspec": {
   "display_name": "Python 3 (ipykernel)",
   "language": "python",
   "name": "python3"
  },
  "language_info": {
   "codemirror_mode": {
    "name": "ipython",
    "version": 3
   },
   "file_extension": ".py",
   "mimetype": "text/x-python",
   "name": "python",
   "nbconvert_exporter": "python",
   "pygments_lexer": "ipython3",
   "version": "3.11.0"
  }
 },
 "nbformat": 4,
 "nbformat_minor": 5
}
