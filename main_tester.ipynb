{
 "cells": [
  {
   "cell_type": "markdown",
   "metadata": {},
   "source": [
    "#### Working space to use as a stand in for a main file"
   ]
  },
  {
   "cell_type": "code",
   "execution_count": 2,
   "metadata": {},
   "outputs": [],
   "source": [
    "#Our Modules\n",
    "import modules.wec_dyn as wec_dyn\n",
    "import modules.time_avg_power \n",
    "import Econ\n",
    "import capy\n",
    "#Other packages:\n",
    "\n"
   ]
  },
  {
   "cell_type": "code",
   "execution_count": null,
   "metadata": {},
   "outputs": [],
   "source": [
    "# Variables and Parameters:\n",
    "K_p = 100 #N/m : Proportional gain\n",
    "K_I = 10 #N/m.s : Integral Gain\n",
    "L = 100 #m : WEC spacing\n",
    "d = 0.36 #m : WEC diameter\n",
    "S= 0 # Spectral density function or array?\n",
    "k = 1000 # N/m : spring constant\n",
    "s = 10 #MPa : Nominal stiffness\n",
    "b = 10 #N.s/m : nominal damping\n",
    "\n",
    "# Constraints\n",
    "P_min = 10000 #W : minimum power Watts\n",
    "LCOE_max = 200 #$/MWhr\n",
    "\n",
    "# Define design vector\n",
    "x=[L,d,K_p,K_I,k,s,b,S]\n",
    "# Define parameters\n",
    "p=[]\n",
    "# Should some of these be internal variables determined during optimization? \n",
    "#...ex: control tuning parameters\n"
   ]
  },
  {
   "cell_type": "code",
   "execution_count": 4,
   "metadata": {},
   "outputs": [
    {
     "name": "stdout",
     "output_type": "stream",
     "text": [
      "test\n"
     ]
    }
   ],
   "source": [
    "def evaluate(x,p):\n",
    "    out1 = wec_dyn(x,p)\n",
    "    out2 = capy(x,p,out1)\n",
    "    out3 = time_avg_power(x,p,out2)\n",
    "    out4 = econ(x,p,out3)\n",
    "    y = out4\n",
    "    # Define order of modules. connect inputs and outputs\n",
    "    \n",
    "    return y"
   ]
  },
  {
   "cell_type": "code",
   "execution_count": null,
   "metadata": {},
   "outputs": [],
   "source": [
    "# Build optimization framework down here. \n",
    "\n",
    "\n"
   ]
  }
 ],
 "metadata": {
  "kernelspec": {
   "display_name": "Python 3 (ipykernel)",
   "language": "python",
   "name": "python3"
  },
  "language_info": {
   "codemirror_mode": {
    "name": "ipython",
    "version": 3
   },
   "file_extension": ".py",
   "mimetype": "text/x-python",
   "name": "python",
   "nbconvert_exporter": "python",
   "pygments_lexer": "ipython3",
   "version": "3.10.9"
  }
 },
 "nbformat": 4,
 "nbformat_minor": 2
}
