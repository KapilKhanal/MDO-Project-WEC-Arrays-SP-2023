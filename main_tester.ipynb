{
 "cells": [
  {
   "cell_type": "markdown",
   "metadata": {},
   "source": [
    "#### Working space to use as a stand in for a main file"
   ]
  },
  {
   "cell_type": "code",
   "execution_count": 1,
   "metadata": {},
   "outputs": [],
   "source": [
    "#Our Modules\n",
    "import modules.wec_dyn as wec_dyn\n",
    "import modules.time_avg_power \n",
    "import Econ\n",
    "#import capy\n",
    "#Other packages:\n",
    "import numpy as np\n"
   ]
  },
  {
   "cell_type": "code",
   "execution_count": 5,
   "metadata": {},
   "outputs": [],
   "source": [
    "# Variables and Parameters:\n",
    "K_p = 100 #N/m : Proportional gain\n",
    "K_I = 10 #N/m.s : Integral Gain\n",
    "L = 100 #m : WEC spacing\n",
    "d = 0.36 #m : WEC diameter\n",
    "S= 0 # Spectral density function or array?\n",
    "k = 1000 # N/m : spring constant\n",
    "s = 10 #MPa : Nominal stiffness\n",
    "b = 10 #N.s/m : nominal damping\n",
    "\n",
    "# Constraints\n",
    "P_min = 10000 #W : minimum power Watts\n",
    "LCOE_max = 200 #$/MWhr\n",
    "\n",
    "# Define design vector\n",
    "x=[L,d,k,s]\n",
    "# Define parameters\n",
    "p=[]\n",
    "# Should some of these be internal variables determined during optimization? \n",
    "#...ex: control tuning parameters\n"
   ]
  },
  {
   "cell_type": "code",
   "execution_count": 9,
   "metadata": {},
   "outputs": [
    {
     "name": "stdout",
     "output_type": "stream",
     "text": [
      "[  3. 300. 200.  20.]\n",
      "[  3. 400. 300.  30.]\n",
      "[  3. 200. 100.  10.]\n",
      "[  4. 300. 300.  30.]\n",
      "[  2. 300. 300.  30.]\n",
      "[  4. 200. 200.  30.]\n",
      "[  2. 400. 200.  10.]\n",
      "[  4. 200. 100.  20.]\n",
      "[  2. 400. 300.  20.]\n",
      "[  4. 400. 100.  10.]\n",
      "[  2. 200. 300.  30.]\n",
      "[  4. 200. 300.  10.]\n",
      "[  2. 400. 100.  30.]\n",
      "[  4. 400. 100.  30.]\n",
      "[  2. 200. 300.  10.]\n",
      "[  4. 400. 300.  10.]\n",
      "[  2. 200. 100.  30.]\n"
     ]
    }
   ],
   "source": [
    "# Build DoE input vectors\n",
    "x1=[0,0,0,1,-1,1,-1,1,-1,1,-1,1,-1,1,-1,1,-1]\n",
    "x2=[0,1,-1,0,0,-1,1,-1,1,1,-1,-1,1,1,-1,1,-1]\n",
    "x3=[0,1,-1,1,1,0,0,-1,1,-1,1,1,-1,-1,1,1,-1]\n",
    "x4=[0,1,-1,1,1,1,-1,0,0,-1,1,-1,1,1,-1,-1,1]\n",
    "x=np.zeros([17,4])\n",
    "r_doe=[2,3,4]\n",
    "L_doe=[200,300,400]\n",
    "k_doe=[100,200,300]\n",
    "s_doe=[10,20,30]\n",
    "\n",
    "for i in range(np.size(x1)):\n",
    "    x[i]=[r_doe[x1[i]+1],L_doe[x2[i]+1],k_doe[x3[i]+1],s_doe[x4[i]+1]]\n",
    "    print(x[i])"
   ]
  },
  {
   "cell_type": "code",
   "execution_count": 8,
   "metadata": {},
   "outputs": [
    {
     "data": {
      "text/plain": [
       "17"
      ]
     },
     "execution_count": 8,
     "metadata": {},
     "output_type": "execute_result"
    }
   ],
   "source": [
    "\n"
   ]
  },
  {
   "cell_type": "code",
   "execution_count": 4,
   "metadata": {},
   "outputs": [
    {
     "name": "stdout",
     "output_type": "stream",
     "text": [
      "test\n"
     ]
    }
   ],
   "source": [
    "def evaluate(x,p):\n",
    "    out1 = wec_dyn(x,p)\n",
    "    out2 = capy(x,p,out1)\n",
    "    out3 = time_avg_power(x,p,out2)\n",
    "    out4 = econ(x,p,out3)\n",
    "    y = out4\n",
    "    # Define order of modules. connect inputs and outputs\n",
    "    \n",
    "    return y"
   ]
  },
  {
   "cell_type": "code",
   "execution_count": null,
   "metadata": {},
   "outputs": [],
   "source": [
    "# Build optimization framework down here. \n",
    "\n",
    "\n"
   ]
  }
 ],
 "metadata": {
  "kernelspec": {
   "display_name": "Python 3 (ipykernel)",
   "language": "python",
   "name": "python3"
  },
  "language_info": {
   "codemirror_mode": {
    "name": "ipython",
    "version": 3
   },
   "file_extension": ".py",
   "mimetype": "text/x-python",
   "name": "python",
   "nbconvert_exporter": "python",
   "pygments_lexer": "ipython3",
   "version": "3.10.9"
  }
 },
 "nbformat": 4,
 "nbformat_minor": 2
}
