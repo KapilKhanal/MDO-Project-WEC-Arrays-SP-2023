{
 "cells": [
  {
   "cell_type": "markdown",
   "metadata": {},
   "source": [
    "#### Working space to use as a stand in for a main file"
   ]
  },
  {
   "cell_type": "code",
   "execution_count": 1,
   "metadata": {},
   "outputs": [
    {
     "name": "stderr",
     "output_type": "stream",
     "text": [
      "Deprecation warning: The class Sphere() is deprecated. Please prefer the function capytaine.meshes.predefined.mesh_sphere()\n",
      "Deprecation warning: The class Sphere() is deprecated. Please prefer the function capytaine.meshes.predefined.mesh_sphere()\n",
      "Deprecation warning: The class Sphere() is deprecated. Please prefer the function capytaine.meshes.predefined.mesh_sphere()\n"
     ]
    },
    {
     "name": "stdout",
     "output_type": "stream",
     "text": [
      "9.783994988045858\n"
     ]
    },
    {
     "name": "stderr",
     "output_type": "stream",
     "text": [
      "Deprecation warning: The class Sphere() is deprecated. Please prefer the function capytaine.meshes.predefined.mesh_sphere()\n",
      "Deprecation warning: The class Sphere() is deprecated. Please prefer the function capytaine.meshes.predefined.mesh_sphere()\n"
     ]
    },
    {
     "name": "stdout",
     "output_type": "stream",
     "text": [
      "14.080692224274078\n"
     ]
    },
    {
     "name": "stderr",
     "output_type": "stream",
     "text": [
      "Deprecation warning: The class Sphere() is deprecated. Please prefer the function capytaine.meshes.predefined.mesh_sphere()\n",
      "Deprecation warning: The class Sphere() is deprecated. Please prefer the function capytaine.meshes.predefined.mesh_sphere()\n"
     ]
    },
    {
     "name": "stdout",
     "output_type": "stream",
     "text": [
      "9.784265416639908\n"
     ]
    },
    {
     "name": "stderr",
     "output_type": "stream",
     "text": [
      "Deprecation warning: The class Sphere() is deprecated. Please prefer the function capytaine.meshes.predefined.mesh_sphere()\n",
      "Deprecation warning: The class Sphere() is deprecated. Please prefer the function capytaine.meshes.predefined.mesh_sphere()\n"
     ]
    },
    {
     "name": "stdout",
     "output_type": "stream",
     "text": [
      "9.623726479421961\n"
     ]
    },
    {
     "name": "stderr",
     "output_type": "stream",
     "text": [
      "Deprecation warning: The class Sphere() is deprecated. Please prefer the function capytaine.meshes.predefined.mesh_sphere()\n",
      "Deprecation warning: The class Sphere() is deprecated. Please prefer the function capytaine.meshes.predefined.mesh_sphere()\n"
     ]
    },
    {
     "name": "stdout",
     "output_type": "stream",
     "text": [
      "9.783829197154823\n"
     ]
    },
    {
     "name": "stderr",
     "output_type": "stream",
     "text": [
      "Deprecation warning: The class Sphere() is deprecated. Please prefer the function capytaine.meshes.predefined.mesh_sphere()\n",
      "Deprecation warning: The class Sphere() is deprecated. Please prefer the function capytaine.meshes.predefined.mesh_sphere()\n"
     ]
    },
    {
     "name": "stdout",
     "output_type": "stream",
     "text": [
      "9.46878383118462\n"
     ]
    },
    {
     "name": "stderr",
     "output_type": "stream",
     "text": [
      "Deprecation warning: The class Sphere() is deprecated. Please prefer the function capytaine.meshes.predefined.mesh_sphere()\n",
      "Deprecation warning: The class Sphere() is deprecated. Please prefer the function capytaine.meshes.predefined.mesh_sphere()\n"
     ]
    },
    {
     "name": "stdout",
     "output_type": "stream",
     "text": [
      "9.78374645573161\n"
     ]
    },
    {
     "name": "stderr",
     "output_type": "stream",
     "text": [
      "Deprecation warning: The class Sphere() is deprecated. Please prefer the function capytaine.meshes.predefined.mesh_sphere()\n",
      "Deprecation warning: The class Sphere() is deprecated. Please prefer the function capytaine.meshes.predefined.mesh_sphere()\n"
     ]
    },
    {
     "name": "stdout",
     "output_type": "stream",
     "text": [
      "6.429298322940309\n"
     ]
    },
    {
     "name": "stderr",
     "output_type": "stream",
     "text": [
      "Deprecation warning: The class Sphere() is deprecated. Please prefer the function capytaine.meshes.predefined.mesh_sphere()\n",
      "Deprecation warning: The class Sphere() is deprecated. Please prefer the function capytaine.meshes.predefined.mesh_sphere()\n"
     ]
    },
    {
     "name": "stdout",
     "output_type": "stream",
     "text": [
      "4.058043130032637\n"
     ]
    },
    {
     "name": "stderr",
     "output_type": "stream",
     "text": [
      "Deprecation warning: The class Sphere() is deprecated. Please prefer the function capytaine.meshes.predefined.mesh_sphere()\n",
      "Deprecation warning: The class Sphere() is deprecated. Please prefer the function capytaine.meshes.predefined.mesh_sphere()\n"
     ]
    },
    {
     "name": "stdout",
     "output_type": "stream",
     "text": [
      "7.330284092029675\n"
     ]
    },
    {
     "name": "stderr",
     "output_type": "stream",
     "text": [
      "Deprecation warning: The class Sphere() is deprecated. Please prefer the function capytaine.meshes.predefined.mesh_sphere()\n",
      "Deprecation warning: The class Sphere() is deprecated. Please prefer the function capytaine.meshes.predefined.mesh_sphere()\n"
     ]
    },
    {
     "name": "stdout",
     "output_type": "stream",
     "text": [
      "6.630025721319021\n"
     ]
    },
    {
     "name": "stderr",
     "output_type": "stream",
     "text": [
      "Deprecation warning: The class Sphere() is deprecated. Please prefer the function capytaine.meshes.predefined.mesh_sphere()\n",
      "Deprecation warning: The class Sphere() is deprecated. Please prefer the function capytaine.meshes.predefined.mesh_sphere()\n"
     ]
    },
    {
     "name": "stdout",
     "output_type": "stream",
     "text": [
      "5.779377911440581\n"
     ]
    },
    {
     "name": "stderr",
     "output_type": "stream",
     "text": [
      "Deprecation warning: The class Sphere() is deprecated. Please prefer the function capytaine.meshes.predefined.mesh_sphere()\n",
      "Deprecation warning: The class Sphere() is deprecated. Please prefer the function capytaine.meshes.predefined.mesh_sphere()\n"
     ]
    },
    {
     "name": "stdout",
     "output_type": "stream",
     "text": [
      "4.778307369340944\n"
     ]
    },
    {
     "name": "stderr",
     "output_type": "stream",
     "text": [
      "Deprecation warning: The class Sphere() is deprecated. Please prefer the function capytaine.meshes.predefined.mesh_sphere()\n",
      "Deprecation warning: The class Sphere() is deprecated. Please prefer the function capytaine.meshes.predefined.mesh_sphere()\n"
     ]
    },
    {
     "name": "stdout",
     "output_type": "stream",
     "text": [
      "3.7385414727990747\n"
     ]
    },
    {
     "name": "stderr",
     "output_type": "stream",
     "text": [
      "Deprecation warning: The class Sphere() is deprecated. Please prefer the function capytaine.meshes.predefined.mesh_sphere()\n",
      "Deprecation warning: The class Sphere() is deprecated. Please prefer the function capytaine.meshes.predefined.mesh_sphere()\n"
     ]
    },
    {
     "name": "stdout",
     "output_type": "stream",
     "text": [
      "2.137726016449044\n"
     ]
    },
    {
     "name": "stderr",
     "output_type": "stream",
     "text": [
      "Deprecation warning: The class Sphere() is deprecated. Please prefer the function capytaine.meshes.predefined.mesh_sphere()\n",
      "Deprecation warning: The class Sphere() is deprecated. Please prefer the function capytaine.meshes.predefined.mesh_sphere()\n"
     ]
    },
    {
     "name": "stdout",
     "output_type": "stream",
     "text": [
      "2.182443008504121\n"
     ]
    },
    {
     "name": "stderr",
     "output_type": "stream",
     "text": [
      "Deprecation warning: The class Sphere() is deprecated. Please prefer the function capytaine.meshes.predefined.mesh_sphere()\n",
      "Deprecation warning: The class Sphere() is deprecated. Please prefer the function capytaine.meshes.predefined.mesh_sphere()\n"
     ]
    },
    {
     "name": "stdout",
     "output_type": "stream",
     "text": [
      "1.9634224154672666\n"
     ]
    },
    {
     "name": "stderr",
     "output_type": "stream",
     "text": [
      "Deprecation warning: The class Sphere() is deprecated. Please prefer the function capytaine.meshes.predefined.mesh_sphere()\n",
      "Deprecation warning: The class Sphere() is deprecated. Please prefer the function capytaine.meshes.predefined.mesh_sphere()\n"
     ]
    },
    {
     "name": "stdout",
     "output_type": "stream",
     "text": [
      "0.9469595052606952\n"
     ]
    },
    {
     "name": "stderr",
     "output_type": "stream",
     "text": [
      "Deprecation warning: The class Sphere() is deprecated. Please prefer the function capytaine.meshes.predefined.mesh_sphere()\n",
      "Deprecation warning: The class Sphere() is deprecated. Please prefer the function capytaine.meshes.predefined.mesh_sphere()\n"
     ]
    },
    {
     "name": "stdout",
     "output_type": "stream",
     "text": [
      "1.1092750483557736\n"
     ]
    },
    {
     "name": "stderr",
     "output_type": "stream",
     "text": [
      "Deprecation warning: The class Sphere() is deprecated. Please prefer the function capytaine.meshes.predefined.mesh_sphere()\n",
      "Deprecation warning: The class Sphere() is deprecated. Please prefer the function capytaine.meshes.predefined.mesh_sphere()\n"
     ]
    },
    {
     "name": "stdout",
     "output_type": "stream",
     "text": [
      "0.782331353051622\n"
     ]
    },
    {
     "name": "stderr",
     "output_type": "stream",
     "text": [
      "Deprecation warning: The class Sphere() is deprecated. Please prefer the function capytaine.meshes.predefined.mesh_sphere()\n",
      "Deprecation warning: The class Sphere() is deprecated. Please prefer the function capytaine.meshes.predefined.mesh_sphere()\n"
     ]
    },
    {
     "name": "stdout",
     "output_type": "stream",
     "text": [
      "0.7843475322869146\n"
     ]
    },
    {
     "name": "stderr",
     "output_type": "stream",
     "text": [
      "Deprecation warning: The class Sphere() is deprecated. Please prefer the function capytaine.meshes.predefined.mesh_sphere()\n",
      "Deprecation warning: The class Sphere() is deprecated. Please prefer the function capytaine.meshes.predefined.mesh_sphere()\n"
     ]
    },
    {
     "name": "stdout",
     "output_type": "stream",
     "text": [
      "0.6624291301379159\n"
     ]
    },
    {
     "name": "stderr",
     "output_type": "stream",
     "text": [
      "Deprecation warning: The class Sphere() is deprecated. Please prefer the function capytaine.meshes.predefined.mesh_sphere()\n",
      "Deprecation warning: The class Sphere() is deprecated. Please prefer the function capytaine.meshes.predefined.mesh_sphere()\n"
     ]
    },
    {
     "name": "stdout",
     "output_type": "stream",
     "text": [
      "1.1385066825313845\n"
     ]
    },
    {
     "name": "stderr",
     "output_type": "stream",
     "text": [
      "Deprecation warning: The class Sphere() is deprecated. Please prefer the function capytaine.meshes.predefined.mesh_sphere()\n",
      "Deprecation warning: The class Sphere() is deprecated. Please prefer the function capytaine.meshes.predefined.mesh_sphere()\n"
     ]
    },
    {
     "name": "stdout",
     "output_type": "stream",
     "text": [
      "0.7009586501432368\n"
     ]
    },
    {
     "name": "stderr",
     "output_type": "stream",
     "text": [
      "Deprecation warning: The class Sphere() is deprecated. Please prefer the function capytaine.meshes.predefined.mesh_sphere()\n",
      "Deprecation warning: The class Sphere() is deprecated. Please prefer the function capytaine.meshes.predefined.mesh_sphere()\n"
     ]
    },
    {
     "name": "stdout",
     "output_type": "stream",
     "text": [
      "0.7117139275150121\n"
     ]
    },
    {
     "name": "stderr",
     "output_type": "stream",
     "text": [
      "Deprecation warning: The class Sphere() is deprecated. Please prefer the function capytaine.meshes.predefined.mesh_sphere()\n",
      "Deprecation warning: The class Sphere() is deprecated. Please prefer the function capytaine.meshes.predefined.mesh_sphere()\n"
     ]
    },
    {
     "name": "stdout",
     "output_type": "stream",
     "text": [
      "1.0986421839097549\n"
     ]
    },
    {
     "name": "stderr",
     "output_type": "stream",
     "text": [
      "Deprecation warning: The class Sphere() is deprecated. Please prefer the function capytaine.meshes.predefined.mesh_sphere()\n",
      "Deprecation warning: The class Sphere() is deprecated. Please prefer the function capytaine.meshes.predefined.mesh_sphere()\n"
     ]
    },
    {
     "name": "stdout",
     "output_type": "stream",
     "text": [
      "1.1075424388593642\n"
     ]
    },
    {
     "name": "stderr",
     "output_type": "stream",
     "text": [
      "Deprecation warning: The class Sphere() is deprecated. Please prefer the function capytaine.meshes.predefined.mesh_sphere()\n",
      "Deprecation warning: The class Sphere() is deprecated. Please prefer the function capytaine.meshes.predefined.mesh_sphere()\n"
     ]
    },
    {
     "name": "stdout",
     "output_type": "stream",
     "text": [
      "0.793252823714204\n"
     ]
    },
    {
     "name": "stderr",
     "output_type": "stream",
     "text": [
      "Deprecation warning: The class Sphere() is deprecated. Please prefer the function capytaine.meshes.predefined.mesh_sphere()\n",
      "Deprecation warning: The class Sphere() is deprecated. Please prefer the function capytaine.meshes.predefined.mesh_sphere()\n"
     ]
    },
    {
     "name": "stdout",
     "output_type": "stream",
     "text": [
      "1.2704180708933164\n"
     ]
    },
    {
     "name": "stderr",
     "output_type": "stream",
     "text": [
      "Deprecation warning: The class Sphere() is deprecated. Please prefer the function capytaine.meshes.predefined.mesh_sphere()\n",
      "Deprecation warning: The class Sphere() is deprecated. Please prefer the function capytaine.meshes.predefined.mesh_sphere()\n"
     ]
    },
    {
     "name": "stdout",
     "output_type": "stream",
     "text": [
      "0.772076386079434\n"
     ]
    },
    {
     "name": "stderr",
     "output_type": "stream",
     "text": [
      "Deprecation warning: The class Sphere() is deprecated. Please prefer the function capytaine.meshes.predefined.mesh_sphere()\n",
      "Deprecation warning: The class Sphere() is deprecated. Please prefer the function capytaine.meshes.predefined.mesh_sphere()\n"
     ]
    },
    {
     "name": "stdout",
     "output_type": "stream",
     "text": [
      "1.2041118271267321\n"
     ]
    },
    {
     "name": "stderr",
     "output_type": "stream",
     "text": [
      "Deprecation warning: The class Sphere() is deprecated. Please prefer the function capytaine.meshes.predefined.mesh_sphere()\n",
      "Deprecation warning: The class Sphere() is deprecated. Please prefer the function capytaine.meshes.predefined.mesh_sphere()\n"
     ]
    },
    {
     "name": "stdout",
     "output_type": "stream",
     "text": [
      "0.6778469015969006\n"
     ]
    },
    {
     "name": "stderr",
     "output_type": "stream",
     "text": [
      "Deprecation warning: The class Sphere() is deprecated. Please prefer the function capytaine.meshes.predefined.mesh_sphere()\n",
      "Deprecation warning: The class Sphere() is deprecated. Please prefer the function capytaine.meshes.predefined.mesh_sphere()\n"
     ]
    },
    {
     "name": "stdout",
     "output_type": "stream",
     "text": [
      "0.7376046659411117\n"
     ]
    },
    {
     "name": "stderr",
     "output_type": "stream",
     "text": [
      "Deprecation warning: The class Sphere() is deprecated. Please prefer the function capytaine.meshes.predefined.mesh_sphere()\n",
      "Deprecation warning: The class Sphere() is deprecated. Please prefer the function capytaine.meshes.predefined.mesh_sphere()\n"
     ]
    },
    {
     "name": "stdout",
     "output_type": "stream",
     "text": [
      "0.8388268804614596\n"
     ]
    },
    {
     "name": "stderr",
     "output_type": "stream",
     "text": [
      "Deprecation warning: The class Sphere() is deprecated. Please prefer the function capytaine.meshes.predefined.mesh_sphere()\n",
      "Deprecation warning: The class Sphere() is deprecated. Please prefer the function capytaine.meshes.predefined.mesh_sphere()\n"
     ]
    },
    {
     "name": "stdout",
     "output_type": "stream",
     "text": [
      "0.6674592780790618\n"
     ]
    },
    {
     "name": "stderr",
     "output_type": "stream",
     "text": [
      "Deprecation warning: The class Sphere() is deprecated. Please prefer the function capytaine.meshes.predefined.mesh_sphere()\n",
      "Deprecation warning: The class Sphere() is deprecated. Please prefer the function capytaine.meshes.predefined.mesh_sphere()\n"
     ]
    },
    {
     "name": "stdout",
     "output_type": "stream",
     "text": [
      "0.8298728198512263\n"
     ]
    },
    {
     "name": "stderr",
     "output_type": "stream",
     "text": [
      "Deprecation warning: The class Sphere() is deprecated. Please prefer the function capytaine.meshes.predefined.mesh_sphere()\n",
      "Deprecation warning: The class Sphere() is deprecated. Please prefer the function capytaine.meshes.predefined.mesh_sphere()\n"
     ]
    },
    {
     "name": "stdout",
     "output_type": "stream",
     "text": [
      "0.6747157643913568\n"
     ]
    },
    {
     "name": "stderr",
     "output_type": "stream",
     "text": [
      "Deprecation warning: The class Sphere() is deprecated. Please prefer the function capytaine.meshes.predefined.mesh_sphere()\n",
      "Deprecation warning: The class Sphere() is deprecated. Please prefer the function capytaine.meshes.predefined.mesh_sphere()\n"
     ]
    },
    {
     "name": "stdout",
     "output_type": "stream",
     "text": [
      "0.7941492380796746\n"
     ]
    },
    {
     "name": "stderr",
     "output_type": "stream",
     "text": [
      "Deprecation warning: The class Sphere() is deprecated. Please prefer the function capytaine.meshes.predefined.mesh_sphere()\n",
      "Deprecation warning: The class Sphere() is deprecated. Please prefer the function capytaine.meshes.predefined.mesh_sphere()\n"
     ]
    },
    {
     "name": "stdout",
     "output_type": "stream",
     "text": [
      "0.6588138406254642\n"
     ]
    },
    {
     "name": "stderr",
     "output_type": "stream",
     "text": [
      "Deprecation warning: The class Sphere() is deprecated. Please prefer the function capytaine.meshes.predefined.mesh_sphere()\n",
      "Deprecation warning: The class Sphere() is deprecated. Please prefer the function capytaine.meshes.predefined.mesh_sphere()\n"
     ]
    },
    {
     "name": "stdout",
     "output_type": "stream",
     "text": [
      "0.7557789901557124\n"
     ]
    },
    {
     "name": "stderr",
     "output_type": "stream",
     "text": [
      "Deprecation warning: The class Sphere() is deprecated. Please prefer the function capytaine.meshes.predefined.mesh_sphere()\n",
      "Deprecation warning: The class Sphere() is deprecated. Please prefer the function capytaine.meshes.predefined.mesh_sphere()\n"
     ]
    },
    {
     "name": "stdout",
     "output_type": "stream",
     "text": [
      "0.6595078439263969\n"
     ]
    },
    {
     "name": "stderr",
     "output_type": "stream",
     "text": [
      "Deprecation warning: The class Sphere() is deprecated. Please prefer the function capytaine.meshes.predefined.mesh_sphere()\n",
      "Deprecation warning: The class Sphere() is deprecated. Please prefer the function capytaine.meshes.predefined.mesh_sphere()\n"
     ]
    },
    {
     "name": "stdout",
     "output_type": "stream",
     "text": [
      "0.7793651000232504\n"
     ]
    },
    {
     "name": "stderr",
     "output_type": "stream",
     "text": [
      "Deprecation warning: The class Sphere() is deprecated. Please prefer the function capytaine.meshes.predefined.mesh_sphere()\n",
      "Deprecation warning: The class Sphere() is deprecated. Please prefer the function capytaine.meshes.predefined.mesh_sphere()\n"
     ]
    },
    {
     "name": "stdout",
     "output_type": "stream",
     "text": [
      "0.6542926770441287\n"
     ]
    },
    {
     "name": "stderr",
     "output_type": "stream",
     "text": [
      "Deprecation warning: The class Sphere() is deprecated. Please prefer the function capytaine.meshes.predefined.mesh_sphere()\n",
      "Deprecation warning: The class Sphere() is deprecated. Please prefer the function capytaine.meshes.predefined.mesh_sphere()\n"
     ]
    },
    {
     "name": "stdout",
     "output_type": "stream",
     "text": [
      "0.6956190269171268\n"
     ]
    },
    {
     "name": "stderr",
     "output_type": "stream",
     "text": [
      "Deprecation warning: The class Sphere() is deprecated. Please prefer the function capytaine.meshes.predefined.mesh_sphere()\n",
      "Deprecation warning: The class Sphere() is deprecated. Please prefer the function capytaine.meshes.predefined.mesh_sphere()\n"
     ]
    },
    {
     "name": "stdout",
     "output_type": "stream",
     "text": [
      "0.651428958962335\n"
     ]
    },
    {
     "name": "stderr",
     "output_type": "stream",
     "text": [
      "Deprecation warning: The class Sphere() is deprecated. Please prefer the function capytaine.meshes.predefined.mesh_sphere()\n",
      "Deprecation warning: The class Sphere() is deprecated. Please prefer the function capytaine.meshes.predefined.mesh_sphere()\n"
     ]
    },
    {
     "name": "stdout",
     "output_type": "stream",
     "text": [
      "0.6996715872387864\n"
     ]
    },
    {
     "name": "stderr",
     "output_type": "stream",
     "text": [
      "Deprecation warning: The class Sphere() is deprecated. Please prefer the function capytaine.meshes.predefined.mesh_sphere()\n",
      "Deprecation warning: The class Sphere() is deprecated. Please prefer the function capytaine.meshes.predefined.mesh_sphere()\n"
     ]
    },
    {
     "name": "stdout",
     "output_type": "stream",
     "text": [
      "0.6513575458306425\n"
     ]
    },
    {
     "name": "stderr",
     "output_type": "stream",
     "text": [
      "Deprecation warning: The class Sphere() is deprecated. Please prefer the function capytaine.meshes.predefined.mesh_sphere()\n",
      "Deprecation warning: The class Sphere() is deprecated. Please prefer the function capytaine.meshes.predefined.mesh_sphere()\n"
     ]
    },
    {
     "name": "stdout",
     "output_type": "stream",
     "text": [
      "0.6715268438849237\n"
     ]
    },
    {
     "name": "stderr",
     "output_type": "stream",
     "text": [
      "Deprecation warning: The class Sphere() is deprecated. Please prefer the function capytaine.meshes.predefined.mesh_sphere()\n",
      "Deprecation warning: The class Sphere() is deprecated. Please prefer the function capytaine.meshes.predefined.mesh_sphere()\n"
     ]
    },
    {
     "name": "stdout",
     "output_type": "stream",
     "text": [
      "0.6505222290244534\n"
     ]
    },
    {
     "name": "stderr",
     "output_type": "stream",
     "text": [
      "Deprecation warning: The class Sphere() is deprecated. Please prefer the function capytaine.meshes.predefined.mesh_sphere()\n",
      "Deprecation warning: The class Sphere() is deprecated. Please prefer the function capytaine.meshes.predefined.mesh_sphere()\n"
     ]
    },
    {
     "name": "stdout",
     "output_type": "stream",
     "text": [
      "0.6356900267517163\n"
     ]
    },
    {
     "name": "stderr",
     "output_type": "stream",
     "text": [
      "Deprecation warning: The class Sphere() is deprecated. Please prefer the function capytaine.meshes.predefined.mesh_sphere()\n",
      "Deprecation warning: The class Sphere() is deprecated. Please prefer the function capytaine.meshes.predefined.mesh_sphere()\n"
     ]
    },
    {
     "name": "stdout",
     "output_type": "stream",
     "text": [
      "0.6363617854683181\n"
     ]
    },
    {
     "name": "stderr",
     "output_type": "stream",
     "text": [
      "Deprecation warning: The class Sphere() is deprecated. Please prefer the function capytaine.meshes.predefined.mesh_sphere()\n",
      "Deprecation warning: The class Sphere() is deprecated. Please prefer the function capytaine.meshes.predefined.mesh_sphere()\n"
     ]
    },
    {
     "name": "stdout",
     "output_type": "stream",
     "text": [
      "0.6610207775503942\n"
     ]
    },
    {
     "name": "stderr",
     "output_type": "stream",
     "text": [
      "Deprecation warning: The class Sphere() is deprecated. Please prefer the function capytaine.meshes.predefined.mesh_sphere()\n",
      "Deprecation warning: The class Sphere() is deprecated. Please prefer the function capytaine.meshes.predefined.mesh_sphere()\n"
     ]
    },
    {
     "name": "stdout",
     "output_type": "stream",
     "text": [
      "0.6463306728039495\n"
     ]
    },
    {
     "name": "stderr",
     "output_type": "stream",
     "text": [
      "Deprecation warning: The class Sphere() is deprecated. Please prefer the function capytaine.meshes.predefined.mesh_sphere()\n",
      "Deprecation warning: The class Sphere() is deprecated. Please prefer the function capytaine.meshes.predefined.mesh_sphere()\n"
     ]
    },
    {
     "name": "stdout",
     "output_type": "stream",
     "text": [
      "0.670166626386604\n"
     ]
    },
    {
     "name": "stderr",
     "output_type": "stream",
     "text": [
      "Deprecation warning: The class Sphere() is deprecated. Please prefer the function capytaine.meshes.predefined.mesh_sphere()\n",
      "Deprecation warning: The class Sphere() is deprecated. Please prefer the function capytaine.meshes.predefined.mesh_sphere()\n"
     ]
    },
    {
     "name": "stdout",
     "output_type": "stream",
     "text": [
      "0.6446961474116026\n"
     ]
    },
    {
     "name": "stderr",
     "output_type": "stream",
     "text": [
      "Deprecation warning: The class Sphere() is deprecated. Please prefer the function capytaine.meshes.predefined.mesh_sphere()\n",
      "Deprecation warning: The class Sphere() is deprecated. Please prefer the function capytaine.meshes.predefined.mesh_sphere()\n"
     ]
    },
    {
     "name": "stdout",
     "output_type": "stream",
     "text": [
      "0.6540513271713025\n"
     ]
    },
    {
     "name": "stderr",
     "output_type": "stream",
     "text": [
      "Deprecation warning: The class Sphere() is deprecated. Please prefer the function capytaine.meshes.predefined.mesh_sphere()\n",
      "Deprecation warning: The class Sphere() is deprecated. Please prefer the function capytaine.meshes.predefined.mesh_sphere()\n"
     ]
    },
    {
     "name": "stdout",
     "output_type": "stream",
     "text": [
      "0.644621272240789\n"
     ]
    },
    {
     "name": "stderr",
     "output_type": "stream",
     "text": [
      "Deprecation warning: The class Sphere() is deprecated. Please prefer the function capytaine.meshes.predefined.mesh_sphere()\n",
      "Deprecation warning: The class Sphere() is deprecated. Please prefer the function capytaine.meshes.predefined.mesh_sphere()\n"
     ]
    },
    {
     "name": "stdout",
     "output_type": "stream",
     "text": [
      "0.648639656530676\n"
     ]
    },
    {
     "name": "stderr",
     "output_type": "stream",
     "text": [
      "Deprecation warning: The class Sphere() is deprecated. Please prefer the function capytaine.meshes.predefined.mesh_sphere()\n",
      "Deprecation warning: The class Sphere() is deprecated. Please prefer the function capytaine.meshes.predefined.mesh_sphere()\n"
     ]
    },
    {
     "name": "stdout",
     "output_type": "stream",
     "text": [
      "0.6362284586571724\n"
     ]
    },
    {
     "name": "stderr",
     "output_type": "stream",
     "text": [
      "Deprecation warning: The class Sphere() is deprecated. Please prefer the function capytaine.meshes.predefined.mesh_sphere()\n",
      "Deprecation warning: The class Sphere() is deprecated. Please prefer the function capytaine.meshes.predefined.mesh_sphere()\n"
     ]
    },
    {
     "name": "stdout",
     "output_type": "stream",
     "text": [
      "0.6404347352380917\n"
     ]
    },
    {
     "name": "stderr",
     "output_type": "stream",
     "text": [
      "Deprecation warning: The class Sphere() is deprecated. Please prefer the function capytaine.meshes.predefined.mesh_sphere()\n",
      "Deprecation warning: The class Sphere() is deprecated. Please prefer the function capytaine.meshes.predefined.mesh_sphere()\n"
     ]
    },
    {
     "name": "stdout",
     "output_type": "stream",
     "text": [
      "0.6396010608822753\n"
     ]
    },
    {
     "name": "stderr",
     "output_type": "stream",
     "text": [
      "Deprecation warning: The class Sphere() is deprecated. Please prefer the function capytaine.meshes.predefined.mesh_sphere()\n",
      "Deprecation warning: The class Sphere() is deprecated. Please prefer the function capytaine.meshes.predefined.mesh_sphere()\n"
     ]
    },
    {
     "name": "stdout",
     "output_type": "stream",
     "text": [
      "0.6354615782339735\n"
     ]
    },
    {
     "name": "stderr",
     "output_type": "stream",
     "text": [
      "Deprecation warning: The class Sphere() is deprecated. Please prefer the function capytaine.meshes.predefined.mesh_sphere()\n",
      "Deprecation warning: The class Sphere() is deprecated. Please prefer the function capytaine.meshes.predefined.mesh_sphere()\n"
     ]
    },
    {
     "name": "stdout",
     "output_type": "stream",
     "text": [
      "0.6459512083779132\n"
     ]
    },
    {
     "name": "stderr",
     "output_type": "stream",
     "text": [
      "Deprecation warning: The class Sphere() is deprecated. Please prefer the function capytaine.meshes.predefined.mesh_sphere()\n",
      "Deprecation warning: The class Sphere() is deprecated. Please prefer the function capytaine.meshes.predefined.mesh_sphere()\n"
     ]
    },
    {
     "name": "stdout",
     "output_type": "stream",
     "text": [
      "0.6251127281834599\n"
     ]
    },
    {
     "name": "stderr",
     "output_type": "stream",
     "text": [
      "Deprecation warning: The class Sphere() is deprecated. Please prefer the function capytaine.meshes.predefined.mesh_sphere()\n",
      "Deprecation warning: The class Sphere() is deprecated. Please prefer the function capytaine.meshes.predefined.mesh_sphere()\n"
     ]
    },
    {
     "name": "stdout",
     "output_type": "stream",
     "text": [
      "0.6191342728598956\n"
     ]
    },
    {
     "name": "stderr",
     "output_type": "stream",
     "text": [
      "Deprecation warning: The class Sphere() is deprecated. Please prefer the function capytaine.meshes.predefined.mesh_sphere()\n",
      "Deprecation warning: The class Sphere() is deprecated. Please prefer the function capytaine.meshes.predefined.mesh_sphere()\n"
     ]
    },
    {
     "name": "stdout",
     "output_type": "stream",
     "text": [
      "0.6212651374708119\n"
     ]
    },
    {
     "name": "stderr",
     "output_type": "stream",
     "text": [
      "Deprecation warning: The class Sphere() is deprecated. Please prefer the function capytaine.meshes.predefined.mesh_sphere()\n",
      "Deprecation warning: The class Sphere() is deprecated. Please prefer the function capytaine.meshes.predefined.mesh_sphere()\n"
     ]
    },
    {
     "name": "stdout",
     "output_type": "stream",
     "text": [
      "0.6323870197793446\n"
     ]
    },
    {
     "name": "stderr",
     "output_type": "stream",
     "text": [
      "Deprecation warning: The class Sphere() is deprecated. Please prefer the function capytaine.meshes.predefined.mesh_sphere()\n",
      "Deprecation warning: The class Sphere() is deprecated. Please prefer the function capytaine.meshes.predefined.mesh_sphere()\n"
     ]
    },
    {
     "name": "stdout",
     "output_type": "stream",
     "text": [
      "0.6186321261564117\n"
     ]
    },
    {
     "name": "stderr",
     "output_type": "stream",
     "text": [
      "Deprecation warning: The class Sphere() is deprecated. Please prefer the function capytaine.meshes.predefined.mesh_sphere()\n",
      "Deprecation warning: The class Sphere() is deprecated. Please prefer the function capytaine.meshes.predefined.mesh_sphere()\n"
     ]
    },
    {
     "name": "stdout",
     "output_type": "stream",
     "text": [
      "0.6201795089525424\n"
     ]
    },
    {
     "name": "stderr",
     "output_type": "stream",
     "text": [
      "Deprecation warning: The class Sphere() is deprecated. Please prefer the function capytaine.meshes.predefined.mesh_sphere()\n",
      "Deprecation warning: The class Sphere() is deprecated. Please prefer the function capytaine.meshes.predefined.mesh_sphere()\n"
     ]
    },
    {
     "name": "stdout",
     "output_type": "stream",
     "text": [
      "0.6150085001940716\n"
     ]
    },
    {
     "name": "stderr",
     "output_type": "stream",
     "text": [
      "Deprecation warning: The class Sphere() is deprecated. Please prefer the function capytaine.meshes.predefined.mesh_sphere()\n",
      "Deprecation warning: The class Sphere() is deprecated. Please prefer the function capytaine.meshes.predefined.mesh_sphere()\n"
     ]
    },
    {
     "name": "stdout",
     "output_type": "stream",
     "text": [
      "0.6148989000440408\n"
     ]
    },
    {
     "name": "stderr",
     "output_type": "stream",
     "text": [
      "Deprecation warning: The class Sphere() is deprecated. Please prefer the function capytaine.meshes.predefined.mesh_sphere()\n",
      "Deprecation warning: The class Sphere() is deprecated. Please prefer the function capytaine.meshes.predefined.mesh_sphere()\n"
     ]
    },
    {
     "name": "stdout",
     "output_type": "stream",
     "text": [
      "0.6037882268477419\n"
     ]
    },
    {
     "name": "stderr",
     "output_type": "stream",
     "text": [
      "Deprecation warning: The class Sphere() is deprecated. Please prefer the function capytaine.meshes.predefined.mesh_sphere()\n",
      "Deprecation warning: The class Sphere() is deprecated. Please prefer the function capytaine.meshes.predefined.mesh_sphere()\n"
     ]
    },
    {
     "name": "stdout",
     "output_type": "stream",
     "text": [
      "0.5964731993674572\n"
     ]
    },
    {
     "name": "stderr",
     "output_type": "stream",
     "text": [
      "Deprecation warning: The class Sphere() is deprecated. Please prefer the function capytaine.meshes.predefined.mesh_sphere()\n",
      "Deprecation warning: The class Sphere() is deprecated. Please prefer the function capytaine.meshes.predefined.mesh_sphere()\n"
     ]
    },
    {
     "name": "stdout",
     "output_type": "stream",
     "text": [
      "0.6055088819358866\n"
     ]
    },
    {
     "name": "stderr",
     "output_type": "stream",
     "text": [
      "Deprecation warning: The class Sphere() is deprecated. Please prefer the function capytaine.meshes.predefined.mesh_sphere()\n",
      "Deprecation warning: The class Sphere() is deprecated. Please prefer the function capytaine.meshes.predefined.mesh_sphere()\n"
     ]
    },
    {
     "name": "stdout",
     "output_type": "stream",
     "text": [
      "0.6289757196237027\n"
     ]
    },
    {
     "name": "stderr",
     "output_type": "stream",
     "text": [
      "Deprecation warning: The class Sphere() is deprecated. Please prefer the function capytaine.meshes.predefined.mesh_sphere()\n",
      "Deprecation warning: The class Sphere() is deprecated. Please prefer the function capytaine.meshes.predefined.mesh_sphere()\n"
     ]
    },
    {
     "name": "stdout",
     "output_type": "stream",
     "text": [
      "0.6134110899714519\n"
     ]
    },
    {
     "name": "stderr",
     "output_type": "stream",
     "text": [
      "Deprecation warning: The class Sphere() is deprecated. Please prefer the function capytaine.meshes.predefined.mesh_sphere()\n",
      "Deprecation warning: The class Sphere() is deprecated. Please prefer the function capytaine.meshes.predefined.mesh_sphere()\n"
     ]
    },
    {
     "name": "stdout",
     "output_type": "stream",
     "text": [
      "0.5914834032697907\n"
     ]
    },
    {
     "name": "stderr",
     "output_type": "stream",
     "text": [
      "Deprecation warning: The class Sphere() is deprecated. Please prefer the function capytaine.meshes.predefined.mesh_sphere()\n",
      "Deprecation warning: The class Sphere() is deprecated. Please prefer the function capytaine.meshes.predefined.mesh_sphere()\n"
     ]
    },
    {
     "name": "stdout",
     "output_type": "stream",
     "text": [
      "0.5778318417620383\n"
     ]
    },
    {
     "name": "stderr",
     "output_type": "stream",
     "text": [
      "Deprecation warning: The class Sphere() is deprecated. Please prefer the function capytaine.meshes.predefined.mesh_sphere()\n",
      "Deprecation warning: The class Sphere() is deprecated. Please prefer the function capytaine.meshes.predefined.mesh_sphere()\n"
     ]
    },
    {
     "name": "stdout",
     "output_type": "stream",
     "text": [
      "0.5810333759366857\n"
     ]
    },
    {
     "name": "stderr",
     "output_type": "stream",
     "text": [
      "Deprecation warning: The class Sphere() is deprecated. Please prefer the function capytaine.meshes.predefined.mesh_sphere()\n",
      "Deprecation warning: The class Sphere() is deprecated. Please prefer the function capytaine.meshes.predefined.mesh_sphere()\n"
     ]
    },
    {
     "name": "stdout",
     "output_type": "stream",
     "text": [
      "0.5702603342701394\n"
     ]
    },
    {
     "name": "stderr",
     "output_type": "stream",
     "text": [
      "Deprecation warning: The class Sphere() is deprecated. Please prefer the function capytaine.meshes.predefined.mesh_sphere()\n",
      "Deprecation warning: The class Sphere() is deprecated. Please prefer the function capytaine.meshes.predefined.mesh_sphere()\n"
     ]
    },
    {
     "name": "stdout",
     "output_type": "stream",
     "text": [
      "0.5505207906786577\n"
     ]
    },
    {
     "name": "stderr",
     "output_type": "stream",
     "text": [
      "Deprecation warning: The class Sphere() is deprecated. Please prefer the function capytaine.meshes.predefined.mesh_sphere()\n",
      "Deprecation warning: The class Sphere() is deprecated. Please prefer the function capytaine.meshes.predefined.mesh_sphere()\n"
     ]
    },
    {
     "name": "stdout",
     "output_type": "stream",
     "text": [
      "0.5553740480495916\n"
     ]
    },
    {
     "name": "stderr",
     "output_type": "stream",
     "text": [
      "Deprecation warning: The class Sphere() is deprecated. Please prefer the function capytaine.meshes.predefined.mesh_sphere()\n",
      "Deprecation warning: The class Sphere() is deprecated. Please prefer the function capytaine.meshes.predefined.mesh_sphere()\n"
     ]
    },
    {
     "name": "stdout",
     "output_type": "stream",
     "text": [
      "0.5441509435458161\n"
     ]
    },
    {
     "name": "stderr",
     "output_type": "stream",
     "text": [
      "Deprecation warning: The class Sphere() is deprecated. Please prefer the function capytaine.meshes.predefined.mesh_sphere()\n",
      "Deprecation warning: The class Sphere() is deprecated. Please prefer the function capytaine.meshes.predefined.mesh_sphere()\n"
     ]
    },
    {
     "name": "stdout",
     "output_type": "stream",
     "text": [
      "0.5273451553962055\n"
     ]
    },
    {
     "name": "stderr",
     "output_type": "stream",
     "text": [
      "Deprecation warning: The class Sphere() is deprecated. Please prefer the function capytaine.meshes.predefined.mesh_sphere()\n",
      "Deprecation warning: The class Sphere() is deprecated. Please prefer the function capytaine.meshes.predefined.mesh_sphere()\n"
     ]
    },
    {
     "name": "stdout",
     "output_type": "stream",
     "text": [
      "0.5294660286554862\n"
     ]
    },
    {
     "name": "stderr",
     "output_type": "stream",
     "text": [
      "Deprecation warning: The class Sphere() is deprecated. Please prefer the function capytaine.meshes.predefined.mesh_sphere()\n",
      "Deprecation warning: The class Sphere() is deprecated. Please prefer the function capytaine.meshes.predefined.mesh_sphere()\n"
     ]
    },
    {
     "name": "stdout",
     "output_type": "stream",
     "text": [
      "0.5250560937978348\n"
     ]
    },
    {
     "name": "stderr",
     "output_type": "stream",
     "text": [
      "Deprecation warning: The class Sphere() is deprecated. Please prefer the function capytaine.meshes.predefined.mesh_sphere()\n",
      "Deprecation warning: The class Sphere() is deprecated. Please prefer the function capytaine.meshes.predefined.mesh_sphere()\n"
     ]
    },
    {
     "name": "stdout",
     "output_type": "stream",
     "text": [
      "0.5228498986011081\n"
     ]
    },
    {
     "name": "stderr",
     "output_type": "stream",
     "text": [
      "Deprecation warning: The class Sphere() is deprecated. Please prefer the function capytaine.meshes.predefined.mesh_sphere()\n",
      "Deprecation warning: The class Sphere() is deprecated. Please prefer the function capytaine.meshes.predefined.mesh_sphere()\n"
     ]
    },
    {
     "name": "stdout",
     "output_type": "stream",
     "text": [
      "0.49246465115581967\n"
     ]
    },
    {
     "name": "stderr",
     "output_type": "stream",
     "text": [
      "Deprecation warning: The class Sphere() is deprecated. Please prefer the function capytaine.meshes.predefined.mesh_sphere()\n",
      "Deprecation warning: The class Sphere() is deprecated. Please prefer the function capytaine.meshes.predefined.mesh_sphere()\n"
     ]
    },
    {
     "name": "stdout",
     "output_type": "stream",
     "text": [
      "0.460228486614844\n"
     ]
    },
    {
     "name": "stderr",
     "output_type": "stream",
     "text": [
      "Deprecation warning: The class Sphere() is deprecated. Please prefer the function capytaine.meshes.predefined.mesh_sphere()\n",
      "Deprecation warning: The class Sphere() is deprecated. Please prefer the function capytaine.meshes.predefined.mesh_sphere()\n"
     ]
    },
    {
     "name": "stdout",
     "output_type": "stream",
     "text": [
      "0.4609421517528298\n"
     ]
    },
    {
     "name": "stderr",
     "output_type": "stream",
     "text": [
      "Deprecation warning: The class Sphere() is deprecated. Please prefer the function capytaine.meshes.predefined.mesh_sphere()\n",
      "Deprecation warning: The class Sphere() is deprecated. Please prefer the function capytaine.meshes.predefined.mesh_sphere()\n"
     ]
    },
    {
     "name": "stdout",
     "output_type": "stream",
     "text": [
      "0.44819072638885055\n"
     ]
    },
    {
     "name": "stderr",
     "output_type": "stream",
     "text": [
      "Deprecation warning: The class Sphere() is deprecated. Please prefer the function capytaine.meshes.predefined.mesh_sphere()\n",
      "Deprecation warning: The class Sphere() is deprecated. Please prefer the function capytaine.meshes.predefined.mesh_sphere()\n"
     ]
    },
    {
     "name": "stdout",
     "output_type": "stream",
     "text": [
      "0.40928318537984354\n"
     ]
    },
    {
     "name": "stderr",
     "output_type": "stream",
     "text": [
      "Deprecation warning: The class Sphere() is deprecated. Please prefer the function capytaine.meshes.predefined.mesh_sphere()\n",
      "Deprecation warning: The class Sphere() is deprecated. Please prefer the function capytaine.meshes.predefined.mesh_sphere()\n"
     ]
    },
    {
     "name": "stdout",
     "output_type": "stream",
     "text": [
      "0.4257802094941672\n"
     ]
    },
    {
     "name": "stderr",
     "output_type": "stream",
     "text": [
      "Deprecation warning: The class Sphere() is deprecated. Please prefer the function capytaine.meshes.predefined.mesh_sphere()\n",
      "Deprecation warning: The class Sphere() is deprecated. Please prefer the function capytaine.meshes.predefined.mesh_sphere()\n"
     ]
    },
    {
     "name": "stdout",
     "output_type": "stream",
     "text": [
      "0.407920328338425\n"
     ]
    },
    {
     "name": "stderr",
     "output_type": "stream",
     "text": [
      "Deprecation warning: The class Sphere() is deprecated. Please prefer the function capytaine.meshes.predefined.mesh_sphere()\n",
      "Deprecation warning: The class Sphere() is deprecated. Please prefer the function capytaine.meshes.predefined.mesh_sphere()\n"
     ]
    },
    {
     "name": "stdout",
     "output_type": "stream",
     "text": [
      "0.37838101206277813\n"
     ]
    },
    {
     "name": "stderr",
     "output_type": "stream",
     "text": [
      "Deprecation warning: The class Sphere() is deprecated. Please prefer the function capytaine.meshes.predefined.mesh_sphere()\n",
      "Deprecation warning: The class Sphere() is deprecated. Please prefer the function capytaine.meshes.predefined.mesh_sphere()\n"
     ]
    },
    {
     "name": "stdout",
     "output_type": "stream",
     "text": [
      "0.3867942745028282\n"
     ]
    },
    {
     "name": "stderr",
     "output_type": "stream",
     "text": [
      "Deprecation warning: The class Sphere() is deprecated. Please prefer the function capytaine.meshes.predefined.mesh_sphere()\n",
      "Deprecation warning: The class Sphere() is deprecated. Please prefer the function capytaine.meshes.predefined.mesh_sphere()\n"
     ]
    },
    {
     "name": "stdout",
     "output_type": "stream",
     "text": [
      "0.36835220027160603\n"
     ]
    },
    {
     "name": "stderr",
     "output_type": "stream",
     "text": [
      "Deprecation warning: The class Sphere() is deprecated. Please prefer the function capytaine.meshes.predefined.mesh_sphere()\n",
      "Deprecation warning: The class Sphere() is deprecated. Please prefer the function capytaine.meshes.predefined.mesh_sphere()\n"
     ]
    },
    {
     "name": "stdout",
     "output_type": "stream",
     "text": [
      "0.381562935511389\n"
     ]
    },
    {
     "name": "stderr",
     "output_type": "stream",
     "text": [
      "Deprecation warning: The class Sphere() is deprecated. Please prefer the function capytaine.meshes.predefined.mesh_sphere()\n",
      "Deprecation warning: The class Sphere() is deprecated. Please prefer the function capytaine.meshes.predefined.mesh_sphere()\n"
     ]
    },
    {
     "name": "stdout",
     "output_type": "stream",
     "text": [
      "0.3425015389703999\n"
     ]
    },
    {
     "name": "stderr",
     "output_type": "stream",
     "text": [
      "Deprecation warning: The class Sphere() is deprecated. Please prefer the function capytaine.meshes.predefined.mesh_sphere()\n",
      "Deprecation warning: The class Sphere() is deprecated. Please prefer the function capytaine.meshes.predefined.mesh_sphere()\n"
     ]
    },
    {
     "name": "stdout",
     "output_type": "stream",
     "text": [
      "0.3225302393874163\n"
     ]
    },
    {
     "name": "stderr",
     "output_type": "stream",
     "text": [
      "Deprecation warning: The class Sphere() is deprecated. Please prefer the function capytaine.meshes.predefined.mesh_sphere()\n",
      "Deprecation warning: The class Sphere() is deprecated. Please prefer the function capytaine.meshes.predefined.mesh_sphere()\n"
     ]
    },
    {
     "name": "stdout",
     "output_type": "stream",
     "text": [
      "0.32518026570034614\n"
     ]
    },
    {
     "name": "stderr",
     "output_type": "stream",
     "text": [
      "Deprecation warning: The class Sphere() is deprecated. Please prefer the function capytaine.meshes.predefined.mesh_sphere()\n",
      "Deprecation warning: The class Sphere() is deprecated. Please prefer the function capytaine.meshes.predefined.mesh_sphere()\n"
     ]
    },
    {
     "name": "stdout",
     "output_type": "stream",
     "text": [
      "0.34803209774614047\n"
     ]
    },
    {
     "name": "stderr",
     "output_type": "stream",
     "text": [
      "Deprecation warning: The class Sphere() is deprecated. Please prefer the function capytaine.meshes.predefined.mesh_sphere()\n",
      "Deprecation warning: The class Sphere() is deprecated. Please prefer the function capytaine.meshes.predefined.mesh_sphere()\n"
     ]
    },
    {
     "name": "stdout",
     "output_type": "stream",
     "text": [
      "0.3300447598969148\n"
     ]
    },
    {
     "name": "stderr",
     "output_type": "stream",
     "text": [
      "Deprecation warning: The class Sphere() is deprecated. Please prefer the function capytaine.meshes.predefined.mesh_sphere()\n",
      "Deprecation warning: The class Sphere() is deprecated. Please prefer the function capytaine.meshes.predefined.mesh_sphere()\n"
     ]
    },
    {
     "name": "stdout",
     "output_type": "stream",
     "text": [
      "0.30960597418821195\n"
     ]
    },
    {
     "name": "stderr",
     "output_type": "stream",
     "text": [
      "Deprecation warning: The class Sphere() is deprecated. Please prefer the function capytaine.meshes.predefined.mesh_sphere()\n",
      "Deprecation warning: The class Sphere() is deprecated. Please prefer the function capytaine.meshes.predefined.mesh_sphere()\n"
     ]
    },
    {
     "name": "stdout",
     "output_type": "stream",
     "text": [
      "0.3003653465684364\n"
     ]
    },
    {
     "name": "stderr",
     "output_type": "stream",
     "text": [
      "Deprecation warning: The class Sphere() is deprecated. Please prefer the function capytaine.meshes.predefined.mesh_sphere()\n",
      "Deprecation warning: The class Sphere() is deprecated. Please prefer the function capytaine.meshes.predefined.mesh_sphere()\n"
     ]
    },
    {
     "name": "stdout",
     "output_type": "stream",
     "text": [
      "0.2998152660015691\n"
     ]
    },
    {
     "name": "stderr",
     "output_type": "stream",
     "text": [
      "Deprecation warning: The class Sphere() is deprecated. Please prefer the function capytaine.meshes.predefined.mesh_sphere()\n",
      "Deprecation warning: The class Sphere() is deprecated. Please prefer the function capytaine.meshes.predefined.mesh_sphere()\n"
     ]
    },
    {
     "name": "stdout",
     "output_type": "stream",
     "text": [
      "0.2935433496211625\n"
     ]
    },
    {
     "name": "stderr",
     "output_type": "stream",
     "text": [
      "Deprecation warning: The class Sphere() is deprecated. Please prefer the function capytaine.meshes.predefined.mesh_sphere()\n",
      "Deprecation warning: The class Sphere() is deprecated. Please prefer the function capytaine.meshes.predefined.mesh_sphere()\n"
     ]
    },
    {
     "name": "stdout",
     "output_type": "stream",
     "text": [
      "0.3301072224515602\n"
     ]
    },
    {
     "name": "stderr",
     "output_type": "stream",
     "text": [
      "Deprecation warning: The class Sphere() is deprecated. Please prefer the function capytaine.meshes.predefined.mesh_sphere()\n",
      "Deprecation warning: The class Sphere() is deprecated. Please prefer the function capytaine.meshes.predefined.mesh_sphere()\n"
     ]
    },
    {
     "name": "stdout",
     "output_type": "stream",
     "text": [
      "0.2931381495134071\n"
     ]
    },
    {
     "name": "stderr",
     "output_type": "stream",
     "text": [
      "Deprecation warning: The class Sphere() is deprecated. Please prefer the function capytaine.meshes.predefined.mesh_sphere()\n",
      "Deprecation warning: The class Sphere() is deprecated. Please prefer the function capytaine.meshes.predefined.mesh_sphere()\n"
     ]
    },
    {
     "name": "stdout",
     "output_type": "stream",
     "text": [
      "0.30637682163598323\n"
     ]
    },
    {
     "name": "stderr",
     "output_type": "stream",
     "text": [
      "Deprecation warning: The class Sphere() is deprecated. Please prefer the function capytaine.meshes.predefined.mesh_sphere()\n",
      "Deprecation warning: The class Sphere() is deprecated. Please prefer the function capytaine.meshes.predefined.mesh_sphere()\n"
     ]
    },
    {
     "name": "stdout",
     "output_type": "stream",
     "text": [
      "0.35198073742971286\n"
     ]
    },
    {
     "name": "stderr",
     "output_type": "stream",
     "text": [
      "Deprecation warning: The class Sphere() is deprecated. Please prefer the function capytaine.meshes.predefined.mesh_sphere()\n",
      "Deprecation warning: The class Sphere() is deprecated. Please prefer the function capytaine.meshes.predefined.mesh_sphere()\n"
     ]
    },
    {
     "name": "stdout",
     "output_type": "stream",
     "text": [
      "0.3090266310087783\n"
     ]
    },
    {
     "name": "stderr",
     "output_type": "stream",
     "text": [
      "Deprecation warning: The class Sphere() is deprecated. Please prefer the function capytaine.meshes.predefined.mesh_sphere()\n",
      "Deprecation warning: The class Sphere() is deprecated. Please prefer the function capytaine.meshes.predefined.mesh_sphere()\n"
     ]
    },
    {
     "name": "stdout",
     "output_type": "stream",
     "text": [
      "0.30178912262439705\n"
     ]
    },
    {
     "name": "stderr",
     "output_type": "stream",
     "text": [
      "Deprecation warning: The class Sphere() is deprecated. Please prefer the function capytaine.meshes.predefined.mesh_sphere()\n",
      "Deprecation warning: The class Sphere() is deprecated. Please prefer the function capytaine.meshes.predefined.mesh_sphere()\n"
     ]
    },
    {
     "name": "stdout",
     "output_type": "stream",
     "text": [
      "0.2914653292686448\n"
     ]
    },
    {
     "name": "stderr",
     "output_type": "stream",
     "text": [
      "Deprecation warning: The class Sphere() is deprecated. Please prefer the function capytaine.meshes.predefined.mesh_sphere()\n",
      "Deprecation warning: The class Sphere() is deprecated. Please prefer the function capytaine.meshes.predefined.mesh_sphere()\n"
     ]
    },
    {
     "name": "stdout",
     "output_type": "stream",
     "text": [
      "0.30760857832361593\n"
     ]
    },
    {
     "name": "stderr",
     "output_type": "stream",
     "text": [
      "Deprecation warning: The class Sphere() is deprecated. Please prefer the function capytaine.meshes.predefined.mesh_sphere()\n",
      "Deprecation warning: The class Sphere() is deprecated. Please prefer the function capytaine.meshes.predefined.mesh_sphere()\n"
     ]
    },
    {
     "name": "stdout",
     "output_type": "stream",
     "text": [
      "0.29311212494768574\n"
     ]
    },
    {
     "name": "stderr",
     "output_type": "stream",
     "text": [
      "Deprecation warning: The class Sphere() is deprecated. Please prefer the function capytaine.meshes.predefined.mesh_sphere()\n",
      "Deprecation warning: The class Sphere() is deprecated. Please prefer the function capytaine.meshes.predefined.mesh_sphere()\n"
     ]
    },
    {
     "name": "stdout",
     "output_type": "stream",
     "text": [
      "0.3684214368547107\n"
     ]
    },
    {
     "name": "stderr",
     "output_type": "stream",
     "text": [
      "Deprecation warning: The class Sphere() is deprecated. Please prefer the function capytaine.meshes.predefined.mesh_sphere()\n",
      "Deprecation warning: The class Sphere() is deprecated. Please prefer the function capytaine.meshes.predefined.mesh_sphere()\n"
     ]
    },
    {
     "name": "stdout",
     "output_type": "stream",
     "text": [
      "0.29058676119418014\n"
     ]
    },
    {
     "name": "stderr",
     "output_type": "stream",
     "text": [
      "Deprecation warning: The class Sphere() is deprecated. Please prefer the function capytaine.meshes.predefined.mesh_sphere()\n",
      "Deprecation warning: The class Sphere() is deprecated. Please prefer the function capytaine.meshes.predefined.mesh_sphere()\n"
     ]
    },
    {
     "name": "stdout",
     "output_type": "stream",
     "text": [
      "0.28123210082672556\n"
     ]
    },
    {
     "name": "stderr",
     "output_type": "stream",
     "text": [
      "Deprecation warning: The class Sphere() is deprecated. Please prefer the function capytaine.meshes.predefined.mesh_sphere()\n",
      "Deprecation warning: The class Sphere() is deprecated. Please prefer the function capytaine.meshes.predefined.mesh_sphere()\n"
     ]
    },
    {
     "name": "stdout",
     "output_type": "stream",
     "text": [
      "0.2744125590401859\n"
     ]
    },
    {
     "name": "stderr",
     "output_type": "stream",
     "text": [
      "Deprecation warning: The class Sphere() is deprecated. Please prefer the function capytaine.meshes.predefined.mesh_sphere()\n",
      "Deprecation warning: The class Sphere() is deprecated. Please prefer the function capytaine.meshes.predefined.mesh_sphere()\n"
     ]
    },
    {
     "name": "stdout",
     "output_type": "stream",
     "text": [
      "0.2748773256777804\n"
     ]
    },
    {
     "name": "stderr",
     "output_type": "stream",
     "text": [
      "Deprecation warning: The class Sphere() is deprecated. Please prefer the function capytaine.meshes.predefined.mesh_sphere()\n",
      "Deprecation warning: The class Sphere() is deprecated. Please prefer the function capytaine.meshes.predefined.mesh_sphere()\n"
     ]
    },
    {
     "name": "stdout",
     "output_type": "stream",
     "text": [
      "0.27231444303562286\n"
     ]
    },
    {
     "name": "stderr",
     "output_type": "stream",
     "text": [
      "Deprecation warning: The class Sphere() is deprecated. Please prefer the function capytaine.meshes.predefined.mesh_sphere()\n",
      "Deprecation warning: The class Sphere() is deprecated. Please prefer the function capytaine.meshes.predefined.mesh_sphere()\n"
     ]
    },
    {
     "name": "stdout",
     "output_type": "stream",
     "text": [
      "0.26337861327377393\n"
     ]
    },
    {
     "name": "stderr",
     "output_type": "stream",
     "text": [
      "Deprecation warning: The class Sphere() is deprecated. Please prefer the function capytaine.meshes.predefined.mesh_sphere()\n",
      "Deprecation warning: The class Sphere() is deprecated. Please prefer the function capytaine.meshes.predefined.mesh_sphere()\n"
     ]
    },
    {
     "name": "stdout",
     "output_type": "stream",
     "text": [
      "0.26467985006279354\n"
     ]
    },
    {
     "name": "stderr",
     "output_type": "stream",
     "text": [
      "Deprecation warning: The class Sphere() is deprecated. Please prefer the function capytaine.meshes.predefined.mesh_sphere()\n",
      "Deprecation warning: The class Sphere() is deprecated. Please prefer the function capytaine.meshes.predefined.mesh_sphere()\n"
     ]
    },
    {
     "name": "stdout",
     "output_type": "stream",
     "text": [
      "0.27533738398896496\n"
     ]
    },
    {
     "name": "stderr",
     "output_type": "stream",
     "text": [
      "Deprecation warning: The class Sphere() is deprecated. Please prefer the function capytaine.meshes.predefined.mesh_sphere()\n",
      "Deprecation warning: The class Sphere() is deprecated. Please prefer the function capytaine.meshes.predefined.mesh_sphere()\n"
     ]
    },
    {
     "name": "stdout",
     "output_type": "stream",
     "text": [
      "0.2644125835892124\n"
     ]
    },
    {
     "name": "stderr",
     "output_type": "stream",
     "text": [
      "Deprecation warning: The class Sphere() is deprecated. Please prefer the function capytaine.meshes.predefined.mesh_sphere()\n",
      "Deprecation warning: The class Sphere() is deprecated. Please prefer the function capytaine.meshes.predefined.mesh_sphere()\n"
     ]
    },
    {
     "name": "stdout",
     "output_type": "stream",
     "text": [
      "0.24776908718223842\n"
     ]
    },
    {
     "name": "stderr",
     "output_type": "stream",
     "text": [
      "Deprecation warning: The class Sphere() is deprecated. Please prefer the function capytaine.meshes.predefined.mesh_sphere()\n",
      "Deprecation warning: The class Sphere() is deprecated. Please prefer the function capytaine.meshes.predefined.mesh_sphere()\n"
     ]
    },
    {
     "name": "stdout",
     "output_type": "stream",
     "text": [
      "0.23710924713521656\n"
     ]
    },
    {
     "name": "stderr",
     "output_type": "stream",
     "text": [
      "Deprecation warning: The class Sphere() is deprecated. Please prefer the function capytaine.meshes.predefined.mesh_sphere()\n",
      "Deprecation warning: The class Sphere() is deprecated. Please prefer the function capytaine.meshes.predefined.mesh_sphere()\n"
     ]
    },
    {
     "name": "stdout",
     "output_type": "stream",
     "text": [
      "0.2609912860675602\n"
     ]
    },
    {
     "name": "stderr",
     "output_type": "stream",
     "text": [
      "Deprecation warning: The class Sphere() is deprecated. Please prefer the function capytaine.meshes.predefined.mesh_sphere()\n",
      "Deprecation warning: The class Sphere() is deprecated. Please prefer the function capytaine.meshes.predefined.mesh_sphere()\n"
     ]
    },
    {
     "name": "stdout",
     "output_type": "stream",
     "text": [
      "0.24309962208615524\n"
     ]
    },
    {
     "name": "stderr",
     "output_type": "stream",
     "text": [
      "Deprecation warning: The class Sphere() is deprecated. Please prefer the function capytaine.meshes.predefined.mesh_sphere()\n",
      "Deprecation warning: The class Sphere() is deprecated. Please prefer the function capytaine.meshes.predefined.mesh_sphere()\n"
     ]
    },
    {
     "name": "stdout",
     "output_type": "stream",
     "text": [
      "0.23743235298056745\n"
     ]
    },
    {
     "name": "stderr",
     "output_type": "stream",
     "text": [
      "Deprecation warning: The class Sphere() is deprecated. Please prefer the function capytaine.meshes.predefined.mesh_sphere()\n",
      "Deprecation warning: The class Sphere() is deprecated. Please prefer the function capytaine.meshes.predefined.mesh_sphere()\n"
     ]
    },
    {
     "name": "stdout",
     "output_type": "stream",
     "text": [
      "0.23262607903337457\n"
     ]
    },
    {
     "name": "stderr",
     "output_type": "stream",
     "text": [
      "Deprecation warning: The class Sphere() is deprecated. Please prefer the function capytaine.meshes.predefined.mesh_sphere()\n",
      "Deprecation warning: The class Sphere() is deprecated. Please prefer the function capytaine.meshes.predefined.mesh_sphere()\n"
     ]
    },
    {
     "name": "stdout",
     "output_type": "stream",
     "text": [
      "0.23000164186034164\n"
     ]
    },
    {
     "name": "stderr",
     "output_type": "stream",
     "text": [
      "Deprecation warning: The class Sphere() is deprecated. Please prefer the function capytaine.meshes.predefined.mesh_sphere()\n",
      "Deprecation warning: The class Sphere() is deprecated. Please prefer the function capytaine.meshes.predefined.mesh_sphere()\n"
     ]
    },
    {
     "name": "stdout",
     "output_type": "stream",
     "text": [
      "0.2559169608927715\n"
     ]
    },
    {
     "name": "stderr",
     "output_type": "stream",
     "text": [
      "Deprecation warning: The class Sphere() is deprecated. Please prefer the function capytaine.meshes.predefined.mesh_sphere()\n",
      "Deprecation warning: The class Sphere() is deprecated. Please prefer the function capytaine.meshes.predefined.mesh_sphere()\n"
     ]
    },
    {
     "name": "stdout",
     "output_type": "stream",
     "text": [
      "0.2432670252696006\n"
     ]
    },
    {
     "name": "stderr",
     "output_type": "stream",
     "text": [
      "Deprecation warning: The class Sphere() is deprecated. Please prefer the function capytaine.meshes.predefined.mesh_sphere()\n",
      "Deprecation warning: The class Sphere() is deprecated. Please prefer the function capytaine.meshes.predefined.mesh_sphere()\n"
     ]
    },
    {
     "name": "stdout",
     "output_type": "stream",
     "text": [
      "0.23056493177551118\n"
     ]
    },
    {
     "name": "stderr",
     "output_type": "stream",
     "text": [
      "Deprecation warning: The class Sphere() is deprecated. Please prefer the function capytaine.meshes.predefined.mesh_sphere()\n",
      "Deprecation warning: The class Sphere() is deprecated. Please prefer the function capytaine.meshes.predefined.mesh_sphere()\n"
     ]
    },
    {
     "name": "stdout",
     "output_type": "stream",
     "text": [
      "0.23728339879814342\n"
     ]
    },
    {
     "name": "stderr",
     "output_type": "stream",
     "text": [
      "Deprecation warning: The class Sphere() is deprecated. Please prefer the function capytaine.meshes.predefined.mesh_sphere()\n",
      "Deprecation warning: The class Sphere() is deprecated. Please prefer the function capytaine.meshes.predefined.mesh_sphere()\n"
     ]
    },
    {
     "name": "stdout",
     "output_type": "stream",
     "text": [
      "0.24027862397280622\n"
     ]
    },
    {
     "name": "stderr",
     "output_type": "stream",
     "text": [
      "Deprecation warning: The class Sphere() is deprecated. Please prefer the function capytaine.meshes.predefined.mesh_sphere()\n",
      "Deprecation warning: The class Sphere() is deprecated. Please prefer the function capytaine.meshes.predefined.mesh_sphere()\n"
     ]
    },
    {
     "name": "stdout",
     "output_type": "stream",
     "text": [
      "0.2301451113360191\n"
     ]
    },
    {
     "name": "stderr",
     "output_type": "stream",
     "text": [
      "Deprecation warning: The class Sphere() is deprecated. Please prefer the function capytaine.meshes.predefined.mesh_sphere()\n",
      "Deprecation warning: The class Sphere() is deprecated. Please prefer the function capytaine.meshes.predefined.mesh_sphere()\n"
     ]
    },
    {
     "name": "stdout",
     "output_type": "stream",
     "text": [
      "0.2435800324612067\n"
     ]
    },
    {
     "name": "stderr",
     "output_type": "stream",
     "text": [
      "Deprecation warning: The class Sphere() is deprecated. Please prefer the function capytaine.meshes.predefined.mesh_sphere()\n",
      "Deprecation warning: The class Sphere() is deprecated. Please prefer the function capytaine.meshes.predefined.mesh_sphere()\n"
     ]
    },
    {
     "name": "stdout",
     "output_type": "stream",
     "text": [
      "0.23362692155291173\n"
     ]
    },
    {
     "name": "stderr",
     "output_type": "stream",
     "text": [
      "Deprecation warning: The class Sphere() is deprecated. Please prefer the function capytaine.meshes.predefined.mesh_sphere()\n",
      "Deprecation warning: The class Sphere() is deprecated. Please prefer the function capytaine.meshes.predefined.mesh_sphere()\n"
     ]
    },
    {
     "name": "stdout",
     "output_type": "stream",
     "text": [
      "0.23793722747754417\n"
     ]
    },
    {
     "name": "stderr",
     "output_type": "stream",
     "text": [
      "Deprecation warning: The class Sphere() is deprecated. Please prefer the function capytaine.meshes.predefined.mesh_sphere()\n",
      "Deprecation warning: The class Sphere() is deprecated. Please prefer the function capytaine.meshes.predefined.mesh_sphere()\n"
     ]
    },
    {
     "name": "stdout",
     "output_type": "stream",
     "text": [
      "0.23264294259632995\n"
     ]
    },
    {
     "name": "stderr",
     "output_type": "stream",
     "text": [
      "Deprecation warning: The class Sphere() is deprecated. Please prefer the function capytaine.meshes.predefined.mesh_sphere()\n",
      "Deprecation warning: The class Sphere() is deprecated. Please prefer the function capytaine.meshes.predefined.mesh_sphere()\n"
     ]
    },
    {
     "name": "stdout",
     "output_type": "stream",
     "text": [
      "0.24018693317156398\n"
     ]
    },
    {
     "name": "stderr",
     "output_type": "stream",
     "text": [
      "Deprecation warning: The class Sphere() is deprecated. Please prefer the function capytaine.meshes.predefined.mesh_sphere()\n",
      "Deprecation warning: The class Sphere() is deprecated. Please prefer the function capytaine.meshes.predefined.mesh_sphere()\n"
     ]
    },
    {
     "name": "stdout",
     "output_type": "stream",
     "text": [
      "0.23266269773226178\n"
     ]
    },
    {
     "name": "stderr",
     "output_type": "stream",
     "text": [
      "Deprecation warning: The class Sphere() is deprecated. Please prefer the function capytaine.meshes.predefined.mesh_sphere()\n",
      "Deprecation warning: The class Sphere() is deprecated. Please prefer the function capytaine.meshes.predefined.mesh_sphere()\n"
     ]
    },
    {
     "name": "stdout",
     "output_type": "stream",
     "text": [
      "0.23724305409600696\n"
     ]
    },
    {
     "name": "stderr",
     "output_type": "stream",
     "text": [
      "Deprecation warning: The class Sphere() is deprecated. Please prefer the function capytaine.meshes.predefined.mesh_sphere()\n",
      "Deprecation warning: The class Sphere() is deprecated. Please prefer the function capytaine.meshes.predefined.mesh_sphere()\n"
     ]
    },
    {
     "name": "stdout",
     "output_type": "stream",
     "text": [
      "0.23246591770298206\n"
     ]
    },
    {
     "name": "stderr",
     "output_type": "stream",
     "text": [
      "Deprecation warning: The class Sphere() is deprecated. Please prefer the function capytaine.meshes.predefined.mesh_sphere()\n",
      "Deprecation warning: The class Sphere() is deprecated. Please prefer the function capytaine.meshes.predefined.mesh_sphere()\n"
     ]
    },
    {
     "name": "stdout",
     "output_type": "stream",
     "text": [
      "0.23309330974345124\n"
     ]
    },
    {
     "name": "stderr",
     "output_type": "stream",
     "text": [
      "Deprecation warning: The class Sphere() is deprecated. Please prefer the function capytaine.meshes.predefined.mesh_sphere()\n",
      "Deprecation warning: The class Sphere() is deprecated. Please prefer the function capytaine.meshes.predefined.mesh_sphere()\n"
     ]
    },
    {
     "name": "stdout",
     "output_type": "stream",
     "text": [
      "0.2312707268819921\n"
     ]
    },
    {
     "name": "stderr",
     "output_type": "stream",
     "text": [
      "Deprecation warning: The class Sphere() is deprecated. Please prefer the function capytaine.meshes.predefined.mesh_sphere()\n",
      "Deprecation warning: The class Sphere() is deprecated. Please prefer the function capytaine.meshes.predefined.mesh_sphere()\n"
     ]
    },
    {
     "name": "stdout",
     "output_type": "stream",
     "text": [
      "0.2345773159840758\n"
     ]
    },
    {
     "name": "stderr",
     "output_type": "stream",
     "text": [
      "Deprecation warning: The class Sphere() is deprecated. Please prefer the function capytaine.meshes.predefined.mesh_sphere()\n",
      "Deprecation warning: The class Sphere() is deprecated. Please prefer the function capytaine.meshes.predefined.mesh_sphere()\n"
     ]
    },
    {
     "name": "stdout",
     "output_type": "stream",
     "text": [
      "0.2312695652535086\n"
     ]
    },
    {
     "name": "stderr",
     "output_type": "stream",
     "text": [
      "Deprecation warning: The class Sphere() is deprecated. Please prefer the function capytaine.meshes.predefined.mesh_sphere()\n",
      "Deprecation warning: The class Sphere() is deprecated. Please prefer the function capytaine.meshes.predefined.mesh_sphere()\n"
     ]
    },
    {
     "name": "stdout",
     "output_type": "stream",
     "text": [
      "0.23005348394838784\n"
     ]
    },
    {
     "name": "stderr",
     "output_type": "stream",
     "text": [
      "Deprecation warning: The class Sphere() is deprecated. Please prefer the function capytaine.meshes.predefined.mesh_sphere()\n",
      "Deprecation warning: The class Sphere() is deprecated. Please prefer the function capytaine.meshes.predefined.mesh_sphere()\n"
     ]
    },
    {
     "name": "stdout",
     "output_type": "stream",
     "text": [
      "0.23062312747144867\n"
     ]
    },
    {
     "name": "stderr",
     "output_type": "stream",
     "text": [
      "Deprecation warning: The class Sphere() is deprecated. Please prefer the function capytaine.meshes.predefined.mesh_sphere()\n",
      "Deprecation warning: The class Sphere() is deprecated. Please prefer the function capytaine.meshes.predefined.mesh_sphere()\n"
     ]
    },
    {
     "name": "stdout",
     "output_type": "stream",
     "text": [
      "0.23178179079330097\n"
     ]
    },
    {
     "name": "stderr",
     "output_type": "stream",
     "text": [
      "Deprecation warning: The class Sphere() is deprecated. Please prefer the function capytaine.meshes.predefined.mesh_sphere()\n",
      "Deprecation warning: The class Sphere() is deprecated. Please prefer the function capytaine.meshes.predefined.mesh_sphere()\n"
     ]
    },
    {
     "name": "stdout",
     "output_type": "stream",
     "text": [
      "0.23038519384794323\n"
     ]
    },
    {
     "name": "stderr",
     "output_type": "stream",
     "text": [
      "Deprecation warning: The class Sphere() is deprecated. Please prefer the function capytaine.meshes.predefined.mesh_sphere()\n",
      "Deprecation warning: The class Sphere() is deprecated. Please prefer the function capytaine.meshes.predefined.mesh_sphere()\n"
     ]
    },
    {
     "name": "stdout",
     "output_type": "stream",
     "text": [
      "0.22997594176047795\n"
     ]
    },
    {
     "name": "stderr",
     "output_type": "stream",
     "text": [
      "Deprecation warning: The class Sphere() is deprecated. Please prefer the function capytaine.meshes.predefined.mesh_sphere()\n",
      "Deprecation warning: The class Sphere() is deprecated. Please prefer the function capytaine.meshes.predefined.mesh_sphere()\n"
     ]
    },
    {
     "name": "stdout",
     "output_type": "stream",
     "text": [
      "0.22999191567265725\n"
     ]
    },
    {
     "name": "stderr",
     "output_type": "stream",
     "text": [
      "Deprecation warning: The class Sphere() is deprecated. Please prefer the function capytaine.meshes.predefined.mesh_sphere()\n",
      "Deprecation warning: The class Sphere() is deprecated. Please prefer the function capytaine.meshes.predefined.mesh_sphere()\n"
     ]
    },
    {
     "name": "stdout",
     "output_type": "stream",
     "text": [
      "0.2313479899887344\n"
     ]
    },
    {
     "name": "stderr",
     "output_type": "stream",
     "text": [
      "Deprecation warning: The class Sphere() is deprecated. Please prefer the function capytaine.meshes.predefined.mesh_sphere()\n",
      "Deprecation warning: The class Sphere() is deprecated. Please prefer the function capytaine.meshes.predefined.mesh_sphere()\n"
     ]
    },
    {
     "name": "stdout",
     "output_type": "stream",
     "text": [
      "0.2300869968781309\n"
     ]
    },
    {
     "name": "stderr",
     "output_type": "stream",
     "text": [
      "Deprecation warning: The class Sphere() is deprecated. Please prefer the function capytaine.meshes.predefined.mesh_sphere()\n",
      "Deprecation warning: The class Sphere() is deprecated. Please prefer the function capytaine.meshes.predefined.mesh_sphere()\n"
     ]
    },
    {
     "name": "stdout",
     "output_type": "stream",
     "text": [
      "0.230539527811777\n"
     ]
    },
    {
     "name": "stderr",
     "output_type": "stream",
     "text": [
      "Deprecation warning: The class Sphere() is deprecated. Please prefer the function capytaine.meshes.predefined.mesh_sphere()\n",
      "Deprecation warning: The class Sphere() is deprecated. Please prefer the function capytaine.meshes.predefined.mesh_sphere()\n"
     ]
    },
    {
     "name": "stdout",
     "output_type": "stream",
     "text": [
      "0.2301266179869249\n"
     ]
    },
    {
     "name": "stderr",
     "output_type": "stream",
     "text": [
      "Deprecation warning: The class Sphere() is deprecated. Please prefer the function capytaine.meshes.predefined.mesh_sphere()\n",
      "Deprecation warning: The class Sphere() is deprecated. Please prefer the function capytaine.meshes.predefined.mesh_sphere()\n"
     ]
    },
    {
     "name": "stdout",
     "output_type": "stream",
     "text": [
      "0.23071059030298172\n"
     ]
    },
    {
     "name": "stderr",
     "output_type": "stream",
     "text": [
      "Deprecation warning: The class Sphere() is deprecated. Please prefer the function capytaine.meshes.predefined.mesh_sphere()\n",
      "Deprecation warning: The class Sphere() is deprecated. Please prefer the function capytaine.meshes.predefined.mesh_sphere()\n"
     ]
    },
    {
     "name": "stdout",
     "output_type": "stream",
     "text": [
      "0.23006290369584045\n"
     ]
    },
    {
     "name": "stderr",
     "output_type": "stream",
     "text": [
      "Deprecation warning: The class Sphere() is deprecated. Please prefer the function capytaine.meshes.predefined.mesh_sphere()\n",
      "Deprecation warning: The class Sphere() is deprecated. Please prefer the function capytaine.meshes.predefined.mesh_sphere()\n"
     ]
    },
    {
     "name": "stdout",
     "output_type": "stream",
     "text": [
      "0.23048353866488872\n"
     ]
    },
    {
     "name": "stderr",
     "output_type": "stream",
     "text": [
      "Deprecation warning: The class Sphere() is deprecated. Please prefer the function capytaine.meshes.predefined.mesh_sphere()\n",
      "Deprecation warning: The class Sphere() is deprecated. Please prefer the function capytaine.meshes.predefined.mesh_sphere()\n"
     ]
    },
    {
     "name": "stdout",
     "output_type": "stream",
     "text": [
      "0.2299991796423771\n"
     ]
    },
    {
     "name": "stderr",
     "output_type": "stream",
     "text": [
      "Deprecation warning: The class Sphere() is deprecated. Please prefer the function capytaine.meshes.predefined.mesh_sphere()\n",
      "Deprecation warning: The class Sphere() is deprecated. Please prefer the function capytaine.meshes.predefined.mesh_sphere()\n"
     ]
    },
    {
     "name": "stdout",
     "output_type": "stream",
     "text": [
      "0.23000028581735205\n"
     ]
    },
    {
     "name": "stderr",
     "output_type": "stream",
     "text": [
      "Deprecation warning: The class Sphere() is deprecated. Please prefer the function capytaine.meshes.predefined.mesh_sphere()\n",
      "Deprecation warning: The class Sphere() is deprecated. Please prefer the function capytaine.meshes.predefined.mesh_sphere()\n"
     ]
    },
    {
     "name": "stdout",
     "output_type": "stream",
     "text": [
      "0.23002808067731215\n"
     ]
    },
    {
     "name": "stderr",
     "output_type": "stream",
     "text": [
      "Deprecation warning: The class Sphere() is deprecated. Please prefer the function capytaine.meshes.predefined.mesh_sphere()\n",
      "Deprecation warning: The class Sphere() is deprecated. Please prefer the function capytaine.meshes.predefined.mesh_sphere()\n"
     ]
    },
    {
     "name": "stdout",
     "output_type": "stream",
     "text": [
      "0.23000998538844003\n"
     ]
    },
    {
     "name": "stderr",
     "output_type": "stream",
     "text": [
      "Deprecation warning: The class Sphere() is deprecated. Please prefer the function capytaine.meshes.predefined.mesh_sphere()\n",
      "Deprecation warning: The class Sphere() is deprecated. Please prefer the function capytaine.meshes.predefined.mesh_sphere()\n"
     ]
    },
    {
     "name": "stdout",
     "output_type": "stream",
     "text": [
      "0.2300039627164936\n"
     ]
    },
    {
     "name": "stderr",
     "output_type": "stream",
     "text": [
      "Deprecation warning: The class Sphere() is deprecated. Please prefer the function capytaine.meshes.predefined.mesh_sphere()\n",
      "Deprecation warning: The class Sphere() is deprecated. Please prefer the function capytaine.meshes.predefined.mesh_sphere()\n"
     ]
    },
    {
     "name": "stdout",
     "output_type": "stream",
     "text": [
      "0.23004170494872977\n"
     ]
    },
    {
     "name": "stderr",
     "output_type": "stream",
     "text": [
      "Deprecation warning: The class Sphere() is deprecated. Please prefer the function capytaine.meshes.predefined.mesh_sphere()\n",
      "Deprecation warning: The class Sphere() is deprecated. Please prefer the function capytaine.meshes.predefined.mesh_sphere()\n"
     ]
    },
    {
     "name": "stdout",
     "output_type": "stream",
     "text": [
      "0.22997325357657178\n"
     ]
    },
    {
     "name": "stderr",
     "output_type": "stream",
     "text": [
      "Deprecation warning: The class Sphere() is deprecated. Please prefer the function capytaine.meshes.predefined.mesh_sphere()\n",
      "Deprecation warning: The class Sphere() is deprecated. Please prefer the function capytaine.meshes.predefined.mesh_sphere()\n"
     ]
    },
    {
     "name": "stdout",
     "output_type": "stream",
     "text": [
      "0.23006915110748613\n"
     ]
    },
    {
     "name": "stderr",
     "output_type": "stream",
     "text": [
      "Deprecation warning: The class Sphere() is deprecated. Please prefer the function capytaine.meshes.predefined.mesh_sphere()\n",
      "Deprecation warning: The class Sphere() is deprecated. Please prefer the function capytaine.meshes.predefined.mesh_sphere()\n"
     ]
    },
    {
     "name": "stdout",
     "output_type": "stream",
     "text": [
      "0.22996424224554968\n"
     ]
    },
    {
     "name": "stderr",
     "output_type": "stream",
     "text": [
      "Deprecation warning: The class Sphere() is deprecated. Please prefer the function capytaine.meshes.predefined.mesh_sphere()\n",
      "Deprecation warning: The class Sphere() is deprecated. Please prefer the function capytaine.meshes.predefined.mesh_sphere()\n"
     ]
    },
    {
     "name": "stdout",
     "output_type": "stream",
     "text": [
      "0.23005345638510238\n"
     ]
    },
    {
     "name": "stderr",
     "output_type": "stream",
     "text": [
      "Deprecation warning: The class Sphere() is deprecated. Please prefer the function capytaine.meshes.predefined.mesh_sphere()\n",
      "Deprecation warning: The class Sphere() is deprecated. Please prefer the function capytaine.meshes.predefined.mesh_sphere()\n"
     ]
    },
    {
     "name": "stdout",
     "output_type": "stream",
     "text": [
      "0.22996424750533695\n"
     ]
    },
    {
     "name": "stderr",
     "output_type": "stream",
     "text": [
      "Deprecation warning: The class Sphere() is deprecated. Please prefer the function capytaine.meshes.predefined.mesh_sphere()\n",
      "Deprecation warning: The class Sphere() is deprecated. Please prefer the function capytaine.meshes.predefined.mesh_sphere()\n"
     ]
    },
    {
     "name": "stdout",
     "output_type": "stream",
     "text": [
      "0.23020459224271272\n"
     ]
    },
    {
     "name": "stderr",
     "output_type": "stream",
     "text": [
      "Deprecation warning: The class Sphere() is deprecated. Please prefer the function capytaine.meshes.predefined.mesh_sphere()\n",
      "Deprecation warning: The class Sphere() is deprecated. Please prefer the function capytaine.meshes.predefined.mesh_sphere()\n"
     ]
    },
    {
     "name": "stdout",
     "output_type": "stream",
     "text": [
      "0.22995102806768963\n"
     ]
    },
    {
     "name": "stderr",
     "output_type": "stream",
     "text": [
      "Deprecation warning: The class Sphere() is deprecated. Please prefer the function capytaine.meshes.predefined.mesh_sphere()\n",
      "Deprecation warning: The class Sphere() is deprecated. Please prefer the function capytaine.meshes.predefined.mesh_sphere()\n"
     ]
    },
    {
     "name": "stdout",
     "output_type": "stream",
     "text": [
      "0.2299671562556244\n"
     ]
    },
    {
     "name": "stderr",
     "output_type": "stream",
     "text": [
      "Deprecation warning: The class Sphere() is deprecated. Please prefer the function capytaine.meshes.predefined.mesh_sphere()\n",
      "Deprecation warning: The class Sphere() is deprecated. Please prefer the function capytaine.meshes.predefined.mesh_sphere()\n"
     ]
    },
    {
     "name": "stdout",
     "output_type": "stream",
     "text": [
      "0.2299367539357523\n"
     ]
    },
    {
     "name": "stderr",
     "output_type": "stream",
     "text": [
      "Deprecation warning: The class Sphere() is deprecated. Please prefer the function capytaine.meshes.predefined.mesh_sphere()\n",
      "Deprecation warning: The class Sphere() is deprecated. Please prefer the function capytaine.meshes.predefined.mesh_sphere()\n"
     ]
    },
    {
     "name": "stdout",
     "output_type": "stream",
     "text": [
      "0.22995030349161594\n"
     ]
    },
    {
     "name": "stderr",
     "output_type": "stream",
     "text": [
      "Deprecation warning: The class Sphere() is deprecated. Please prefer the function capytaine.meshes.predefined.mesh_sphere()\n",
      "Deprecation warning: The class Sphere() is deprecated. Please prefer the function capytaine.meshes.predefined.mesh_sphere()\n"
     ]
    },
    {
     "name": "stdout",
     "output_type": "stream",
     "text": [
      "0.22991442697492367\n"
     ]
    },
    {
     "name": "stderr",
     "output_type": "stream",
     "text": [
      "Deprecation warning: The class Sphere() is deprecated. Please prefer the function capytaine.meshes.predefined.mesh_sphere()\n",
      "Deprecation warning: The class Sphere() is deprecated. Please prefer the function capytaine.meshes.predefined.mesh_sphere()\n"
     ]
    },
    {
     "name": "stdout",
     "output_type": "stream",
     "text": [
      "0.2298838823036666\n"
     ]
    },
    {
     "name": "stderr",
     "output_type": "stream",
     "text": [
      "Deprecation warning: The class Sphere() is deprecated. Please prefer the function capytaine.meshes.predefined.mesh_sphere()\n",
      "Deprecation warning: The class Sphere() is deprecated. Please prefer the function capytaine.meshes.predefined.mesh_sphere()\n"
     ]
    },
    {
     "name": "stdout",
     "output_type": "stream",
     "text": [
      "0.22997676833626002\n"
     ]
    },
    {
     "name": "stderr",
     "output_type": "stream",
     "text": [
      "Deprecation warning: The class Sphere() is deprecated. Please prefer the function capytaine.meshes.predefined.mesh_sphere()\n",
      "Deprecation warning: The class Sphere() is deprecated. Please prefer the function capytaine.meshes.predefined.mesh_sphere()\n"
     ]
    },
    {
     "name": "stdout",
     "output_type": "stream",
     "text": [
      "0.22994429713014453\n"
     ]
    },
    {
     "name": "stderr",
     "output_type": "stream",
     "text": [
      "Deprecation warning: The class Sphere() is deprecated. Please prefer the function capytaine.meshes.predefined.mesh_sphere()\n",
      "Deprecation warning: The class Sphere() is deprecated. Please prefer the function capytaine.meshes.predefined.mesh_sphere()\n"
     ]
    },
    {
     "name": "stdout",
     "output_type": "stream",
     "text": [
      "0.229913726305582\n"
     ]
    },
    {
     "name": "stderr",
     "output_type": "stream",
     "text": [
      "Deprecation warning: The class Sphere() is deprecated. Please prefer the function capytaine.meshes.predefined.mesh_sphere()\n",
      "Deprecation warning: The class Sphere() is deprecated. Please prefer the function capytaine.meshes.predefined.mesh_sphere()\n"
     ]
    },
    {
     "name": "stdout",
     "output_type": "stream",
     "text": [
      "0.2299549693535805\n"
     ]
    },
    {
     "name": "stderr",
     "output_type": "stream",
     "text": [
      "Deprecation warning: The class Sphere() is deprecated. Please prefer the function capytaine.meshes.predefined.mesh_sphere()\n",
      "Deprecation warning: The class Sphere() is deprecated. Please prefer the function capytaine.meshes.predefined.mesh_sphere()\n"
     ]
    },
    {
     "name": "stdout",
     "output_type": "stream",
     "text": [
      "0.22987839193919585\n"
     ]
    },
    {
     "name": "stderr",
     "output_type": "stream",
     "text": [
      "Deprecation warning: The class Sphere() is deprecated. Please prefer the function capytaine.meshes.predefined.mesh_sphere()\n",
      "Deprecation warning: The class Sphere() is deprecated. Please prefer the function capytaine.meshes.predefined.mesh_sphere()\n"
     ]
    },
    {
     "name": "stdout",
     "output_type": "stream",
     "text": [
      "0.22983590794819966\n"
     ]
    },
    {
     "name": "stderr",
     "output_type": "stream",
     "text": [
      "Deprecation warning: The class Sphere() is deprecated. Please prefer the function capytaine.meshes.predefined.mesh_sphere()\n",
      "Deprecation warning: The class Sphere() is deprecated. Please prefer the function capytaine.meshes.predefined.mesh_sphere()\n"
     ]
    },
    {
     "name": "stdout",
     "output_type": "stream",
     "text": [
      "0.22992649848901275\n"
     ]
    },
    {
     "name": "stderr",
     "output_type": "stream",
     "text": [
      "Deprecation warning: The class Sphere() is deprecated. Please prefer the function capytaine.meshes.predefined.mesh_sphere()\n",
      "Deprecation warning: The class Sphere() is deprecated. Please prefer the function capytaine.meshes.predefined.mesh_sphere()\n"
     ]
    },
    {
     "name": "stdout",
     "output_type": "stream",
     "text": [
      "0.22987501684157188\n"
     ]
    },
    {
     "name": "stderr",
     "output_type": "stream",
     "text": [
      "Deprecation warning: The class Sphere() is deprecated. Please prefer the function capytaine.meshes.predefined.mesh_sphere()\n",
      "Deprecation warning: The class Sphere() is deprecated. Please prefer the function capytaine.meshes.predefined.mesh_sphere()\n"
     ]
    },
    {
     "name": "stdout",
     "output_type": "stream",
     "text": [
      "0.22982672849289815\n"
     ]
    },
    {
     "name": "stderr",
     "output_type": "stream",
     "text": [
      "Deprecation warning: The class Sphere() is deprecated. Please prefer the function capytaine.meshes.predefined.mesh_sphere()\n",
      "Deprecation warning: The class Sphere() is deprecated. Please prefer the function capytaine.meshes.predefined.mesh_sphere()\n"
     ]
    },
    {
     "name": "stdout",
     "output_type": "stream",
     "text": [
      "0.22976951682942992\n"
     ]
    },
    {
     "name": "stderr",
     "output_type": "stream",
     "text": [
      "Deprecation warning: The class Sphere() is deprecated. Please prefer the function capytaine.meshes.predefined.mesh_sphere()\n",
      "Deprecation warning: The class Sphere() is deprecated. Please prefer the function capytaine.meshes.predefined.mesh_sphere()\n"
     ]
    },
    {
     "name": "stdout",
     "output_type": "stream",
     "text": [
      "0.22984043858438563\n"
     ]
    },
    {
     "name": "stderr",
     "output_type": "stream",
     "text": [
      "Deprecation warning: The class Sphere() is deprecated. Please prefer the function capytaine.meshes.predefined.mesh_sphere()\n",
      "Deprecation warning: The class Sphere() is deprecated. Please prefer the function capytaine.meshes.predefined.mesh_sphere()\n"
     ]
    },
    {
     "name": "stdout",
     "output_type": "stream",
     "text": [
      "0.22978403238674372\n"
     ]
    },
    {
     "name": "stderr",
     "output_type": "stream",
     "text": [
      "Deprecation warning: The class Sphere() is deprecated. Please prefer the function capytaine.meshes.predefined.mesh_sphere()\n",
      "Deprecation warning: The class Sphere() is deprecated. Please prefer the function capytaine.meshes.predefined.mesh_sphere()\n"
     ]
    },
    {
     "name": "stdout",
     "output_type": "stream",
     "text": [
      "0.22973120664028784\n"
     ]
    },
    {
     "name": "stderr",
     "output_type": "stream",
     "text": [
      "Deprecation warning: The class Sphere() is deprecated. Please prefer the function capytaine.meshes.predefined.mesh_sphere()\n",
      "Deprecation warning: The class Sphere() is deprecated. Please prefer the function capytaine.meshes.predefined.mesh_sphere()\n"
     ]
    },
    {
     "name": "stdout",
     "output_type": "stream",
     "text": [
      "0.22964389747243477\n"
     ]
    },
    {
     "name": "stderr",
     "output_type": "stream",
     "text": [
      "Deprecation warning: The class Sphere() is deprecated. Please prefer the function capytaine.meshes.predefined.mesh_sphere()\n",
      "Deprecation warning: The class Sphere() is deprecated. Please prefer the function capytaine.meshes.predefined.mesh_sphere()\n"
     ]
    },
    {
     "name": "stdout",
     "output_type": "stream",
     "text": [
      "0.2296892860367668\n"
     ]
    },
    {
     "name": "stderr",
     "output_type": "stream",
     "text": [
      "Deprecation warning: The class Sphere() is deprecated. Please prefer the function capytaine.meshes.predefined.mesh_sphere()\n",
      "Deprecation warning: The class Sphere() is deprecated. Please prefer the function capytaine.meshes.predefined.mesh_sphere()\n"
     ]
    },
    {
     "name": "stdout",
     "output_type": "stream",
     "text": [
      "0.22964865594857314\n"
     ]
    },
    {
     "name": "stderr",
     "output_type": "stream",
     "text": [
      "Deprecation warning: The class Sphere() is deprecated. Please prefer the function capytaine.meshes.predefined.mesh_sphere()\n",
      "Deprecation warning: The class Sphere() is deprecated. Please prefer the function capytaine.meshes.predefined.mesh_sphere()\n"
     ]
    },
    {
     "name": "stdout",
     "output_type": "stream",
     "text": [
      "0.22971224145248625\n"
     ]
    },
    {
     "name": "stderr",
     "output_type": "stream",
     "text": [
      "Deprecation warning: The class Sphere() is deprecated. Please prefer the function capytaine.meshes.predefined.mesh_sphere()\n",
      "Deprecation warning: The class Sphere() is deprecated. Please prefer the function capytaine.meshes.predefined.mesh_sphere()\n"
     ]
    },
    {
     "name": "stdout",
     "output_type": "stream",
     "text": [
      "0.2295598076134281\n"
     ]
    },
    {
     "name": "stderr",
     "output_type": "stream",
     "text": [
      "Deprecation warning: The class Sphere() is deprecated. Please prefer the function capytaine.meshes.predefined.mesh_sphere()\n",
      "Deprecation warning: The class Sphere() is deprecated. Please prefer the function capytaine.meshes.predefined.mesh_sphere()\n"
     ]
    },
    {
     "name": "stdout",
     "output_type": "stream",
     "text": [
      "0.22942269657741907\n"
     ]
    },
    {
     "name": "stderr",
     "output_type": "stream",
     "text": [
      "Deprecation warning: The class Sphere() is deprecated. Please prefer the function capytaine.meshes.predefined.mesh_sphere()\n",
      "Deprecation warning: The class Sphere() is deprecated. Please prefer the function capytaine.meshes.predefined.mesh_sphere()\n"
     ]
    },
    {
     "name": "stdout",
     "output_type": "stream",
     "text": [
      "0.2294905793727275\n"
     ]
    },
    {
     "name": "stderr",
     "output_type": "stream",
     "text": [
      "Deprecation warning: The class Sphere() is deprecated. Please prefer the function capytaine.meshes.predefined.mesh_sphere()\n",
      "Deprecation warning: The class Sphere() is deprecated. Please prefer the function capytaine.meshes.predefined.mesh_sphere()\n"
     ]
    },
    {
     "name": "stdout",
     "output_type": "stream",
     "text": [
      "0.22941761163910293\n"
     ]
    },
    {
     "name": "stderr",
     "output_type": "stream",
     "text": [
      "Deprecation warning: The class Sphere() is deprecated. Please prefer the function capytaine.meshes.predefined.mesh_sphere()\n",
      "Deprecation warning: The class Sphere() is deprecated. Please prefer the function capytaine.meshes.predefined.mesh_sphere()\n"
     ]
    },
    {
     "name": "stdout",
     "output_type": "stream",
     "text": [
      "0.2292492457455463\n"
     ]
    },
    {
     "name": "stderr",
     "output_type": "stream",
     "text": [
      "Deprecation warning: The class Sphere() is deprecated. Please prefer the function capytaine.meshes.predefined.mesh_sphere()\n",
      "Deprecation warning: The class Sphere() is deprecated. Please prefer the function capytaine.meshes.predefined.mesh_sphere()\n"
     ]
    },
    {
     "name": "stdout",
     "output_type": "stream",
     "text": [
      "0.22939493015358056\n"
     ]
    },
    {
     "name": "stderr",
     "output_type": "stream",
     "text": [
      "Deprecation warning: The class Sphere() is deprecated. Please prefer the function capytaine.meshes.predefined.mesh_sphere()\n",
      "Deprecation warning: The class Sphere() is deprecated. Please prefer the function capytaine.meshes.predefined.mesh_sphere()\n"
     ]
    },
    {
     "name": "stdout",
     "output_type": "stream",
     "text": [
      "0.2292897483305035\n"
     ]
    },
    {
     "name": "stderr",
     "output_type": "stream",
     "text": [
      "Deprecation warning: The class Sphere() is deprecated. Please prefer the function capytaine.meshes.predefined.mesh_sphere()\n",
      "Deprecation warning: The class Sphere() is deprecated. Please prefer the function capytaine.meshes.predefined.mesh_sphere()\n"
     ]
    },
    {
     "name": "stdout",
     "output_type": "stream",
     "text": [
      "0.22915869147791276\n"
     ]
    },
    {
     "name": "stderr",
     "output_type": "stream",
     "text": [
      "Deprecation warning: The class Sphere() is deprecated. Please prefer the function capytaine.meshes.predefined.mesh_sphere()\n",
      "Deprecation warning: The class Sphere() is deprecated. Please prefer the function capytaine.meshes.predefined.mesh_sphere()\n"
     ]
    },
    {
     "name": "stdout",
     "output_type": "stream",
     "text": [
      "0.22891447698900114\n"
     ]
    },
    {
     "name": "stderr",
     "output_type": "stream",
     "text": [
      "Deprecation warning: The class Sphere() is deprecated. Please prefer the function capytaine.meshes.predefined.mesh_sphere()\n",
      "Deprecation warning: The class Sphere() is deprecated. Please prefer the function capytaine.meshes.predefined.mesh_sphere()\n"
     ]
    },
    {
     "name": "stdout",
     "output_type": "stream",
     "text": [
      "0.2289238228439734\n"
     ]
    },
    {
     "name": "stderr",
     "output_type": "stream",
     "text": [
      "Deprecation warning: The class Sphere() is deprecated. Please prefer the function capytaine.meshes.predefined.mesh_sphere()\n",
      "Deprecation warning: The class Sphere() is deprecated. Please prefer the function capytaine.meshes.predefined.mesh_sphere()\n"
     ]
    },
    {
     "name": "stdout",
     "output_type": "stream",
     "text": [
      "0.2288852984889197\n"
     ]
    },
    {
     "name": "stderr",
     "output_type": "stream",
     "text": [
      "Deprecation warning: The class Sphere() is deprecated. Please prefer the function capytaine.meshes.predefined.mesh_sphere()\n",
      "Deprecation warning: The class Sphere() is deprecated. Please prefer the function capytaine.meshes.predefined.mesh_sphere()\n"
     ]
    },
    {
     "name": "stdout",
     "output_type": "stream",
     "text": [
      "0.22858447945642504\n"
     ]
    },
    {
     "name": "stderr",
     "output_type": "stream",
     "text": [
      "Deprecation warning: The class Sphere() is deprecated. Please prefer the function capytaine.meshes.predefined.mesh_sphere()\n",
      "Deprecation warning: The class Sphere() is deprecated. Please prefer the function capytaine.meshes.predefined.mesh_sphere()\n"
     ]
    },
    {
     "name": "stdout",
     "output_type": "stream",
     "text": [
      "0.2286732331736411\n"
     ]
    },
    {
     "name": "stderr",
     "output_type": "stream",
     "text": [
      "Deprecation warning: The class Sphere() is deprecated. Please prefer the function capytaine.meshes.predefined.mesh_sphere()\n",
      "Deprecation warning: The class Sphere() is deprecated. Please prefer the function capytaine.meshes.predefined.mesh_sphere()\n"
     ]
    },
    {
     "name": "stdout",
     "output_type": "stream",
     "text": [
      "0.22861281409150924\n"
     ]
    },
    {
     "name": "stderr",
     "output_type": "stream",
     "text": [
      "Deprecation warning: The class Sphere() is deprecated. Please prefer the function capytaine.meshes.predefined.mesh_sphere()\n",
      "Deprecation warning: The class Sphere() is deprecated. Please prefer the function capytaine.meshes.predefined.mesh_sphere()\n"
     ]
    },
    {
     "name": "stdout",
     "output_type": "stream",
     "text": [
      "0.22834603695992803\n"
     ]
    },
    {
     "name": "stderr",
     "output_type": "stream",
     "text": [
      "Deprecation warning: The class Sphere() is deprecated. Please prefer the function capytaine.meshes.predefined.mesh_sphere()\n",
      "Deprecation warning: The class Sphere() is deprecated. Please prefer the function capytaine.meshes.predefined.mesh_sphere()\n"
     ]
    },
    {
     "name": "stdout",
     "output_type": "stream",
     "text": [
      "0.22788269804151298\n"
     ]
    },
    {
     "name": "stderr",
     "output_type": "stream",
     "text": [
      "Deprecation warning: The class Sphere() is deprecated. Please prefer the function capytaine.meshes.predefined.mesh_sphere()\n",
      "Deprecation warning: The class Sphere() is deprecated. Please prefer the function capytaine.meshes.predefined.mesh_sphere()\n"
     ]
    },
    {
     "name": "stdout",
     "output_type": "stream",
     "text": [
      "0.22792801132564436\n"
     ]
    },
    {
     "name": "stderr",
     "output_type": "stream",
     "text": [
      "Deprecation warning: The class Sphere() is deprecated. Please prefer the function capytaine.meshes.predefined.mesh_sphere()\n",
      "Deprecation warning: The class Sphere() is deprecated. Please prefer the function capytaine.meshes.predefined.mesh_sphere()\n"
     ]
    },
    {
     "name": "stdout",
     "output_type": "stream",
     "text": [
      "0.22791938945575824\n"
     ]
    },
    {
     "name": "stderr",
     "output_type": "stream",
     "text": [
      "Deprecation warning: The class Sphere() is deprecated. Please prefer the function capytaine.meshes.predefined.mesh_sphere()\n",
      "Deprecation warning: The class Sphere() is deprecated. Please prefer the function capytaine.meshes.predefined.mesh_sphere()\n"
     ]
    },
    {
     "name": "stdout",
     "output_type": "stream",
     "text": [
      "0.22761497840872197\n"
     ]
    },
    {
     "name": "stderr",
     "output_type": "stream",
     "text": [
      "Deprecation warning: The class Sphere() is deprecated. Please prefer the function capytaine.meshes.predefined.mesh_sphere()\n",
      "Deprecation warning: The class Sphere() is deprecated. Please prefer the function capytaine.meshes.predefined.mesh_sphere()\n"
     ]
    },
    {
     "name": "stdout",
     "output_type": "stream",
     "text": [
      "0.2269938206023752\n"
     ]
    },
    {
     "name": "stderr",
     "output_type": "stream",
     "text": [
      "Deprecation warning: The class Sphere() is deprecated. Please prefer the function capytaine.meshes.predefined.mesh_sphere()\n",
      "Deprecation warning: The class Sphere() is deprecated. Please prefer the function capytaine.meshes.predefined.mesh_sphere()\n"
     ]
    },
    {
     "name": "stdout",
     "output_type": "stream",
     "text": [
      "0.22729546995541777\n"
     ]
    },
    {
     "name": "stderr",
     "output_type": "stream",
     "text": [
      "Deprecation warning: The class Sphere() is deprecated. Please prefer the function capytaine.meshes.predefined.mesh_sphere()\n",
      "Deprecation warning: The class Sphere() is deprecated. Please prefer the function capytaine.meshes.predefined.mesh_sphere()\n"
     ]
    },
    {
     "name": "stdout",
     "output_type": "stream",
     "text": [
      "0.22698543277973954\n"
     ]
    },
    {
     "name": "stderr",
     "output_type": "stream",
     "text": [
      "Deprecation warning: The class Sphere() is deprecated. Please prefer the function capytaine.meshes.predefined.mesh_sphere()\n",
      "Deprecation warning: The class Sphere() is deprecated. Please prefer the function capytaine.meshes.predefined.mesh_sphere()\n"
     ]
    },
    {
     "name": "stdout",
     "output_type": "stream",
     "text": [
      "0.22630531380171445\n"
     ]
    },
    {
     "name": "stderr",
     "output_type": "stream",
     "text": [
      "Deprecation warning: The class Sphere() is deprecated. Please prefer the function capytaine.meshes.predefined.mesh_sphere()\n",
      "Deprecation warning: The class Sphere() is deprecated. Please prefer the function capytaine.meshes.predefined.mesh_sphere()\n"
     ]
    },
    {
     "name": "stdout",
     "output_type": "stream",
     "text": [
      "0.22613226046984386\n"
     ]
    },
    {
     "name": "stderr",
     "output_type": "stream",
     "text": [
      "Deprecation warning: The class Sphere() is deprecated. Please prefer the function capytaine.meshes.predefined.mesh_sphere()\n",
      "Deprecation warning: The class Sphere() is deprecated. Please prefer the function capytaine.meshes.predefined.mesh_sphere()\n"
     ]
    },
    {
     "name": "stdout",
     "output_type": "stream",
     "text": [
      "0.22492480603357606\n"
     ]
    },
    {
     "name": "stderr",
     "output_type": "stream",
     "text": [
      "Deprecation warning: The class Sphere() is deprecated. Please prefer the function capytaine.meshes.predefined.mesh_sphere()\n",
      "Deprecation warning: The class Sphere() is deprecated. Please prefer the function capytaine.meshes.predefined.mesh_sphere()\n"
     ]
    },
    {
     "name": "stdout",
     "output_type": "stream",
     "text": [
      "0.22577993143273362\n"
     ]
    },
    {
     "name": "stderr",
     "output_type": "stream",
     "text": [
      "Deprecation warning: The class Sphere() is deprecated. Please prefer the function capytaine.meshes.predefined.mesh_sphere()\n",
      "Deprecation warning: The class Sphere() is deprecated. Please prefer the function capytaine.meshes.predefined.mesh_sphere()\n"
     ]
    },
    {
     "name": "stdout",
     "output_type": "stream",
     "text": [
      "0.2250847880290849\n"
     ]
    },
    {
     "name": "stderr",
     "output_type": "stream",
     "text": [
      "Deprecation warning: The class Sphere() is deprecated. Please prefer the function capytaine.meshes.predefined.mesh_sphere()\n",
      "Deprecation warning: The class Sphere() is deprecated. Please prefer the function capytaine.meshes.predefined.mesh_sphere()\n"
     ]
    },
    {
     "name": "stdout",
     "output_type": "stream",
     "text": [
      "0.22420965590538697\n"
     ]
    },
    {
     "name": "stderr",
     "output_type": "stream",
     "text": [
      "Deprecation warning: The class Sphere() is deprecated. Please prefer the function capytaine.meshes.predefined.mesh_sphere()\n",
      "Deprecation warning: The class Sphere() is deprecated. Please prefer the function capytaine.meshes.predefined.mesh_sphere()\n"
     ]
    },
    {
     "name": "stdout",
     "output_type": "stream",
     "text": [
      "0.22242779006159863\n"
     ]
    },
    {
     "name": "stderr",
     "output_type": "stream",
     "text": [
      "Deprecation warning: The class Sphere() is deprecated. Please prefer the function capytaine.meshes.predefined.mesh_sphere()\n",
      "Deprecation warning: The class Sphere() is deprecated. Please prefer the function capytaine.meshes.predefined.mesh_sphere()\n"
     ]
    },
    {
     "name": "stdout",
     "output_type": "stream",
     "text": [
      "0.2232235984522009\n"
     ]
    },
    {
     "name": "stderr",
     "output_type": "stream",
     "text": [
      "Deprecation warning: The class Sphere() is deprecated. Please prefer the function capytaine.meshes.predefined.mesh_sphere()\n",
      "Deprecation warning: The class Sphere() is deprecated. Please prefer the function capytaine.meshes.predefined.mesh_sphere()\n"
     ]
    },
    {
     "name": "stdout",
     "output_type": "stream",
     "text": [
      "0.22238070170247137\n"
     ]
    },
    {
     "name": "stderr",
     "output_type": "stream",
     "text": [
      "Deprecation warning: The class Sphere() is deprecated. Please prefer the function capytaine.meshes.predefined.mesh_sphere()\n",
      "Deprecation warning: The class Sphere() is deprecated. Please prefer the function capytaine.meshes.predefined.mesh_sphere()\n"
     ]
    },
    {
     "name": "stdout",
     "output_type": "stream",
     "text": [
      "0.22098265757619248\n"
     ]
    },
    {
     "name": "stderr",
     "output_type": "stream",
     "text": [
      "Deprecation warning: The class Sphere() is deprecated. Please prefer the function capytaine.meshes.predefined.mesh_sphere()\n",
      "Deprecation warning: The class Sphere() is deprecated. Please prefer the function capytaine.meshes.predefined.mesh_sphere()\n"
     ]
    },
    {
     "name": "stdout",
     "output_type": "stream",
     "text": [
      "0.22120052719960026\n"
     ]
    },
    {
     "name": "stderr",
     "output_type": "stream",
     "text": [
      "Deprecation warning: The class Sphere() is deprecated. Please prefer the function capytaine.meshes.predefined.mesh_sphere()\n",
      "Deprecation warning: The class Sphere() is deprecated. Please prefer the function capytaine.meshes.predefined.mesh_sphere()\n"
     ]
    },
    {
     "name": "stdout",
     "output_type": "stream",
     "text": [
      "0.22079370679372393\n"
     ]
    },
    {
     "name": "stderr",
     "output_type": "stream",
     "text": [
      "Deprecation warning: The class Sphere() is deprecated. Please prefer the function capytaine.meshes.predefined.mesh_sphere()\n",
      "Deprecation warning: The class Sphere() is deprecated. Please prefer the function capytaine.meshes.predefined.mesh_sphere()\n"
     ]
    },
    {
     "name": "stdout",
     "output_type": "stream",
     "text": [
      "0.22107105216950054\n"
     ]
    },
    {
     "name": "stderr",
     "output_type": "stream",
     "text": [
      "Deprecation warning: The class Sphere() is deprecated. Please prefer the function capytaine.meshes.predefined.mesh_sphere()\n",
      "Deprecation warning: The class Sphere() is deprecated. Please prefer the function capytaine.meshes.predefined.mesh_sphere()\n"
     ]
    },
    {
     "name": "stdout",
     "output_type": "stream",
     "text": [
      "0.22090841407859677\n"
     ]
    },
    {
     "name": "stderr",
     "output_type": "stream",
     "text": [
      "Deprecation warning: The class Sphere() is deprecated. Please prefer the function capytaine.meshes.predefined.mesh_sphere()\n",
      "Deprecation warning: The class Sphere() is deprecated. Please prefer the function capytaine.meshes.predefined.mesh_sphere()\n"
     ]
    },
    {
     "name": "stdout",
     "output_type": "stream",
     "text": [
      "0.22109536142849626\n"
     ]
    },
    {
     "name": "stderr",
     "output_type": "stream",
     "text": [
      "Deprecation warning: The class Sphere() is deprecated. Please prefer the function capytaine.meshes.predefined.mesh_sphere()\n",
      "Deprecation warning: The class Sphere() is deprecated. Please prefer the function capytaine.meshes.predefined.mesh_sphere()\n"
     ]
    },
    {
     "name": "stdout",
     "output_type": "stream",
     "text": [
      "0.22110174483671768\n"
     ]
    },
    {
     "name": "stderr",
     "output_type": "stream",
     "text": [
      "Deprecation warning: The class Sphere() is deprecated. Please prefer the function capytaine.meshes.predefined.mesh_sphere()\n",
      "Deprecation warning: The class Sphere() is deprecated. Please prefer the function capytaine.meshes.predefined.mesh_sphere()\n"
     ]
    },
    {
     "name": "stdout",
     "output_type": "stream",
     "text": [
      "0.2213929404655864\n"
     ]
    },
    {
     "name": "stderr",
     "output_type": "stream",
     "text": [
      "Deprecation warning: The class Sphere() is deprecated. Please prefer the function capytaine.meshes.predefined.mesh_sphere()\n",
      "Deprecation warning: The class Sphere() is deprecated. Please prefer the function capytaine.meshes.predefined.mesh_sphere()\n"
     ]
    },
    {
     "name": "stdout",
     "output_type": "stream",
     "text": [
      "0.22111068857323737\n"
     ]
    },
    {
     "name": "stderr",
     "output_type": "stream",
     "text": [
      "Deprecation warning: The class Sphere() is deprecated. Please prefer the function capytaine.meshes.predefined.mesh_sphere()\n",
      "Deprecation warning: The class Sphere() is deprecated. Please prefer the function capytaine.meshes.predefined.mesh_sphere()\n"
     ]
    },
    {
     "name": "stdout",
     "output_type": "stream",
     "text": [
      "0.2215899706653209\n"
     ]
    },
    {
     "name": "stderr",
     "output_type": "stream",
     "text": [
      "Deprecation warning: The class Sphere() is deprecated. Please prefer the function capytaine.meshes.predefined.mesh_sphere()\n",
      "Deprecation warning: The class Sphere() is deprecated. Please prefer the function capytaine.meshes.predefined.mesh_sphere()\n"
     ]
    },
    {
     "name": "stdout",
     "output_type": "stream",
     "text": [
      "0.22103436508922733\n"
     ]
    },
    {
     "name": "stderr",
     "output_type": "stream",
     "text": [
      "Deprecation warning: The class Sphere() is deprecated. Please prefer the function capytaine.meshes.predefined.mesh_sphere()\n",
      "Deprecation warning: The class Sphere() is deprecated. Please prefer the function capytaine.meshes.predefined.mesh_sphere()\n"
     ]
    },
    {
     "name": "stdout",
     "output_type": "stream",
     "text": [
      "0.22084684665754245\n"
     ]
    },
    {
     "name": "stderr",
     "output_type": "stream",
     "text": [
      "Deprecation warning: The class Sphere() is deprecated. Please prefer the function capytaine.meshes.predefined.mesh_sphere()\n",
      "Deprecation warning: The class Sphere() is deprecated. Please prefer the function capytaine.meshes.predefined.mesh_sphere()\n"
     ]
    },
    {
     "name": "stdout",
     "output_type": "stream",
     "text": [
      "0.22073810783963368\n"
     ]
    },
    {
     "name": "stderr",
     "output_type": "stream",
     "text": [
      "Deprecation warning: The class Sphere() is deprecated. Please prefer the function capytaine.meshes.predefined.mesh_sphere()\n",
      "Deprecation warning: The class Sphere() is deprecated. Please prefer the function capytaine.meshes.predefined.mesh_sphere()\n"
     ]
    },
    {
     "name": "stdout",
     "output_type": "stream",
     "text": [
      "0.22057609154332836\n"
     ]
    },
    {
     "name": "stderr",
     "output_type": "stream",
     "text": [
      "Deprecation warning: The class Sphere() is deprecated. Please prefer the function capytaine.meshes.predefined.mesh_sphere()\n",
      "Deprecation warning: The class Sphere() is deprecated. Please prefer the function capytaine.meshes.predefined.mesh_sphere()\n"
     ]
    },
    {
     "name": "stdout",
     "output_type": "stream",
     "text": [
      "0.22055717742869102\n"
     ]
    },
    {
     "name": "stderr",
     "output_type": "stream",
     "text": [
      "Deprecation warning: The class Sphere() is deprecated. Please prefer the function capytaine.meshes.predefined.mesh_sphere()\n",
      "Deprecation warning: The class Sphere() is deprecated. Please prefer the function capytaine.meshes.predefined.mesh_sphere()\n"
     ]
    },
    {
     "name": "stdout",
     "output_type": "stream",
     "text": [
      "0.22029661352565108\n"
     ]
    },
    {
     "name": "stderr",
     "output_type": "stream",
     "text": [
      "Deprecation warning: The class Sphere() is deprecated. Please prefer the function capytaine.meshes.predefined.mesh_sphere()\n",
      "Deprecation warning: The class Sphere() is deprecated. Please prefer the function capytaine.meshes.predefined.mesh_sphere()\n"
     ]
    },
    {
     "name": "stdout",
     "output_type": "stream",
     "text": [
      "0.22052215437520492\n"
     ]
    },
    {
     "name": "stderr",
     "output_type": "stream",
     "text": [
      "Deprecation warning: The class Sphere() is deprecated. Please prefer the function capytaine.meshes.predefined.mesh_sphere()\n",
      "Deprecation warning: The class Sphere() is deprecated. Please prefer the function capytaine.meshes.predefined.mesh_sphere()\n"
     ]
    },
    {
     "name": "stdout",
     "output_type": "stream",
     "text": [
      "0.22053356702981358\n"
     ]
    },
    {
     "name": "stderr",
     "output_type": "stream",
     "text": [
      "Deprecation warning: The class Sphere() is deprecated. Please prefer the function capytaine.meshes.predefined.mesh_sphere()\n",
      "Deprecation warning: The class Sphere() is deprecated. Please prefer the function capytaine.meshes.predefined.mesh_sphere()\n"
     ]
    },
    {
     "name": "stdout",
     "output_type": "stream",
     "text": [
      "0.22021330925126906\n"
     ]
    },
    {
     "name": "stderr",
     "output_type": "stream",
     "text": [
      "Deprecation warning: The class Sphere() is deprecated. Please prefer the function capytaine.meshes.predefined.mesh_sphere()\n",
      "Deprecation warning: The class Sphere() is deprecated. Please prefer the function capytaine.meshes.predefined.mesh_sphere()\n"
     ]
    },
    {
     "name": "stdout",
     "output_type": "stream",
     "text": [
      "0.2202302035554921\n"
     ]
    },
    {
     "name": "stderr",
     "output_type": "stream",
     "text": [
      "Deprecation warning: The class Sphere() is deprecated. Please prefer the function capytaine.meshes.predefined.mesh_sphere()\n",
      "Deprecation warning: The class Sphere() is deprecated. Please prefer the function capytaine.meshes.predefined.mesh_sphere()\n"
     ]
    },
    {
     "name": "stdout",
     "output_type": "stream",
     "text": [
      "0.22013642459546884\n"
     ]
    },
    {
     "name": "stderr",
     "output_type": "stream",
     "text": [
      "Deprecation warning: The class Sphere() is deprecated. Please prefer the function capytaine.meshes.predefined.mesh_sphere()\n",
      "Deprecation warning: The class Sphere() is deprecated. Please prefer the function capytaine.meshes.predefined.mesh_sphere()\n"
     ]
    },
    {
     "name": "stdout",
     "output_type": "stream",
     "text": [
      "0.22024142392959958\n"
     ]
    },
    {
     "name": "stderr",
     "output_type": "stream",
     "text": [
      "Deprecation warning: The class Sphere() is deprecated. Please prefer the function capytaine.meshes.predefined.mesh_sphere()\n",
      "Deprecation warning: The class Sphere() is deprecated. Please prefer the function capytaine.meshes.predefined.mesh_sphere()\n"
     ]
    },
    {
     "name": "stdout",
     "output_type": "stream",
     "text": [
      "0.2202476996516573\n"
     ]
    },
    {
     "name": "stderr",
     "output_type": "stream",
     "text": [
      "Deprecation warning: The class Sphere() is deprecated. Please prefer the function capytaine.meshes.predefined.mesh_sphere()\n",
      "Deprecation warning: The class Sphere() is deprecated. Please prefer the function capytaine.meshes.predefined.mesh_sphere()\n"
     ]
    },
    {
     "name": "stdout",
     "output_type": "stream",
     "text": [
      "0.22012607045398846\n"
     ]
    },
    {
     "name": "stderr",
     "output_type": "stream",
     "text": [
      "Deprecation warning: The class Sphere() is deprecated. Please prefer the function capytaine.meshes.predefined.mesh_sphere()\n",
      "Deprecation warning: The class Sphere() is deprecated. Please prefer the function capytaine.meshes.predefined.mesh_sphere()\n"
     ]
    },
    {
     "name": "stdout",
     "output_type": "stream",
     "text": [
      "0.22019698472314184\n"
     ]
    },
    {
     "name": "stderr",
     "output_type": "stream",
     "text": [
      "Deprecation warning: The class Sphere() is deprecated. Please prefer the function capytaine.meshes.predefined.mesh_sphere()\n",
      "Deprecation warning: The class Sphere() is deprecated. Please prefer the function capytaine.meshes.predefined.mesh_sphere()\n"
     ]
    },
    {
     "name": "stdout",
     "output_type": "stream",
     "text": [
      "0.22037036120983391\n"
     ]
    },
    {
     "name": "stderr",
     "output_type": "stream",
     "text": [
      "Deprecation warning: The class Sphere() is deprecated. Please prefer the function capytaine.meshes.predefined.mesh_sphere()\n",
      "Deprecation warning: The class Sphere() is deprecated. Please prefer the function capytaine.meshes.predefined.mesh_sphere()\n"
     ]
    },
    {
     "name": "stdout",
     "output_type": "stream",
     "text": [
      "0.22034091031103828\n"
     ]
    },
    {
     "name": "stderr",
     "output_type": "stream",
     "text": [
      "Deprecation warning: The class Sphere() is deprecated. Please prefer the function capytaine.meshes.predefined.mesh_sphere()\n",
      "Deprecation warning: The class Sphere() is deprecated. Please prefer the function capytaine.meshes.predefined.mesh_sphere()\n"
     ]
    },
    {
     "name": "stdout",
     "output_type": "stream",
     "text": [
      "0.22041206371306074\n"
     ]
    },
    {
     "name": "stderr",
     "output_type": "stream",
     "text": [
      "Deprecation warning: The class Sphere() is deprecated. Please prefer the function capytaine.meshes.predefined.mesh_sphere()\n",
      "Deprecation warning: The class Sphere() is deprecated. Please prefer the function capytaine.meshes.predefined.mesh_sphere()\n"
     ]
    },
    {
     "name": "stdout",
     "output_type": "stream",
     "text": [
      "0.22025050228048568\n"
     ]
    },
    {
     "name": "stderr",
     "output_type": "stream",
     "text": [
      "Deprecation warning: The class Sphere() is deprecated. Please prefer the function capytaine.meshes.predefined.mesh_sphere()\n",
      "Deprecation warning: The class Sphere() is deprecated. Please prefer the function capytaine.meshes.predefined.mesh_sphere()\n"
     ]
    },
    {
     "name": "stdout",
     "output_type": "stream",
     "text": [
      "0.2200966697408576\n"
     ]
    },
    {
     "name": "stderr",
     "output_type": "stream",
     "text": [
      "Deprecation warning: The class Sphere() is deprecated. Please prefer the function capytaine.meshes.predefined.mesh_sphere()\n",
      "Deprecation warning: The class Sphere() is deprecated. Please prefer the function capytaine.meshes.predefined.mesh_sphere()\n"
     ]
    },
    {
     "name": "stdout",
     "output_type": "stream",
     "text": [
      "0.22022596095912172\n"
     ]
    },
    {
     "name": "stderr",
     "output_type": "stream",
     "text": [
      "Deprecation warning: The class Sphere() is deprecated. Please prefer the function capytaine.meshes.predefined.mesh_sphere()\n",
      "Deprecation warning: The class Sphere() is deprecated. Please prefer the function capytaine.meshes.predefined.mesh_sphere()\n"
     ]
    },
    {
     "name": "stdout",
     "output_type": "stream",
     "text": [
      "0.22015664731335344\n"
     ]
    },
    {
     "name": "stderr",
     "output_type": "stream",
     "text": [
      "Deprecation warning: The class Sphere() is deprecated. Please prefer the function capytaine.meshes.predefined.mesh_sphere()\n",
      "Deprecation warning: The class Sphere() is deprecated. Please prefer the function capytaine.meshes.predefined.mesh_sphere()\n"
     ]
    },
    {
     "name": "stdout",
     "output_type": "stream",
     "text": [
      "0.22007298772537404\n"
     ]
    },
    {
     "name": "stderr",
     "output_type": "stream",
     "text": [
      "Deprecation warning: The class Sphere() is deprecated. Please prefer the function capytaine.meshes.predefined.mesh_sphere()\n",
      "Deprecation warning: The class Sphere() is deprecated. Please prefer the function capytaine.meshes.predefined.mesh_sphere()\n"
     ]
    },
    {
     "name": "stdout",
     "output_type": "stream",
     "text": [
      "0.22002521715110557\n"
     ]
    },
    {
     "name": "stderr",
     "output_type": "stream",
     "text": [
      "Deprecation warning: The class Sphere() is deprecated. Please prefer the function capytaine.meshes.predefined.mesh_sphere()\n",
      "Deprecation warning: The class Sphere() is deprecated. Please prefer the function capytaine.meshes.predefined.mesh_sphere()\n"
     ]
    },
    {
     "name": "stdout",
     "output_type": "stream",
     "text": [
      "0.2200116694044345\n"
     ]
    },
    {
     "name": "stderr",
     "output_type": "stream",
     "text": [
      "Deprecation warning: The class Sphere() is deprecated. Please prefer the function capytaine.meshes.predefined.mesh_sphere()\n",
      "Deprecation warning: The class Sphere() is deprecated. Please prefer the function capytaine.meshes.predefined.mesh_sphere()\n"
     ]
    },
    {
     "name": "stdout",
     "output_type": "stream",
     "text": [
      "0.22004243874749174\n"
     ]
    },
    {
     "name": "stderr",
     "output_type": "stream",
     "text": [
      "Deprecation warning: The class Sphere() is deprecated. Please prefer the function capytaine.meshes.predefined.mesh_sphere()\n",
      "Deprecation warning: The class Sphere() is deprecated. Please prefer the function capytaine.meshes.predefined.mesh_sphere()\n"
     ]
    },
    {
     "name": "stdout",
     "output_type": "stream",
     "text": [
      "0.21995888046820808\n"
     ]
    },
    {
     "name": "stderr",
     "output_type": "stream",
     "text": [
      "Deprecation warning: The class Sphere() is deprecated. Please prefer the function capytaine.meshes.predefined.mesh_sphere()\n",
      "Deprecation warning: The class Sphere() is deprecated. Please prefer the function capytaine.meshes.predefined.mesh_sphere()\n"
     ]
    },
    {
     "name": "stdout",
     "output_type": "stream",
     "text": [
      "0.219966280231128\n"
     ]
    },
    {
     "name": "stderr",
     "output_type": "stream",
     "text": [
      "Deprecation warning: The class Sphere() is deprecated. Please prefer the function capytaine.meshes.predefined.mesh_sphere()\n",
      "Deprecation warning: The class Sphere() is deprecated. Please prefer the function capytaine.meshes.predefined.mesh_sphere()\n"
     ]
    },
    {
     "name": "stdout",
     "output_type": "stream",
     "text": [
      "0.22001941677405334\n"
     ]
    },
    {
     "name": "stderr",
     "output_type": "stream",
     "text": [
      "Deprecation warning: The class Sphere() is deprecated. Please prefer the function capytaine.meshes.predefined.mesh_sphere()\n",
      "Deprecation warning: The class Sphere() is deprecated. Please prefer the function capytaine.meshes.predefined.mesh_sphere()\n"
     ]
    },
    {
     "name": "stdout",
     "output_type": "stream",
     "text": [
      "0.22004636056239077\n"
     ]
    },
    {
     "name": "stderr",
     "output_type": "stream",
     "text": [
      "Deprecation warning: The class Sphere() is deprecated. Please prefer the function capytaine.meshes.predefined.mesh_sphere()\n",
      "Deprecation warning: The class Sphere() is deprecated. Please prefer the function capytaine.meshes.predefined.mesh_sphere()\n"
     ]
    },
    {
     "name": "stdout",
     "output_type": "stream",
     "text": [
      "0.2200667439457238\n"
     ]
    },
    {
     "name": "stderr",
     "output_type": "stream",
     "text": [
      "Deprecation warning: The class Sphere() is deprecated. Please prefer the function capytaine.meshes.predefined.mesh_sphere()\n",
      "Deprecation warning: The class Sphere() is deprecated. Please prefer the function capytaine.meshes.predefined.mesh_sphere()\n"
     ]
    },
    {
     "name": "stdout",
     "output_type": "stream",
     "text": [
      "0.2200632753363839\n"
     ]
    },
    {
     "name": "stderr",
     "output_type": "stream",
     "text": [
      "Deprecation warning: The class Sphere() is deprecated. Please prefer the function capytaine.meshes.predefined.mesh_sphere()\n",
      "Deprecation warning: The class Sphere() is deprecated. Please prefer the function capytaine.meshes.predefined.mesh_sphere()\n"
     ]
    },
    {
     "name": "stdout",
     "output_type": "stream",
     "text": [
      "0.2200137496495446\n"
     ]
    },
    {
     "name": "stderr",
     "output_type": "stream",
     "text": [
      "Deprecation warning: The class Sphere() is deprecated. Please prefer the function capytaine.meshes.predefined.mesh_sphere()\n",
      "Deprecation warning: The class Sphere() is deprecated. Please prefer the function capytaine.meshes.predefined.mesh_sphere()\n"
     ]
    },
    {
     "name": "stdout",
     "output_type": "stream",
     "text": [
      "0.22001586152227998\n"
     ]
    },
    {
     "name": "stderr",
     "output_type": "stream",
     "text": [
      "Deprecation warning: The class Sphere() is deprecated. Please prefer the function capytaine.meshes.predefined.mesh_sphere()\n",
      "Deprecation warning: The class Sphere() is deprecated. Please prefer the function capytaine.meshes.predefined.mesh_sphere()\n"
     ]
    },
    {
     "name": "stdout",
     "output_type": "stream",
     "text": [
      "0.21997203698543297\n"
     ]
    },
    {
     "name": "stderr",
     "output_type": "stream",
     "text": [
      "Deprecation warning: The class Sphere() is deprecated. Please prefer the function capytaine.meshes.predefined.mesh_sphere()\n",
      "Deprecation warning: The class Sphere() is deprecated. Please prefer the function capytaine.meshes.predefined.mesh_sphere()\n"
     ]
    },
    {
     "name": "stdout",
     "output_type": "stream",
     "text": [
      "0.21996580067801177\n"
     ]
    },
    {
     "name": "stderr",
     "output_type": "stream",
     "text": [
      "Deprecation warning: The class Sphere() is deprecated. Please prefer the function capytaine.meshes.predefined.mesh_sphere()\n",
      "Deprecation warning: The class Sphere() is deprecated. Please prefer the function capytaine.meshes.predefined.mesh_sphere()\n"
     ]
    },
    {
     "name": "stdout",
     "output_type": "stream",
     "text": [
      "0.2200036948925154\n"
     ]
    },
    {
     "name": "stderr",
     "output_type": "stream",
     "text": [
      "Deprecation warning: The class Sphere() is deprecated. Please prefer the function capytaine.meshes.predefined.mesh_sphere()\n",
      "Deprecation warning: The class Sphere() is deprecated. Please prefer the function capytaine.meshes.predefined.mesh_sphere()\n"
     ]
    },
    {
     "name": "stdout",
     "output_type": "stream",
     "text": [
      "0.21994524756529935\n"
     ]
    },
    {
     "name": "stderr",
     "output_type": "stream",
     "text": [
      "Deprecation warning: The class Sphere() is deprecated. Please prefer the function capytaine.meshes.predefined.mesh_sphere()\n",
      "Deprecation warning: The class Sphere() is deprecated. Please prefer the function capytaine.meshes.predefined.mesh_sphere()\n"
     ]
    },
    {
     "name": "stdout",
     "output_type": "stream",
     "text": [
      "0.21995278912365207\n"
     ]
    },
    {
     "name": "stderr",
     "output_type": "stream",
     "text": [
      "Deprecation warning: The class Sphere() is deprecated. Please prefer the function capytaine.meshes.predefined.mesh_sphere()\n",
      "Deprecation warning: The class Sphere() is deprecated. Please prefer the function capytaine.meshes.predefined.mesh_sphere()\n"
     ]
    },
    {
     "name": "stdout",
     "output_type": "stream",
     "text": [
      "0.2201642163239237\n"
     ]
    },
    {
     "name": "stderr",
     "output_type": "stream",
     "text": [
      "Deprecation warning: The class Sphere() is deprecated. Please prefer the function capytaine.meshes.predefined.mesh_sphere()\n",
      "Deprecation warning: The class Sphere() is deprecated. Please prefer the function capytaine.meshes.predefined.mesh_sphere()\n"
     ]
    },
    {
     "name": "stdout",
     "output_type": "stream",
     "text": [
      "0.21996258530760826\n"
     ]
    },
    {
     "name": "stderr",
     "output_type": "stream",
     "text": [
      "Deprecation warning: The class Sphere() is deprecated. Please prefer the function capytaine.meshes.predefined.mesh_sphere()\n",
      "Deprecation warning: The class Sphere() is deprecated. Please prefer the function capytaine.meshes.predefined.mesh_sphere()\n"
     ]
    },
    {
     "name": "stdout",
     "output_type": "stream",
     "text": [
      "0.21996767248626342\n"
     ]
    },
    {
     "name": "stderr",
     "output_type": "stream",
     "text": [
      "Deprecation warning: The class Sphere() is deprecated. Please prefer the function capytaine.meshes.predefined.mesh_sphere()\n",
      "Deprecation warning: The class Sphere() is deprecated. Please prefer the function capytaine.meshes.predefined.mesh_sphere()\n"
     ]
    },
    {
     "name": "stdout",
     "output_type": "stream",
     "text": [
      "0.21996075239673454\n"
     ]
    },
    {
     "name": "stderr",
     "output_type": "stream",
     "text": [
      "Deprecation warning: The class Sphere() is deprecated. Please prefer the function capytaine.meshes.predefined.mesh_sphere()\n",
      "Deprecation warning: The class Sphere() is deprecated. Please prefer the function capytaine.meshes.predefined.mesh_sphere()\n"
     ]
    },
    {
     "name": "stdout",
     "output_type": "stream",
     "text": [
      "0.21995322343377144\n"
     ]
    },
    {
     "name": "stderr",
     "output_type": "stream",
     "text": [
      "Deprecation warning: The class Sphere() is deprecated. Please prefer the function capytaine.meshes.predefined.mesh_sphere()\n",
      "Deprecation warning: The class Sphere() is deprecated. Please prefer the function capytaine.meshes.predefined.mesh_sphere()\n"
     ]
    },
    {
     "name": "stdout",
     "output_type": "stream",
     "text": [
      "0.21996482581557808\n"
     ]
    },
    {
     "name": "stderr",
     "output_type": "stream",
     "text": [
      "Deprecation warning: The class Sphere() is deprecated. Please prefer the function capytaine.meshes.predefined.mesh_sphere()\n",
      "Deprecation warning: The class Sphere() is deprecated. Please prefer the function capytaine.meshes.predefined.mesh_sphere()\n"
     ]
    },
    {
     "name": "stdout",
     "output_type": "stream",
     "text": [
      "0.2199763467328819\n"
     ]
    },
    {
     "name": "stderr",
     "output_type": "stream",
     "text": [
      "Deprecation warning: The class Sphere() is deprecated. Please prefer the function capytaine.meshes.predefined.mesh_sphere()\n",
      "Deprecation warning: The class Sphere() is deprecated. Please prefer the function capytaine.meshes.predefined.mesh_sphere()\n"
     ]
    },
    {
     "name": "stdout",
     "output_type": "stream",
     "text": [
      "0.2199533225341795\n"
     ]
    },
    {
     "name": "stderr",
     "output_type": "stream",
     "text": [
      "Deprecation warning: The class Sphere() is deprecated. Please prefer the function capytaine.meshes.predefined.mesh_sphere()\n",
      "Deprecation warning: The class Sphere() is deprecated. Please prefer the function capytaine.meshes.predefined.mesh_sphere()\n"
     ]
    },
    {
     "name": "stdout",
     "output_type": "stream",
     "text": [
      "0.21995294866128987\n"
     ]
    },
    {
     "name": "stderr",
     "output_type": "stream",
     "text": [
      "Deprecation warning: The class Sphere() is deprecated. Please prefer the function capytaine.meshes.predefined.mesh_sphere()\n",
      "Deprecation warning: The class Sphere() is deprecated. Please prefer the function capytaine.meshes.predefined.mesh_sphere()\n"
     ]
    },
    {
     "name": "stdout",
     "output_type": "stream",
     "text": [
      "0.2199516210279565\n"
     ]
    },
    {
     "name": "stderr",
     "output_type": "stream",
     "text": [
      "Deprecation warning: The class Sphere() is deprecated. Please prefer the function capytaine.meshes.predefined.mesh_sphere()\n",
      "Deprecation warning: The class Sphere() is deprecated. Please prefer the function capytaine.meshes.predefined.mesh_sphere()\n"
     ]
    },
    {
     "name": "stdout",
     "output_type": "stream",
     "text": [
      "0.21997861906821306\n"
     ]
    },
    {
     "name": "stderr",
     "output_type": "stream",
     "text": [
      "Deprecation warning: The class Sphere() is deprecated. Please prefer the function capytaine.meshes.predefined.mesh_sphere()\n",
      "Deprecation warning: The class Sphere() is deprecated. Please prefer the function capytaine.meshes.predefined.mesh_sphere()\n"
     ]
    },
    {
     "name": "stdout",
     "output_type": "stream",
     "text": [
      "0.21994858119419058\n"
     ]
    },
    {
     "name": "stderr",
     "output_type": "stream",
     "text": [
      "Deprecation warning: The class Sphere() is deprecated. Please prefer the function capytaine.meshes.predefined.mesh_sphere()\n",
      "Deprecation warning: The class Sphere() is deprecated. Please prefer the function capytaine.meshes.predefined.mesh_sphere()\n"
     ]
    },
    {
     "name": "stdout",
     "output_type": "stream",
     "text": [
      "0.21996619952189955\n"
     ]
    },
    {
     "name": "stderr",
     "output_type": "stream",
     "text": [
      "Deprecation warning: The class Sphere() is deprecated. Please prefer the function capytaine.meshes.predefined.mesh_sphere()\n",
      "Deprecation warning: The class Sphere() is deprecated. Please prefer the function capytaine.meshes.predefined.mesh_sphere()\n"
     ]
    },
    {
     "name": "stdout",
     "output_type": "stream",
     "text": [
      "0.2199496680729404\n"
     ]
    },
    {
     "name": "stderr",
     "output_type": "stream",
     "text": [
      "Deprecation warning: The class Sphere() is deprecated. Please prefer the function capytaine.meshes.predefined.mesh_sphere()\n",
      "Deprecation warning: The class Sphere() is deprecated. Please prefer the function capytaine.meshes.predefined.mesh_sphere()\n"
     ]
    },
    {
     "name": "stdout",
     "output_type": "stream",
     "text": [
      "0.21994366517085798\n"
     ]
    },
    {
     "name": "stderr",
     "output_type": "stream",
     "text": [
      "Deprecation warning: The class Sphere() is deprecated. Please prefer the function capytaine.meshes.predefined.mesh_sphere()\n",
      "Deprecation warning: The class Sphere() is deprecated. Please prefer the function capytaine.meshes.predefined.mesh_sphere()\n"
     ]
    },
    {
     "name": "stdout",
     "output_type": "stream",
     "text": [
      "0.2199445615954561\n"
     ]
    },
    {
     "name": "stderr",
     "output_type": "stream",
     "text": [
      "Deprecation warning: The class Sphere() is deprecated. Please prefer the function capytaine.meshes.predefined.mesh_sphere()\n",
      "Deprecation warning: The class Sphere() is deprecated. Please prefer the function capytaine.meshes.predefined.mesh_sphere()\n"
     ]
    },
    {
     "name": "stdout",
     "output_type": "stream",
     "text": [
      "0.219964131109144\n"
     ]
    },
    {
     "name": "stderr",
     "output_type": "stream",
     "text": [
      "Deprecation warning: The class Sphere() is deprecated. Please prefer the function capytaine.meshes.predefined.mesh_sphere()\n",
      "Deprecation warning: The class Sphere() is deprecated. Please prefer the function capytaine.meshes.predefined.mesh_sphere()\n"
     ]
    },
    {
     "name": "stdout",
     "output_type": "stream",
     "text": [
      "0.21994703264208473\n"
     ]
    },
    {
     "name": "stderr",
     "output_type": "stream",
     "text": [
      "Deprecation warning: The class Sphere() is deprecated. Please prefer the function capytaine.meshes.predefined.mesh_sphere()\n",
      "Deprecation warning: The class Sphere() is deprecated. Please prefer the function capytaine.meshes.predefined.mesh_sphere()\n"
     ]
    },
    {
     "name": "stdout",
     "output_type": "stream",
     "text": [
      "0.21994631910818155\n"
     ]
    },
    {
     "name": "stderr",
     "output_type": "stream",
     "text": [
      "Deprecation warning: The class Sphere() is deprecated. Please prefer the function capytaine.meshes.predefined.mesh_sphere()\n",
      "Deprecation warning: The class Sphere() is deprecated. Please prefer the function capytaine.meshes.predefined.mesh_sphere()\n"
     ]
    },
    {
     "name": "stdout",
     "output_type": "stream",
     "text": [
      "0.21995802170532364\n"
     ]
    },
    {
     "name": "stderr",
     "output_type": "stream",
     "text": [
      "Deprecation warning: The class Sphere() is deprecated. Please prefer the function capytaine.meshes.predefined.mesh_sphere()\n",
      "Deprecation warning: The class Sphere() is deprecated. Please prefer the function capytaine.meshes.predefined.mesh_sphere()\n"
     ]
    },
    {
     "name": "stdout",
     "output_type": "stream",
     "text": [
      "0.21994621559767608\n"
     ]
    },
    {
     "name": "stderr",
     "output_type": "stream",
     "text": [
      "Deprecation warning: The class Sphere() is deprecated. Please prefer the function capytaine.meshes.predefined.mesh_sphere()\n",
      "Deprecation warning: The class Sphere() is deprecated. Please prefer the function capytaine.meshes.predefined.mesh_sphere()\n"
     ]
    },
    {
     "name": "stdout",
     "output_type": "stream",
     "text": [
      "0.21995530169905356\n"
     ]
    },
    {
     "name": "stderr",
     "output_type": "stream",
     "text": [
      "Deprecation warning: The class Sphere() is deprecated. Please prefer the function capytaine.meshes.predefined.mesh_sphere()\n",
      "Deprecation warning: The class Sphere() is deprecated. Please prefer the function capytaine.meshes.predefined.mesh_sphere()\n"
     ]
    },
    {
     "name": "stdout",
     "output_type": "stream",
     "text": [
      "0.21994582741209176\n"
     ]
    },
    {
     "name": "stderr",
     "output_type": "stream",
     "text": [
      "Deprecation warning: The class Sphere() is deprecated. Please prefer the function capytaine.meshes.predefined.mesh_sphere()\n",
      "Deprecation warning: The class Sphere() is deprecated. Please prefer the function capytaine.meshes.predefined.mesh_sphere()\n"
     ]
    },
    {
     "name": "stdout",
     "output_type": "stream",
     "text": [
      "0.21994362880676335\n"
     ]
    },
    {
     "name": "stderr",
     "output_type": "stream",
     "text": [
      "Deprecation warning: The class Sphere() is deprecated. Please prefer the function capytaine.meshes.predefined.mesh_sphere()\n",
      "Deprecation warning: The class Sphere() is deprecated. Please prefer the function capytaine.meshes.predefined.mesh_sphere()\n"
     ]
    },
    {
     "name": "stdout",
     "output_type": "stream",
     "text": [
      "0.21994770865365584\n"
     ]
    },
    {
     "name": "stderr",
     "output_type": "stream",
     "text": [
      "Deprecation warning: The class Sphere() is deprecated. Please prefer the function capytaine.meshes.predefined.mesh_sphere()\n",
      "Deprecation warning: The class Sphere() is deprecated. Please prefer the function capytaine.meshes.predefined.mesh_sphere()\n"
     ]
    },
    {
     "name": "stdout",
     "output_type": "stream",
     "text": [
      "0.21994456425150782\n"
     ]
    },
    {
     "name": "stderr",
     "output_type": "stream",
     "text": [
      "Deprecation warning: The class Sphere() is deprecated. Please prefer the function capytaine.meshes.predefined.mesh_sphere()\n",
      "Deprecation warning: The class Sphere() is deprecated. Please prefer the function capytaine.meshes.predefined.mesh_sphere()\n"
     ]
    },
    {
     "name": "stdout",
     "output_type": "stream",
     "text": [
      "0.21995403024520582\n"
     ]
    },
    {
     "name": "stderr",
     "output_type": "stream",
     "text": [
      "Deprecation warning: The class Sphere() is deprecated. Please prefer the function capytaine.meshes.predefined.mesh_sphere()\n",
      "Deprecation warning: The class Sphere() is deprecated. Please prefer the function capytaine.meshes.predefined.mesh_sphere()\n"
     ]
    },
    {
     "name": "stdout",
     "output_type": "stream",
     "text": [
      "0.21994414470369897\n"
     ]
    },
    {
     "name": "stderr",
     "output_type": "stream",
     "text": [
      "Deprecation warning: The class Sphere() is deprecated. Please prefer the function capytaine.meshes.predefined.mesh_sphere()\n",
      "Deprecation warning: The class Sphere() is deprecated. Please prefer the function capytaine.meshes.predefined.mesh_sphere()\n"
     ]
    },
    {
     "name": "stdout",
     "output_type": "stream",
     "text": [
      "0.2199442563727816\n"
     ]
    },
    {
     "name": "stderr",
     "output_type": "stream",
     "text": [
      "Deprecation warning: The class Sphere() is deprecated. Please prefer the function capytaine.meshes.predefined.mesh_sphere()\n",
      "Deprecation warning: The class Sphere() is deprecated. Please prefer the function capytaine.meshes.predefined.mesh_sphere()\n"
     ]
    },
    {
     "name": "stdout",
     "output_type": "stream",
     "text": [
      "0.21994466783244163\n"
     ]
    },
    {
     "name": "stderr",
     "output_type": "stream",
     "text": [
      "Deprecation warning: The class Sphere() is deprecated. Please prefer the function capytaine.meshes.predefined.mesh_sphere()\n",
      "Deprecation warning: The class Sphere() is deprecated. Please prefer the function capytaine.meshes.predefined.mesh_sphere()\n"
     ]
    },
    {
     "name": "stdout",
     "output_type": "stream",
     "text": [
      "0.21994391751286058\n"
     ]
    },
    {
     "name": "stderr",
     "output_type": "stream",
     "text": [
      "Deprecation warning: The class Sphere() is deprecated. Please prefer the function capytaine.meshes.predefined.mesh_sphere()\n",
      "Deprecation warning: The class Sphere() is deprecated. Please prefer the function capytaine.meshes.predefined.mesh_sphere()\n"
     ]
    },
    {
     "name": "stdout",
     "output_type": "stream",
     "text": [
      "0.21994494244326807\n"
     ]
    },
    {
     "name": "stderr",
     "output_type": "stream",
     "text": [
      "Deprecation warning: The class Sphere() is deprecated. Please prefer the function capytaine.meshes.predefined.mesh_sphere()\n",
      "Deprecation warning: The class Sphere() is deprecated. Please prefer the function capytaine.meshes.predefined.mesh_sphere()\n"
     ]
    },
    {
     "name": "stdout",
     "output_type": "stream",
     "text": [
      "0.21994379918435\n"
     ]
    },
    {
     "name": "stderr",
     "output_type": "stream",
     "text": [
      "Deprecation warning: The class Sphere() is deprecated. Please prefer the function capytaine.meshes.predefined.mesh_sphere()\n",
      "Deprecation warning: The class Sphere() is deprecated. Please prefer the function capytaine.meshes.predefined.mesh_sphere()\n"
     ]
    },
    {
     "name": "stdout",
     "output_type": "stream",
     "text": [
      "0.21994366443896693\n"
     ]
    },
    {
     "name": "stderr",
     "output_type": "stream",
     "text": [
      "Deprecation warning: The class Sphere() is deprecated. Please prefer the function capytaine.meshes.predefined.mesh_sphere()\n",
      "Deprecation warning: The class Sphere() is deprecated. Please prefer the function capytaine.meshes.predefined.mesh_sphere()\n"
     ]
    },
    {
     "name": "stdout",
     "output_type": "stream",
     "text": [
      "0.21994375804768704\n"
     ]
    },
    {
     "name": "stderr",
     "output_type": "stream",
     "text": [
      "Deprecation warning: The class Sphere() is deprecated. Please prefer the function capytaine.meshes.predefined.mesh_sphere()\n",
      "Deprecation warning: The class Sphere() is deprecated. Please prefer the function capytaine.meshes.predefined.mesh_sphere()\n"
     ]
    },
    {
     "name": "stdout",
     "output_type": "stream",
     "text": [
      "0.219945376841125\n"
     ]
    },
    {
     "name": "stderr",
     "output_type": "stream",
     "text": [
      "Deprecation warning: The class Sphere() is deprecated. Please prefer the function capytaine.meshes.predefined.mesh_sphere()\n",
      "Deprecation warning: The class Sphere() is deprecated. Please prefer the function capytaine.meshes.predefined.mesh_sphere()\n"
     ]
    },
    {
     "name": "stdout",
     "output_type": "stream",
     "text": [
      "0.21994357841539852\n"
     ]
    },
    {
     "name": "stderr",
     "output_type": "stream",
     "text": [
      "Deprecation warning: The class Sphere() is deprecated. Please prefer the function capytaine.meshes.predefined.mesh_sphere()\n",
      "Deprecation warning: The class Sphere() is deprecated. Please prefer the function capytaine.meshes.predefined.mesh_sphere()\n"
     ]
    },
    {
     "name": "stdout",
     "output_type": "stream",
     "text": [
      "0.21994396951312328\n"
     ]
    },
    {
     "name": "stderr",
     "output_type": "stream",
     "text": [
      "Deprecation warning: The class Sphere() is deprecated. Please prefer the function capytaine.meshes.predefined.mesh_sphere()\n",
      "Deprecation warning: The class Sphere() is deprecated. Please prefer the function capytaine.meshes.predefined.mesh_sphere()\n"
     ]
    },
    {
     "name": "stdout",
     "output_type": "stream",
     "text": [
      "0.2199434795480051\n"
     ]
    },
    {
     "name": "stderr",
     "output_type": "stream",
     "text": [
      "Deprecation warning: The class Sphere() is deprecated. Please prefer the function capytaine.meshes.predefined.mesh_sphere()\n",
      "Deprecation warning: The class Sphere() is deprecated. Please prefer the function capytaine.meshes.predefined.mesh_sphere()\n"
     ]
    },
    {
     "name": "stdout",
     "output_type": "stream",
     "text": [
      "0.21994342730209343\n"
     ]
    },
    {
     "name": "stderr",
     "output_type": "stream",
     "text": [
      "Deprecation warning: The class Sphere() is deprecated. Please prefer the function capytaine.meshes.predefined.mesh_sphere()\n",
      "Deprecation warning: The class Sphere() is deprecated. Please prefer the function capytaine.meshes.predefined.mesh_sphere()\n"
     ]
    },
    {
     "name": "stdout",
     "output_type": "stream",
     "text": [
      "0.21994566681243904\n"
     ]
    },
    {
     "name": "stderr",
     "output_type": "stream",
     "text": [
      "Deprecation warning: The class Sphere() is deprecated. Please prefer the function capytaine.meshes.predefined.mesh_sphere()\n",
      "Deprecation warning: The class Sphere() is deprecated. Please prefer the function capytaine.meshes.predefined.mesh_sphere()\n"
     ]
    },
    {
     "name": "stdout",
     "output_type": "stream",
     "text": [
      "0.21994348010339002\n"
     ]
    },
    {
     "name": "stderr",
     "output_type": "stream",
     "text": [
      "Deprecation warning: The class Sphere() is deprecated. Please prefer the function capytaine.meshes.predefined.mesh_sphere()\n",
      "Deprecation warning: The class Sphere() is deprecated. Please prefer the function capytaine.meshes.predefined.mesh_sphere()\n"
     ]
    },
    {
     "name": "stdout",
     "output_type": "stream",
     "text": [
      "0.2199427006814764\n"
     ]
    },
    {
     "name": "stderr",
     "output_type": "stream",
     "text": [
      "Deprecation warning: The class Sphere() is deprecated. Please prefer the function capytaine.meshes.predefined.mesh_sphere()\n",
      "Deprecation warning: The class Sphere() is deprecated. Please prefer the function capytaine.meshes.predefined.mesh_sphere()\n"
     ]
    },
    {
     "name": "stdout",
     "output_type": "stream",
     "text": [
      "0.21994335843338744\n"
     ]
    },
    {
     "name": "stderr",
     "output_type": "stream",
     "text": [
      "Deprecation warning: The class Sphere() is deprecated. Please prefer the function capytaine.meshes.predefined.mesh_sphere()\n",
      "Deprecation warning: The class Sphere() is deprecated. Please prefer the function capytaine.meshes.predefined.mesh_sphere()\n"
     ]
    },
    {
     "name": "stdout",
     "output_type": "stream",
     "text": [
      "0.21994487823703282\n"
     ]
    },
    {
     "name": "stderr",
     "output_type": "stream",
     "text": [
      "Deprecation warning: The class Sphere() is deprecated. Please prefer the function capytaine.meshes.predefined.mesh_sphere()\n",
      "Deprecation warning: The class Sphere() is deprecated. Please prefer the function capytaine.meshes.predefined.mesh_sphere()\n"
     ]
    },
    {
     "name": "stdout",
     "output_type": "stream",
     "text": [
      "0.2199431474675055\n"
     ]
    },
    {
     "name": "stderr",
     "output_type": "stream",
     "text": [
      "Deprecation warning: The class Sphere() is deprecated. Please prefer the function capytaine.meshes.predefined.mesh_sphere()\n",
      "Deprecation warning: The class Sphere() is deprecated. Please prefer the function capytaine.meshes.predefined.mesh_sphere()\n"
     ]
    },
    {
     "name": "stdout",
     "output_type": "stream",
     "text": [
      "0.21994372815937188\n"
     ]
    },
    {
     "name": "stderr",
     "output_type": "stream",
     "text": [
      "Deprecation warning: The class Sphere() is deprecated. Please prefer the function capytaine.meshes.predefined.mesh_sphere()\n",
      "Deprecation warning: The class Sphere() is deprecated. Please prefer the function capytaine.meshes.predefined.mesh_sphere()\n"
     ]
    },
    {
     "name": "stdout",
     "output_type": "stream",
     "text": [
      "0.21994324635998752\n"
     ]
    },
    {
     "name": "stderr",
     "output_type": "stream",
     "text": [
      "Deprecation warning: The class Sphere() is deprecated. Please prefer the function capytaine.meshes.predefined.mesh_sphere()\n",
      "Deprecation warning: The class Sphere() is deprecated. Please prefer the function capytaine.meshes.predefined.mesh_sphere()\n"
     ]
    },
    {
     "name": "stdout",
     "output_type": "stream",
     "text": [
      "0.2199428383618929\n"
     ]
    },
    {
     "name": "stderr",
     "output_type": "stream",
     "text": [
      "Deprecation warning: The class Sphere() is deprecated. Please prefer the function capytaine.meshes.predefined.mesh_sphere()\n",
      "Deprecation warning: The class Sphere() is deprecated. Please prefer the function capytaine.meshes.predefined.mesh_sphere()\n"
     ]
    },
    {
     "name": "stdout",
     "output_type": "stream",
     "text": [
      "0.21994476492687237\n"
     ]
    },
    {
     "name": "stderr",
     "output_type": "stream",
     "text": [
      "Deprecation warning: The class Sphere() is deprecated. Please prefer the function capytaine.meshes.predefined.mesh_sphere()\n",
      "Deprecation warning: The class Sphere() is deprecated. Please prefer the function capytaine.meshes.predefined.mesh_sphere()\n"
     ]
    },
    {
     "name": "stdout",
     "output_type": "stream",
     "text": [
      "0.2199431156650276\n"
     ]
    },
    {
     "name": "stderr",
     "output_type": "stream",
     "text": [
      "Deprecation warning: The class Sphere() is deprecated. Please prefer the function capytaine.meshes.predefined.mesh_sphere()\n",
      "Deprecation warning: The class Sphere() is deprecated. Please prefer the function capytaine.meshes.predefined.mesh_sphere()\n"
     ]
    },
    {
     "name": "stdout",
     "output_type": "stream",
     "text": [
      "0.21994250546966107\n"
     ]
    },
    {
     "name": "stderr",
     "output_type": "stream",
     "text": [
      "Deprecation warning: The class Sphere() is deprecated. Please prefer the function capytaine.meshes.predefined.mesh_sphere()\n",
      "Deprecation warning: The class Sphere() is deprecated. Please prefer the function capytaine.meshes.predefined.mesh_sphere()\n"
     ]
    },
    {
     "name": "stdout",
     "output_type": "stream",
     "text": [
      "0.21994211963038265\n"
     ]
    },
    {
     "name": "stderr",
     "output_type": "stream",
     "text": [
      "Deprecation warning: The class Sphere() is deprecated. Please prefer the function capytaine.meshes.predefined.mesh_sphere()\n",
      "Deprecation warning: The class Sphere() is deprecated. Please prefer the function capytaine.meshes.predefined.mesh_sphere()\n"
     ]
    },
    {
     "name": "stdout",
     "output_type": "stream",
     "text": [
      "0.21994289744292553\n"
     ]
    },
    {
     "name": "stderr",
     "output_type": "stream",
     "text": [
      "Deprecation warning: The class Sphere() is deprecated. Please prefer the function capytaine.meshes.predefined.mesh_sphere()\n",
      "Deprecation warning: The class Sphere() is deprecated. Please prefer the function capytaine.meshes.predefined.mesh_sphere()\n"
     ]
    },
    {
     "name": "stdout",
     "output_type": "stream",
     "text": [
      "0.219942617455292\n"
     ]
    },
    {
     "name": "stderr",
     "output_type": "stream",
     "text": [
      "Deprecation warning: The class Sphere() is deprecated. Please prefer the function capytaine.meshes.predefined.mesh_sphere()\n",
      "Deprecation warning: The class Sphere() is deprecated. Please prefer the function capytaine.meshes.predefined.mesh_sphere()\n"
     ]
    },
    {
     "name": "stdout",
     "output_type": "stream",
     "text": [
      "0.2199420798577267\n"
     ]
    },
    {
     "name": "stderr",
     "output_type": "stream",
     "text": [
      "Deprecation warning: The class Sphere() is deprecated. Please prefer the function capytaine.meshes.predefined.mesh_sphere()\n",
      "Deprecation warning: The class Sphere() is deprecated. Please prefer the function capytaine.meshes.predefined.mesh_sphere()\n"
     ]
    },
    {
     "name": "stdout",
     "output_type": "stream",
     "text": [
      "0.2199416472736934\n"
     ]
    },
    {
     "name": "stderr",
     "output_type": "stream",
     "text": [
      "Deprecation warning: The class Sphere() is deprecated. Please prefer the function capytaine.meshes.predefined.mesh_sphere()\n",
      "Deprecation warning: The class Sphere() is deprecated. Please prefer the function capytaine.meshes.predefined.mesh_sphere()\n"
     ]
    },
    {
     "name": "stdout",
     "output_type": "stream",
     "text": [
      "0.21994151632841177\n"
     ]
    },
    {
     "name": "stderr",
     "output_type": "stream",
     "text": [
      "Deprecation warning: The class Sphere() is deprecated. Please prefer the function capytaine.meshes.predefined.mesh_sphere()\n",
      "Deprecation warning: The class Sphere() is deprecated. Please prefer the function capytaine.meshes.predefined.mesh_sphere()\n"
     ]
    },
    {
     "name": "stdout",
     "output_type": "stream",
     "text": [
      "0.21994180833389163\n"
     ]
    },
    {
     "name": "stderr",
     "output_type": "stream",
     "text": [
      "Deprecation warning: The class Sphere() is deprecated. Please prefer the function capytaine.meshes.predefined.mesh_sphere()\n",
      "Deprecation warning: The class Sphere() is deprecated. Please prefer the function capytaine.meshes.predefined.mesh_sphere()\n"
     ]
    },
    {
     "name": "stdout",
     "output_type": "stream",
     "text": [
      "0.21994308820685252\n"
     ]
    },
    {
     "name": "stderr",
     "output_type": "stream",
     "text": [
      "Deprecation warning: The class Sphere() is deprecated. Please prefer the function capytaine.meshes.predefined.mesh_sphere()\n",
      "Deprecation warning: The class Sphere() is deprecated. Please prefer the function capytaine.meshes.predefined.mesh_sphere()\n"
     ]
    },
    {
     "name": "stdout",
     "output_type": "stream",
     "text": [
      "0.21994243680193687\n"
     ]
    },
    {
     "name": "stderr",
     "output_type": "stream",
     "text": [
      "Deprecation warning: The class Sphere() is deprecated. Please prefer the function capytaine.meshes.predefined.mesh_sphere()\n",
      "Deprecation warning: The class Sphere() is deprecated. Please prefer the function capytaine.meshes.predefined.mesh_sphere()\n"
     ]
    },
    {
     "name": "stdout",
     "output_type": "stream",
     "text": [
      "0.219942133099134\n"
     ]
    },
    {
     "name": "stderr",
     "output_type": "stream",
     "text": [
      "Deprecation warning: The class Sphere() is deprecated. Please prefer the function capytaine.meshes.predefined.mesh_sphere()\n",
      "Deprecation warning: The class Sphere() is deprecated. Please prefer the function capytaine.meshes.predefined.mesh_sphere()\n"
     ]
    },
    {
     "name": "stdout",
     "output_type": "stream",
     "text": [
      "0.2199414943025369\n"
     ]
    },
    {
     "name": "stderr",
     "output_type": "stream",
     "text": [
      "Deprecation warning: The class Sphere() is deprecated. Please prefer the function capytaine.meshes.predefined.mesh_sphere()\n",
      "Deprecation warning: The class Sphere() is deprecated. Please prefer the function capytaine.meshes.predefined.mesh_sphere()\n"
     ]
    },
    {
     "name": "stdout",
     "output_type": "stream",
     "text": [
      "0.21994137841077258\n"
     ]
    },
    {
     "name": "stderr",
     "output_type": "stream",
     "text": [
      "Deprecation warning: The class Sphere() is deprecated. Please prefer the function capytaine.meshes.predefined.mesh_sphere()\n",
      "Deprecation warning: The class Sphere() is deprecated. Please prefer the function capytaine.meshes.predefined.mesh_sphere()\n"
     ]
    },
    {
     "name": "stdout",
     "output_type": "stream",
     "text": [
      "0.21994089919659449\n"
     ]
    },
    {
     "name": "stderr",
     "output_type": "stream",
     "text": [
      "Deprecation warning: The class Sphere() is deprecated. Please prefer the function capytaine.meshes.predefined.mesh_sphere()\n",
      "Deprecation warning: The class Sphere() is deprecated. Please prefer the function capytaine.meshes.predefined.mesh_sphere()\n"
     ]
    },
    {
     "name": "stdout",
     "output_type": "stream",
     "text": [
      "0.21994055868018894\n"
     ]
    },
    {
     "name": "stderr",
     "output_type": "stream",
     "text": [
      "Deprecation warning: The class Sphere() is deprecated. Please prefer the function capytaine.meshes.predefined.mesh_sphere()\n",
      "Deprecation warning: The class Sphere() is deprecated. Please prefer the function capytaine.meshes.predefined.mesh_sphere()\n"
     ]
    },
    {
     "name": "stdout",
     "output_type": "stream",
     "text": [
      "0.21994091574816385\n"
     ]
    },
    {
     "name": "stderr",
     "output_type": "stream",
     "text": [
      "Deprecation warning: The class Sphere() is deprecated. Please prefer the function capytaine.meshes.predefined.mesh_sphere()\n",
      "Deprecation warning: The class Sphere() is deprecated. Please prefer the function capytaine.meshes.predefined.mesh_sphere()\n"
     ]
    },
    {
     "name": "stdout",
     "output_type": "stream",
     "text": [
      "0.2199413939517892\n"
     ]
    },
    {
     "name": "stderr",
     "output_type": "stream",
     "text": [
      "Deprecation warning: The class Sphere() is deprecated. Please prefer the function capytaine.meshes.predefined.mesh_sphere()\n",
      "Deprecation warning: The class Sphere() is deprecated. Please prefer the function capytaine.meshes.predefined.mesh_sphere()\n"
     ]
    },
    {
     "name": "stdout",
     "output_type": "stream",
     "text": [
      "0.2199401348052499\n"
     ]
    },
    {
     "name": "stderr",
     "output_type": "stream",
     "text": [
      "Deprecation warning: The class Sphere() is deprecated. Please prefer the function capytaine.meshes.predefined.mesh_sphere()\n",
      "Deprecation warning: The class Sphere() is deprecated. Please prefer the function capytaine.meshes.predefined.mesh_sphere()\n"
     ]
    },
    {
     "name": "stdout",
     "output_type": "stream",
     "text": [
      "0.2199399816005209\n"
     ]
    },
    {
     "name": "stderr",
     "output_type": "stream",
     "text": [
      "Deprecation warning: The class Sphere() is deprecated. Please prefer the function capytaine.meshes.predefined.mesh_sphere()\n",
      "Deprecation warning: The class Sphere() is deprecated. Please prefer the function capytaine.meshes.predefined.mesh_sphere()\n"
     ]
    },
    {
     "name": "stdout",
     "output_type": "stream",
     "text": [
      "0.21994011484591755\n"
     ]
    },
    {
     "name": "stderr",
     "output_type": "stream",
     "text": [
      "Deprecation warning: The class Sphere() is deprecated. Please prefer the function capytaine.meshes.predefined.mesh_sphere()\n",
      "Deprecation warning: The class Sphere() is deprecated. Please prefer the function capytaine.meshes.predefined.mesh_sphere()\n"
     ]
    },
    {
     "name": "stdout",
     "output_type": "stream",
     "text": [
      "0.21994036211184123\n"
     ]
    },
    {
     "name": "stderr",
     "output_type": "stream",
     "text": [
      "Deprecation warning: The class Sphere() is deprecated. Please prefer the function capytaine.meshes.predefined.mesh_sphere()\n",
      "Deprecation warning: The class Sphere() is deprecated. Please prefer the function capytaine.meshes.predefined.mesh_sphere()\n"
     ]
    },
    {
     "name": "stdout",
     "output_type": "stream",
     "text": [
      "0.21994038526582158\n"
     ]
    },
    {
     "name": "stderr",
     "output_type": "stream",
     "text": [
      "Deprecation warning: The class Sphere() is deprecated. Please prefer the function capytaine.meshes.predefined.mesh_sphere()\n",
      "Deprecation warning: The class Sphere() is deprecated. Please prefer the function capytaine.meshes.predefined.mesh_sphere()\n"
     ]
    },
    {
     "name": "stdout",
     "output_type": "stream",
     "text": [
      "0.2199415630489341\n"
     ]
    },
    {
     "name": "stderr",
     "output_type": "stream",
     "text": [
      "Deprecation warning: The class Sphere() is deprecated. Please prefer the function capytaine.meshes.predefined.mesh_sphere()\n"
     ]
    },
    {
     "name": "stdout",
     "output_type": "stream",
     "text": [
      "0.2199406698086044\n",
      "Optimization terminated successfully.\n",
      "         Current function value: 0.219940\n",
      "         Iterations: 231\n",
      "         Function evaluations: 354\n"
     ]
    }
   ],
   "source": [
    "# To run A3b code, import the A3 interface and run the desired A3 function: gradient_method or heuristic method\n",
    "import A3_interface as A3\n",
    "\n",
    "# Initial WEC design\n",
    "r = 8\n",
    "L = 40\n",
    "d1 = 100\n",
    "d2 = 200\n",
    "k1 = 400\n",
    "k2 = 300\n",
    "x0 = [r,L,d1,k1,d2,k2]\n",
    "\n",
    "# Parameters\n",
    "omega = 1.047\n",
    "A = 1.5\n",
    "rho_wec = 850\n",
    "n_wec = 2\n",
    "p = [omega,A,rho_wec,n_wec]\n",
    "\n",
    "bnds=[[2.5,15],[30,100],[10,500],[0,500],[10,500],[0,500]]\n",
    "opt={'xatol': 1e-2, 'disp': True}\n",
    "\n",
    "out=A3.gradient_method(x0,p,bnds,opt)\n",
    "\n"
   ]
  },
  {
   "cell_type": "code",
   "execution_count": null,
   "metadata": {},
   "outputs": [],
   "source": []
  }
 ],
 "metadata": {
  "kernelspec": {
   "display_name": "Python 3 (ipykernel)",
   "language": "python",
   "name": "python3"
  },
  "language_info": {
   "codemirror_mode": {
    "name": "ipython",
    "version": 3
   },
   "file_extension": ".py",
   "mimetype": "text/x-python",
   "name": "python",
   "nbconvert_exporter": "python",
   "pygments_lexer": "ipython3",
   "version": "3.10.9"
  }
 },
 "nbformat": 4,
 "nbformat_minor": 2
}
